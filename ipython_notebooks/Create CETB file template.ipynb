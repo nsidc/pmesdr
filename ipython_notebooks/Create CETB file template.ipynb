{
 "cells": [
  {
   "cell_type": "code",
   "execution_count": null,
   "metadata": {
    "collapsed": false
   },
   "outputs": [],
   "source": [
    "%pylab auto\n",
    "from netCDF4 import Dataset\n",
    "import json"
   ]
  },
  {
   "cell_type": "markdown",
   "metadata": {},
   "source": [
    "2015-09-10: TBD fields:\n",
    "\n",
    "The following fields that are defined here are expected to be overwritten at run-time by cetb_file calls:\n",
    "* software_version_id : software release of PMESDR system  - we have a workflow to do this manually\n",
    "* platform            : satellite platform\n",
    "* sensor              : PM sensor\n",
    "* date_created        : date cetb file was created\n",
    "* geospatial_[x-y]_resolution : string with grid resolution and units, e.g. \"25000.0 meters\"\n",
    "* comment             : epoch date of data in file\n",
    "* history             : sir or bgi program name\n",
    "\n",
    "The following fields will not be defined here, but will be appended at run-time:\n",
    "* number_of_input_files : number of swath input files\n",
    "* input_file<N>         : for N=1, number_of_input_files, this includes the input file name and the gsx version used to produce it"
   ]
  },
  {
   "cell_type": "code",
   "execution_count": null,
   "metadata": {
    "collapsed": false
   },
   "outputs": [],
   "source": [
    "product_version = 0.02\n",
    "fid = Dataset('/home/vagrant/measures-byu/src/prod/cetb_file/templates/cetb_global_template.nc', 'w', format='NETCDF4')\n",
    "fid.Conventions = \"CF-1.6\"\n",
    "fid.title = \"MEaSUREs Calibrated Passive Microwave Daily EASE-Grid 2.0 Brightness Temperature ESDR\"\n",
    "fid.product_version = \"v%.2f\" % product_version\n",
    "fid.software_version_id = \"TBD\"\n",
    "fid.software_repository = \"git@bitbucket.org:nsidc/measures-byu.git\"\n",
    "fid.history = \"\"\n",
    "fid.comment = \"\"\n",
    "fid.references = [\"Data set documentation: http://nsidc.org/data/nsidc-0630.html\\n\",\n",
    "                  \"Algorithm Theoretical Basis Document: http://nsidc.org/pmesdr/files/2015/09/MEaSUREs_CETB_ATBD_v0.10.pdf\\n\" ]\n",
    "fid.summary = [\"An improved, enhanced-resolution, gridded passive microwave Earth System Data Record \\n\",\n",
    "               \"for monitoring cryospheric and hydrologic time series\\n\" ]\n",
    "fid.institution = [\"National Snow and Ice Data Center\\n\",\n",
    "                   \"Cooperative Institute for Research in Environmental Sciences\\n\",\n",
    "                   \"University of Colorado at Boulder\\n\",\n",
    "                   \"Boulder, CO\"]\n",
    "fid.publisher = [\"National Snow and Ice Data Center\\n\",\n",
    "                   \"Cooperative Institute for Research in Environmental Sciences\\n\",\n",
    "                   \"University of Colorado at Boulder\\n\",\n",
    "                   \"Boulder, CO\"]\n",
    "fid.publisher_url = \"http://nsidc.org\"\n",
    "fid.publisher_email = \"nsidc@nsidc.org\"\n",
    "fid.project = \"NASA 2012 MEaSUREs (Making Earth System Data Records for Use in Research Environments)\"\n",
    "fid.standard_name_vocabulary = \"CF Standard Name Table (v27, 28 September 2013)\"\n",
    "fid.cdm_data_type = \"grid\"\n",
    "fid.keywords = \"EARTH SCIENCE > SPECTRAL/ENGINEERING > MICROWAVE > BRIGHTNESS TEMPERATURE\" \n",
    "fid.keywords_vocabulary = \"NASA Global Change Master Directory (GCMD) Earth Science Keywords, Version 8.1\"\n",
    "fid.platform = \"TBD\"\n",
    "fid.sensor = \"TBD\"\n",
    "fid.geospatial_x_resolution = \"TBD\"\n",
    "fid.geospatial_y_resolution = \"TBD\"\n",
    "fid.naming_authority = \"org.doi.dx\"\n",
    "fid.id = \"10.5067/MEASURES/CRYOSPHERE/nsidc-0630.001\"\n",
    "fid.date_created = \"TBD\"\n",
    "fid.acknowledgement = [\"This data set was created with funding from NASA MEaSUREs Grant #NNX13AI23A.\\n\",\n",
    "                       \"Data archiving and distribution is supported by the NASA NSIDC Distributed Active Archive Center (DAAC).\"]\n",
    "fid.license = \"No constraints on data access or use\"\n",
    "fid.processing_level = \"Level 3\"\n",
    "fid.creator_name = \"Mary J. Brodzik\"\n",
    "fid.creator_email = \"brodzik@nsidc.org\"\n",
    "fid.creator_url = \"http://nsidc.org/pmesdr\"\n",
    "fid.contributor_name = \"Mary J. Brodzik, David G. Long, Molly A. Hardman, Aaron C. Paget\"\n",
    "fid.contributor_role = \"Principal Investigator, Co-Investigator, Developer, Contributor\"\n",
    "product_version_str = \"Version %.2f.\\n\" % product_version\n",
    "fid.citation = [\"Brodzik, M. J., D. G. Long, M. A. Hardman, A. C. Paget. 2015.\\n\",\n",
    "                \"MEaSUREs Calibrated Passive Microwave Daily EASE-Grid 2.0 Brightness Temperature ESDR.\\n\",\n",
    "                product_version_str,\n",
    "                \"[Indicate subset used].\\n\",\n",
    "                \"Boulder, Colorado USA: NASA DAAC at the National Snow and Ice Data Center.\"]\n"
   ]
  },
  {
   "cell_type": "markdown",
   "metadata": {},
   "source": [
    "## Add projection information\n",
    "\n",
    "The following fields that are defined here are expected to be overwritten at run-time by cetb_file calls:\n",
    "\n",
    "* crs.long_name : should be the \"gpd name\", that is, the concatenation of region_name and resolution"
   ]
  },
  {
   "cell_type": "code",
   "execution_count": null,
   "metadata": {
    "collapsed": false
   },
   "outputs": [],
   "source": [
    "references = json.dumps([ \"EASE-Grid 2.0 documentation: http://nsidc.org/data/ease/ease_grid2.html\",\n",
    "                         \"Brodzik, Mary J.; Billingsley, Brendan; Haran, Terry; Raup, Bruce; Savoie, Matthew H. 2012.\",\n",
    "                         \"EASE-Grid 2.0: Incremental but Significant Improvements for Earth-Gridded Data Sets.\",\n",
    "                         \"ISPRS Int. J. Geo-Inf. 1, no. 1: 32-45.\",\n",
    "                         \"Brodzik, Mary J.; Billingsley, Brendan; Haran, Terry; Raup, Bruce; Savoie, Matthew H. 2014.\",\n",
    "                         \"Correction: Brodzik, M. J., et al. EASE-Grid 2.0: Incremental but Significant Improvements for Earth-Gridded Data Sets.\",\n",
    "                         \"ISPRS Int. J. Geo-Inf. 3, no. 3: 1154-1156.\"\n",
    "                        ])\n",
    "\n",
    "# EASE-Grid 2.0 North\n",
    "crsN = fid.createVariable( 'crs_EASE2_N', 'S1', () )\n",
    "crsN.long_name = \"TBD\"\n",
    "crsN.grid_mapping_name = \"lambert_azimuthal_equal_area\"\n",
    "crsN.longitude_of_projection_origin = 0.0\n",
    "crsN.latitude_of_projection_origin = 90.0\n",
    "crsN.false_easting = 0.0\n",
    "crsN.false_northing = 0.0\n",
    "crsN.semi_major_axis = 6378137.0\n",
    "crsN.inverse_flattening = 298.257223563\n",
    "crsN.proj4text = \"+proj=laea +lat_0=90 +lon_0=0 +x_0=0 +y_0=0 +ellps=WGS84 +datum=WGS84 +units=m\"\n",
    "crsN.srid = \"urn:ogc:def:crs:EPSG::6931\"\n",
    "crsN.references = references\n",
    "crsN.crs_wkt = \"PROJCRS[\\\"WGS 84 / NSIDC EASE-Grid 2.0 North\\\", BASEGEODCRS[\\\"WGS 84\\\", DATUM[\\\"World Geodetic System 1984\\\", ELLIPSOID[\\\"WGS 84\\\",6378137,298.257223563,LENGTHUNIT[\\\"metre\\\",1.0]]]], CONVERSION[\\\"US NSIDC EASE-Grid 2.0 North\\\", METHOD[\\\"Lambert Azimuthal Equal Area\\\",ID[\\\"EPSG\\\",9820]], PARAMETER[\\\"Latitude of natural origin\\\",90,ANGLEUNIT[\\\"degree\\\",0.01745329252]], PARAMETER[\\\"Longitude of natural origin\\\",0,ANGLEUNIT[\\\"degree\\\",0.01745329252]], PARAMETER[\\\"False easting\\\",0,LENGTHUNIT[\\\"metre\\\",1.0]], PARAMETER[\\\"False northing\\\",0,LENGTHUNIT[\\\"metre\\\",1.0]]], CS[cartesian,2], AXIS[\\\"easting (X)\\\",south,MERIDIAN[90,ANGLEUNIT[\\\"degree\\\",0.01745329252]],ORDER[1]], AXIS[\\\"northing (Y)\\\",south,MERIDIAN[180,ANGLEUNIT[\\\"degree\\\",0.01745329252]],ORDER[2]], LENGTHUNIT[\\\"metre\\\",1.0], ID[\\\"EPSG\\\",6931]]\"\n",
    "\n",
    "# EASE-Grid 2.0 South\n",
    "crsS = fid.createVariable( 'crs_EASE2_S', 'S1', () )\n",
    "crsS.long_name = \"TBD\"\n",
    "crsS.grid_mapping_name = \"lambert_azimuthal_equal_area\"\n",
    "crsS.longitude_of_projection_origin = 0.0\n",
    "crsS.latitude_of_projection_origin = -90.0\n",
    "crsS.false_easting = 0.0\n",
    "crsS.false_northing = 0.0\n",
    "crsS.semi_major_axis = 6378137.0\n",
    "crsS.inverse_flattening = 298.257223563\n",
    "crsS.proj4text = \"+proj=laea +lat_0=-90 +lon_0=0 +x_0=0 +y_0=0 +ellps=WGS84 +datum=WGS84 +units=m\"\n",
    "crsS.srid = \"urn:ogc:def:crs:EPSG::6932\"\n",
    "crsS.references = references\n",
    "crsS.crs_wkt = \"PROJCRS[\\\"WGS 84 / NSIDC EASE-Grid 2.0 South\\\", BASEGEODCRS[\\\"WGS 84\\\", DATUM[\\\"World Geodetic System 1984\\\", ELLIPSOID[\\\"WGS 84\\\",6378137,298.257223563,LENGTHUNIT[\\\"metre\\\",1.0]]]], CONVERSION[\\\"US NSIDC EASE-Grid 2.0 South\\\", METHOD[\\\"Lambert Azimuthal Equal Area\\\",ID[\\\"EPSG\\\",9820]], PARAMETER[\\\"Latitude of natural origin\\\",-90,ANGLEUNIT[\\\"degree\\\",0.01745329252]], PARAMETER[\\\"Longitude of natural origin\\\",0,ANGLEUNIT[\\\"degree\\\",0.01745329252]], PARAMETER[\\\"False easting\\\",0,LENGTHUNIT[\\\"metre\\\",1.0]], PARAMETER[\\\"False northing\\\",0,LENGTHUNIT[\\\"metre\\\",1.0]]], CS[cartesian,2], AXIS[\\\"easting (X)\\\",north,MERIDIAN[90,ANGLEUNIT[\\\"degree\\\",0.01745329252]],ORDER[1]], AXIS[\\\"northing (Y)\\\",north,MERIDIAN[0,ANGLEUNIT[\\\"degree\\\",0.01745329252]],ORDER[2]], LENGTHUNIT[\\\"metre\\\",1.0], ID[\\\"EPSG\\\",6932]]\"\n",
    "\n",
    "# EASE-Grid 2.0 Temperate/Tropical\n",
    "# CF convention http://cfconventions.org/Data/cf-conventions/cf-conventions-1.7/build/apf.html\n",
    "# says cylindrical projection needs:\n",
    "# longitude_of_central_meridian\n",
    "# standard_parallel OR scale_factor_at_projection_origin (we will only include standard_parallel)\n",
    "# false_easting\n",
    "# false northing\n",
    "# Work with Robert Schmunk at GISS on Panoply indicates that CEA needs to include\n",
    "# semi_major_axis and semi_minor_axis OR inverse_flattening in order for Panoply to know what to do\n",
    "crsT = fid.createVariable( 'crs_EASE2_T', 'S1', () )\n",
    "crsT.long_name = \"TBD\"\n",
    "crsT.grid_mapping_name = \"lambert_cylindrical_equal_area\"\n",
    "crsT.longitude_of_central_meridian = 0.0\n",
    "crsT.standard_parallel = 30.0\n",
    "crsT.false_easting = 0.0\n",
    "crsT.false_northing = 0.0\n",
    "crsT.semi_major_axis = 6378137.0\n",
    "crsT.inverse_flattening = 298.257223563\n",
    "crsT.proj4text = \"+proj=cea +lat_0=0 +lon_0=0 +lat_ts=30 +x_0=0 +y_0=0 +ellps=WGS84 +datum=WGS84 +units=m\"\n",
    "crsT.srid = \"urn:ogc:def:crs:EPSG::6933\"\n",
    "crsT.references = references\n",
    "crsT.crs_wkt = \"PROJCRS[\\\"WGS 84 / NSIDC EASE-Grid 2.0 Global\\\", BASEGEODCRS[\\\"WGS 84\\\", DATUM[\\\"World Geodetic System 1984\\\", ELLIPSOID[\\\"WGS 84\\\",6378137,298.257223563,LENGTHUNIT[\\\"metre\\\",1.0]]]], CONVERSION[\\\"US NSIDC EASE-Grid 2.0 Global\\\", METHOD[\\\"Lambert Cylindrical Equal Area\\\",ID[\\\"EPSG\\\",9835]], PARAMETER[\\\"Latitude of 1st standard parallel\\\",30,ANGLEUNIT[\\\"degree\\\",0.01745329252]], PARAMETER[\\\"Longitude of natural origin\\\",0,ANGLEUNIT[\\\"degree\\\",0.01745329252]], PARAMETER[\\\"False easting\\\",0,LENGTHUNIT[\\\"metre\\\",1.0]], PARAMETER[\\\"False northing\\\",0,LENGTHUNIT[\\\"metre\\\",1.0]]], CS[cartesian,2], AXIS[\\\"easting (X)\\\",east,ORDER[1]], AXIS[\\\"northing (Y)\\\",north,ORDER[2]], LENGTHUNIT[\\\"metre\\\",1.0], ID[\\\"EPSG\\\",6933]]\"\n"
   ]
  },
  {
   "cell_type": "code",
   "execution_count": null,
   "metadata": {
    "collapsed": true
   },
   "outputs": [],
   "source": [
    "fid.close()"
   ]
  },
  {
   "cell_type": "code",
   "execution_count": null,
   "metadata": {
    "collapsed": true
   },
   "outputs": [],
   "source": []
  }
 ],
 "metadata": {
  "kernelspec": {
   "display_name": "Python 2",
   "language": "python",
   "name": "python2"
  },
  "language_info": {
   "codemirror_mode": {
    "name": "ipython",
    "version": 2
   },
   "file_extension": ".py",
   "mimetype": "text/x-python",
   "name": "python",
   "nbconvert_exporter": "python",
   "pygments_lexer": "ipython2",
   "version": "2.7.12"
  }
 },
 "nbformat": 4,
 "nbformat_minor": 0
}
