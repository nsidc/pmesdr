{
 "cells": [
  {
   "cell_type": "code",
   "execution_count": 1,
   "metadata": {
    "collapsed": false
   },
   "outputs": [
    {
     "name": "stdout",
     "output_type": "stream",
     "text": [
      "Using matplotlib backend: Qt4Agg\n",
      "Populating the interactive namespace from numpy and matplotlib\n"
     ]
    }
   ],
   "source": [
    "%pylab auto\n",
    "from netCDF4 import Dataset"
   ]
  },
  {
   "cell_type": "markdown",
   "metadata": {},
   "source": [
    "2015-09-10: TBD fields:\n",
    "\n",
    "The following fields that are defined here are expected to be overwritten at run-time by cetb_file calls:\n",
    "* software_version_id : software release of PMESDR system\n",
    "* source              : list of original input swath files\n",
    "* source_version_id   : 1-1 list with source list, with GSX release version used to make gsx files for input\n",
    "* history             : BGI or SIR command line\n",
    "* platform            : satellite platform\n",
    "* sensor              : PM sensor\n",
    "* date_created        : date cetb file was created"
   ]
  },
  {
   "cell_type": "code",
   "execution_count": 2,
   "metadata": {
    "collapsed": true
   },
   "outputs": [],
   "source": [
    "fid = Dataset('/home/vagrant/measures-byu/src/prod/cetb_file/templates/cetb_global_template.nc', 'w', format='NETCDF4')\n",
    "fid.Conventions = \"CF-1.6\"\n",
    "fid.title = \"MEaSUREs Calibrated Passive Microwave Daily EASE-Grid 2.0 Brightness Temperature ESDR\"\n",
    "fid.product_version = \"v0.01\"\n",
    "fid.software_version_id = \"TBD\"\n",
    "fid.software_repository = \"git@bitbucket.org:nsidc/measures-byu.git\"\n",
    "fid.source = \"TBD(list of swath files used)\"\n",
    "fid.source_version_id = \"TBD(list of GSX versions, 1 per source file)\"\n",
    "fid.history = \"TBD(bgi or sir command line)\"\n",
    "fid.comment = \"Prototype version of this product, intended for user evaluation and feedback.\"\n",
    "fid.references = [\"Data set documentation: http://nsidc.org/data/nsidc-0630.html\\n\",\n",
    "                  \"Algorithm Theoretical Basis Document: http://nsidc.org/pmesdr/files/2015/09/MEaSUREs_CETB_ATBD_v0.10.pdf\\n\",\n",
    "                  \"Ancillary File: TBD\"]\n",
    "fid.summary = [\"An improved, enhanced-resolution, gridded passive microwave Earth System Data Record \\n\",\n",
    "               \"for monitoring cryospheric and hydrologic time series\\n\" ]\n",
    "fid.institution = [\"National Snow and Ice Data Center\\n\",\n",
    "                   \"Cooperative Institute for Research in Environmental Sciences\\n\",\n",
    "                   \"University of Colorado at Boulder\\n\",\n",
    "                   \"Boulder, CO\"]\n",
    "fid.publisher = [\"National Snow and Ice Data Center\\n\",\n",
    "                   \"Cooperative Institute for Research in Environmental Sciences\\n\",\n",
    "                   \"University of Colorado at Boulder\\n\",\n",
    "                   \"Boulder, CO\"]\n",
    "fid.publisher_url = \"http://nsidc.org\"\n",
    "fid.publisher_email = \"nsidc@nsidc.org\"\n",
    "fid.project = \"NASA 2012 MEaSUREs (Making Earth System Data Records for Use in Research Environments)\"\n",
    "fid.standard_name_vocabulary = \"CF Standard Name Table (v27, 28 September 2013)\"\n",
    "fid.cdm_data_type = \"grid\"\n",
    "fid.keywords = \"EARTH SCIENCE > SPECTRAL/ENGINEERING > MICROWAVE > BRIGHTNESS TEMPERATURE\" \n",
    "fid.keywords_vocabulary = \"NASA Global Change Master Directory (GCMD) Earth Science Keywords, Version 8.1\"\n",
    "fid.platform = \"TBD\"\n",
    "fid.sensor = \"TBD\"\n",
    "fid.naming_authority = \"org.doi.dx\"\n",
    "fid.id = \"10.5067/MEASURES/CRYOSPHERE/nsidc-0630.001\"\n",
    "fid.date_created = \"TBD\"\n",
    "fid.acknowledgement = [\"This data set was created with funding from NASA MEaSUREs Grant #NNX13AI23A.\\n\",\n",
    "                       \"Data archiving and distribution is supported by the NASA NSIDC Distributed Active Archive Center (DAAC).\"]\n",
    "fid.license = \"No constraints on data access or use\"\n",
    "fid.processing_level = \"Level 3\"\n",
    "fid.creator_name = \"Mary J. Brodzik\"\n",
    "fid.creator_email = \"brodzik@nsidc.org\"\n",
    "fid.creator_url = \"http://nsidc.org/pmesdr\"\n",
    "fid.contributor_name = \"Mary J. Brodzik, David G. Long, Molly A. Hardman, Aaron C. Paget\"\n",
    "fid.contributor_role = \"Principal Investigator, Co-Investigator, Developer, Contributor\"\n",
    "fid.citation = [\"Brodzik, M. J., D. G. Long, M. A. Hardman, A. C. Paget. 2015.\\n\",\n",
    "                \"MEaSUREs Calibrated Passive Microwave Daily EASE-Grid 2.0 Brightness Temperature ESDR.\\n\",\n",
    "                \"Version 0.01.\\n\",\n",
    "                \"[Indicate subset used].\\n\",\n",
    "                \"Boulder, Colorado USA: NASA DAAC at the National Snow and Ice Data Center.\" ]\n",
    "fid.close()"
   ]
  },
  {
   "cell_type": "code",
   "execution_count": 6,
   "metadata": {
    "collapsed": false
   },
   "outputs": [
    {
     "name": "stdout",
     "output_type": "stream",
     "text": [
      "cetb_global_template.nc  creating_cetb_template_file.ipynb  test.nc\r\n"
     ]
    }
   ],
   "source": [
    "%ls\n"
   ]
  },
  {
   "cell_type": "code",
   "execution_count": null,
   "metadata": {
    "collapsed": true
   },
   "outputs": [],
   "source": []
  }
 ],
 "metadata": {
  "kernelspec": {
   "display_name": "Python 2",
   "language": "python",
   "name": "python2"
  },
  "language_info": {
   "codemirror_mode": {
    "name": "ipython",
    "version": 2
   },
   "file_extension": ".py",
   "mimetype": "text/x-python",
   "name": "python",
   "nbconvert_exporter": "python",
   "pygments_lexer": "ipython2",
   "version": "2.7.9"
  }
 },
 "nbformat": 4,
 "nbformat_minor": 0
}
