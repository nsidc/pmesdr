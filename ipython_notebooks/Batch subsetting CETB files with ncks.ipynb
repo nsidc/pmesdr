{
 "cells": [
  {
   "cell_type": "markdown",
   "metadata": {},
   "source": [
    "# Using NCO utilities ncks and ncrcat to subset CETB files by location and concatenate by time series\n",
    "\n",
    "To begin, you need to know the map coordinates of the spatial subset you want.\n",
    "\n",
    "You can use various utilities to do this, we have written the python package cetbtools.ease2conv to help with it.\n",
    "\n",
    "For this example, I want the upper left quadrant of the EASE2_N25km grid, which is bounded by\n",
    "the upper left corner of the grid and the North Pole at the center of the grid."
   ]
  },
  {
   "cell_type": "code",
   "execution_count": null,
   "metadata": {
    "collapsed": false
   },
   "outputs": [],
   "source": [
    "%pylab notebook\n",
    "from netCDF4 import Dataset\n",
    "import matplotlib.pyplot as plt\n",
    "import numpy as np\n",
    "from cetbtools.ease2conv import Ease2Transform"
   ]
  },
  {
   "cell_type": "code",
   "execution_count": null,
   "metadata": {
    "collapsed": false
   },
   "outputs": [],
   "source": [
    "subULrow, subULcol = -0.5, -0.5\n",
    "subLRrow, subLRcol = 359.5, 359.5\n",
    "N25 = Ease2Transform(\"EASE2_N25km\")\n",
    "subULx, subULy = N25.grid_to_map(subULrow, subULcol)\n",
    "subLRx, subLRy = N25.grid_to_map(subLRrow, subLRcol)\n",
    "print \"Subset UL x,y = %.3f, %.3f\" % (subULx, subULy)\n",
    "print \"Subset LR x,y = %.3f, %.3f\" % (subLRx, subLRy)"
   ]
  },
  {
   "cell_type": "markdown",
   "metadata": {},
   "source": [
    "These are coordinates for the CRREL Baltic subset we are interested in:\n",
    "<pre>\n",
    "     col  row\n",
    "UL:  418  478\n",
    "UR:  428  478\n",
    "LR:  428  506\n",
    "LL:  418  506\n",
    "</pre>\n"
   ]
  },
  {
   "cell_type": "code",
   "execution_count": null,
   "metadata": {
    "collapsed": false
   },
   "outputs": [],
   "source": [
    "subULrow, subULcol = 477.5, 417.5\n",
    "subLRrow, subLRcol = 506.5, 428.5\n",
    "N25 = Ease2Transform(\"EASE2_N25km\")\n",
    "subULx, subULy = N25.grid_to_map(subULrow, subULcol)\n",
    "subLRx, subLRy = N25.grid_to_map(subLRrow, subLRcol)\n",
    "print \"Subset UL x,y = %.3f, %.3f\" % (subULx, subULy)\n",
    "print \"Subset LR x,y = %.3f, %.3f\" % (subLRx, subLRy)"
   ]
  },
  {
   "cell_type": "markdown",
   "metadata": {},
   "source": [
    "So these min/max values for x and y can be passed to ncks to subset the TB variable from a CETB file with:\n",
    "\n",
    "ncks -d x,-9000000.,0. -d y,0.,9000000. -v TB NSIDC-0630-EASE2_N25km-AQUA_AMSRE-2011270-18H-E-GRD-RSS-v1.0.nc d270.18H.ul.nc\n",
    "\n",
    "ncks -d x,1450000.,1725000. -d y,-3675000.0,-2950000.0 -v TB NSIDC-0630-EASE2_N25km-AQUA_AMSRE-2011270-18H-E-GRD-RSS-v1.0.nc Baltic.EASE2_N25km-AQUA_AMSRE-2011270-18H-E-GRD.nc\n",
    "\n",
    "This subsets the upper left quadrant of the EASE2_N25km grid into the file d001.19H.ul.nc."
   ]
  },
  {
   "cell_type": "code",
   "execution_count": null,
   "metadata": {
    "collapsed": true
   },
   "outputs": [],
   "source": [
    "def make_blank_file(src, dst, new_time):\n",
    "    # copy the src file to the dst filename\n",
    "    call(['cp', src, dst])\n",
    "    \n",
    "    # change the time value in the new file to new_time\n",
    "    fid = Dataset( dst, \"a\", format=\"NETCDF4\")\n",
    "    \n",
    "    fid.variables['time'][:] = new_time\n",
    "    \n",
    "    # fill the TB array with zeroes\n",
    "    data = fid.variables['TB'][:]\n",
    "    fid.variables['TB'][:] = np.zeros_like(data)\n",
    "    \n",
    "    fid.close()\n"
   ]
  },
  {
   "cell_type": "code",
   "execution_count": null,
   "metadata": {
    "collapsed": false
   },
   "outputs": [],
   "source": [
    "%cd /projects/PMESDR/vagrant/AMSRE_1836/2003\n",
    "%ls"
   ]
  },
  {
   "cell_type": "code",
   "execution_count": null,
   "metadata": {
    "collapsed": false,
    "scrolled": false
   },
   "outputs": [],
   "source": [
    "import glob\n",
    "list = sort(glob.glob(\"*18H-M-GRD*\"))\n",
    "list = list[:3]\n",
    "list"
   ]
  },
  {
   "cell_type": "code",
   "execution_count": null,
   "metadata": {
    "collapsed": false
   },
   "outputs": [],
   "source": [
    "from subprocess import call\n",
    "import shlex"
   ]
  },
  {
   "cell_type": "code",
   "execution_count": null,
   "metadata": {
    "collapsed": false
   },
   "outputs": [],
   "source": [
    "for file in list:\n",
    "    outfile = \"/projects/PMESDR/vagrant/brodzik/ncks_tests/Baltic.%s\" % file\n",
    "    unlfile = \"/projects/PMESDR/vagrant/brodzik/ncks_tests/Baltic.unlimited.%s\" % file\n",
    "    print(\"Next in : %s\" % file)\n",
    "    print(\"Next out: %s\" % outfile)\n",
    "    print(\"next unl out: %s\" % unlfile)\n",
    "    call(['ncks', '-d', 'x,1450000.,1725000.', '-d', 'y,-3675000.0,-2950000.0',\n",
    "          '-v', 'TB', file, outfile])\n",
    "    call(['ncks', '-O', '--mk_rec_dmn', 'time', outfile, unlfile])\n",
    "    print(\"Done\")"
   ]
  },
  {
   "cell_type": "code",
   "execution_count": null,
   "metadata": {
    "collapsed": false
   },
   "outputs": [],
   "source": [
    "#%ls -las /projects/PMESDR/vagrant/brodzik/ncks_tests\n",
    "%pwd\n",
    "%ls"
   ]
  },
  {
   "cell_type": "code",
   "execution_count": null,
   "metadata": {
    "collapsed": false
   },
   "outputs": [],
   "source": [
    "%cd /projects/PMESDR/vagrant/brodzik/ncks_tests\n",
    "#Then for a full list of files you can concatenate them in the time dimension with:\n",
    "call(['ncrcat', '-O', 'Baltic.unlimited\\*', 'test.all_days.nc'])"
   ]
  },
  {
   "cell_type": "code",
   "execution_count": null,
   "metadata": {
    "collapsed": true
   },
   "outputs": [],
   "source": [
    "fid.close()"
   ]
  },
  {
   "cell_type": "code",
   "execution_count": null,
   "metadata": {
    "collapsed": false,
    "scrolled": false
   },
   "outputs": [],
   "source": [
    "filename = \"test.nc\"\n",
    "fid = Dataset( filename, \"r\", format=\"NETCDF4\")\n",
    "fid"
   ]
  },
  {
   "cell_type": "code",
   "execution_count": null,
   "metadata": {
    "collapsed": false
   },
   "outputs": [],
   "source": [
    "tb = fid.variables['TB'][:]"
   ]
  },
  {
   "cell_type": "code",
   "execution_count": null,
   "metadata": {
    "collapsed": false
   },
   "outputs": [],
   "source": [
    "fid.variables['time'][:]"
   ]
  },
  {
   "cell_type": "code",
   "execution_count": null,
   "metadata": {
    "collapsed": false
   },
   "outputs": [],
   "source": [
    "np.shape(tb)"
   ]
  },
  {
   "cell_type": "code",
   "execution_count": null,
   "metadata": {
    "collapsed": false
   },
   "outputs": [],
   "source": [
    "tb = np.squeeze(tb)\n",
    "np.shape(tb)"
   ]
  },
  {
   "cell_type": "code",
   "execution_count": null,
   "metadata": {
    "collapsed": false
   },
   "outputs": [],
   "source": [
    "fig, ax = plt.subplots(1,3)\n",
    "for i in np.arange(3):\n",
    "    ax[i].imshow(tb[i,:,:])"
   ]
  },
  {
   "cell_type": "markdown",
   "metadata": {},
   "source": [
    "Then for each subset file you must change \"time\" from a fixed dimension to a record (unlimited dimension), using\n",
    "\n",
    "ncks -O --mk_rec_dmn time d002.19H.ul.nc d002.19H.ul.new.nc\n",
    "\n",
    "(this will change the ncdump -h information from: \n",
    "\n",
    "<blockquote>\n",
    "<p>dimensions:\n",
    "\t<p>time = 1 ;\n",
    "</blockquote>\n",
    "    \n",
    "to   \n",
    "\n",
    "<blockquote>\n",
    "<p>dimensions:\n",
    "\t<p>time = UNLIIMITED ; // (1 currently)\n",
    "</blockquote>\n",
    "Then for a full list of files you can concatenate them in the time dimension with:\n",
    "\n",
    "ncrcat -O *.new.nc all_days.19H.ul.nc\n",
    "\n",
    "Thanks to this NASA recipe %pylab inline\n",
    "from netCDF4 import Dataset\n",
    "import matplotlib.pyplot as plt\n",
    "import numpy as npfor tips here:\n",
    "\n",
    "http://disc.sci.gsfc.nasa.gov/recipes/?q=recipes/How-to-Concatenate-the-Time-Dimension-of-netCDF-Files-with-NCO"
   ]
  },
  {
   "cell_type": "code",
   "execution_count": null,
   "metadata": {
    "collapsed": false
   },
   "outputs": [],
   "source": [
    "combfile = \"d001-003.19H.ul.nc\"\n",
    "combfid = Dataset(combfile, 'r', format=\"NETCDF\")\n",
    "combfid"
   ]
  },
  {
   "cell_type": "code",
   "execution_count": null,
   "metadata": {
    "collapsed": false
   },
   "outputs": [],
   "source": [
    "np.shape(combfid.variables[\"TB\"][:])"
   ]
  },
  {
   "cell_type": "code",
   "execution_count": null,
   "metadata": {
    "collapsed": true
   },
   "outputs": [],
   "source": [
    "slice0 = combfid.variables[\"TB\"][:][0,:,:]"
   ]
  },
  {
   "cell_type": "code",
   "execution_count": null,
   "metadata": {
    "collapsed": false
   },
   "outputs": [],
   "source": [
    "np.shape(slice)"
   ]
  },
  {
   "cell_type": "code",
   "execution_count": null,
   "metadata": {
    "collapsed": false
   },
   "outputs": [],
   "source": [
    "plt.imshow(slice0)"
   ]
  },
  {
   "cell_type": "code",
   "execution_count": null,
   "metadata": {
    "collapsed": false
   },
   "outputs": [],
   "source": [
    "slice1 = combfid.variables[\"TB\"][:][1,:,:]\n",
    "plt.imshow(slice1)"
   ]
  },
  {
   "cell_type": "code",
   "execution_count": null,
   "metadata": {
    "collapsed": false
   },
   "outputs": [],
   "source": [
    "slice2 = combfid.variables[\"TB\"][:][2,:,:]\n",
    "plt.imshow(slice2)"
   ]
  },
  {
   "cell_type": "markdown",
   "metadata": {},
   "source": [
    "# Test pixel map coordinates for Melt Onset analysis\n",
    "\n",
    "For Karakoram pixel at 31.1N, 75.8E:"
   ]
  },
  {
   "cell_type": "code",
   "execution_count": null,
   "metadata": {
    "collapsed": false
   },
   "outputs": [],
   "source": [
    "lat, lon = 31.1, 75.8\n",
    "row, col = N25.geographic_to_grid(lat, lon)\n",
    "x, y = N25.grid_to_map(row, col)\n",
    "print row,col\n",
    "print x, y"
   ]
  },
  {
   "cell_type": "markdown",
   "metadata": {},
   "source": [
    "For Himalaya pixel at 38.1N, 88.3E:"
   ]
  },
  {
   "cell_type": "code",
   "execution_count": null,
   "metadata": {
    "collapsed": false
   },
   "outputs": [],
   "source": [
    "lat, lon = 38.1, 88.3\n",
    "row, col = N25.geographic_to_grid(lat, lon)\n",
    "x, y = N25.grid_to_map(row, col)\n",
    "print row,col\n",
    "print x, y"
   ]
  },
  {
   "cell_type": "code",
   "execution_count": null,
   "metadata": {
    "collapsed": false
   },
   "outputs": [],
   "source": [
    "src = \"Baltic.unlimited.NSIDC-0630-EASE2_N25km-AQUA_AMSRE-2003001-18H-M-GRD-RSS-v1.0.nc\"\n",
    "dst = \"test.copy.nc\"\n",
    "new_time = 11323 + 3\n",
    "make_blank_file(src, dst, new_time)\n",
    "\n"
   ]
  },
  {
   "cell_type": "code",
   "execution_count": null,
   "metadata": {
    "collapsed": true
   },
   "outputs": [],
   "source": []
  }
 ],
 "metadata": {
  "kernelspec": {
   "display_name": "Python 2",
   "language": "python",
   "name": "python2"
  },
  "language_info": {
   "codemirror_mode": {
    "name": "ipython",
    "version": 2
   },
   "file_extension": ".py",
   "mimetype": "text/x-python",
   "name": "python",
   "nbconvert_exporter": "python",
   "pygments_lexer": "ipython2",
   "version": "2.7.11"
  }
 },
 "nbformat": 4,
 "nbformat_minor": 0
}
