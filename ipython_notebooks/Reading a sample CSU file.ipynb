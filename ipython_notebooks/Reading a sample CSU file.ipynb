{
 "cells": [
  {
   "cell_type": "code",
   "execution_count": 3,
   "metadata": {
    "collapsed": true
   },
   "outputs": [],
   "source": [
    "from netCDF4 import Dataset"
   ]
  },
  {
   "cell_type": "code",
   "execution_count": 1,
   "metadata": {},
   "outputs": [
    {
     "data": {
      "text/plain": [
       "u'/home/vagrant/measures-byu/ipython_notebooks'"
      ]
     },
     "execution_count": 1,
     "metadata": {},
     "output_type": "execute_result"
    }
   ],
   "source": [
    "%pwd"
   ]
  },
  {
   "cell_type": "code",
   "execution_count": 5,
   "metadata": {},
   "outputs": [
    {
     "name": "stdout",
     "output_type": "stream",
     "text": [
      "/projects/PMESDR/CSU_FCDR/F13/0005/000502\n"
     ]
    },
    {
     "data": {
      "text/plain": [
       "u'/projects/PMESDR/CSU_FCDR/F13/0005/000502'"
      ]
     },
     "execution_count": 5,
     "metadata": {},
     "output_type": "execute_result"
    }
   ],
   "source": [
    "%cd /projects/PMESDR/CSU_FCDR/F13/0005/000502/\n",
    "%pwd"
   ]
  },
  {
   "cell_type": "code",
   "execution_count": 6,
   "metadata": {},
   "outputs": [
    {
     "data": {
      "text/plain": [
       "<type 'netCDF4._netCDF4.Dataset'>\n",
       "root group (NETCDF4 data model, file format UNDEFINED):\n",
       "    Conventions: CF-1.6\n",
       "    Metadata_Conventions: CF-1.6, Unidata Dataset Discovery v1.0, NOAA CDR v1.0, GDS v2.0\n",
       "    standard_name_vocabulary: CF Standard Name Table (v20, 11 September 2012)\n",
       "    id: CSU_SSMI_FCDR_V01R00_F13_D20000502_S0049_E0231_R26343.nc\n",
       "    naming_authority: gov.noaa.ncdc\n",
       "    metadata_link: gov.noaa.ncdc:C00827\n",
       "    title: CSU SSM/I FCDR\n",
       "    product_version: V01R00\n",
       "    revision_date: 2013-02-01\n",
       "    summary: Colorado State University Special Sensor Microwave/Imager (SSM/I) Fundamental Climate Data Record (FCDR) of intercalibrated brightness temperatures\n",
       "    keywords: EARTH SCIENCE > SPECTRAL/ENGINEERING > MICROWAVE > BRIGHTNESS TEMPERATURE\n",
       "    keywords_vocabulary: NASA Global Change Master Directory (GCMD) Earth Science Keywords, Version 6.0\n",
       "    platform: DMSP 5D-2/F13 > Defense Meteorological Satellite Program-F13\n",
       "    sensor: SSM/I > Special Sensor Microwave/Imager\n",
       "    cdm_data_type: Swath\n",
       "    cdr_program: NOAA Climate Data Record Program for satellites, FY 2013\n",
       "    cdr_variable: fcdr_tb19v, fcdr_tb19h, fcdr_tb22v, fcdr_tb37v, fcdr_tb37h, fcdr_tb85v, fcdr_tb85h\n",
       "    source: SSMI_TDRBASE_V01R03_F13_D20000502_S0049_E0231_R26343.nc\n",
       "    date_created: 2013-02-02T19:29MST\n",
       "    creator_name: Wesley Berg\n",
       "    creator_url: http://rain.atmos.colostate.edu/FCDR\n",
       "    creator_email: fcdr@atmos.colostate.edu\n",
       "    institution: Colorado State University, Dept. of Atmospheric Science, Kummerow research group\n",
       "    processing_level: NOAA Level 2\n",
       "    geospatial_lat_min:  -87.78\n",
       "    geospatial_lat_max:   87.57\n",
       "    geospatial_lon_min: -180.00\n",
       "    geospatial_lon_max:  180.00\n",
       "    geospatial_lat_units: degrees_north\n",
       "    geospatial_lon_units: degrees_east\n",
       "    spatial_resolution: 19 V/H GHz: 43km X 69km, 22 V GHz: 40km X 50km, 37 V/H GHz: 28km X 37km, 85 V/H GHz: 13km X 15km\n",
       "    time_coverage_start: 2000-05-02T00:49:09Z\n",
       "    time_coverage_end: 2000-05-02T02:31:05Z\n",
       "    time_coverage_duration: PT1H41M56S\n",
       "    license: No restrictions on access or use\n",
       "    contributor_name: Christian Kummerow, Wesley Berg, Mathew Sapiano\n",
       "    contributor_role: Principal investigator, Co-Investigator and developer with overall responsibility for FCDR data software and documentation, Responsible for intercalibration geolocation and cross-track bias adjustments including associated software and documentation\n",
       "    orbit_number: 26343\n",
       "    dimensions(sizes): npixel_lores(64), npixel_hires(128), nscan_lores(1607), nscan_hires(3214), ntest(9), numchar(23)\n",
       "    variables(dimensions): float64 \u001b[4morbit_lores\u001b[0m(nscan_lores), float64 \u001b[4mscan_time_lores\u001b[0m(nscan_lores), |S1 \u001b[4mscan_datetime_lores\u001b[0m(nscan_lores,numchar), float32 \u001b[4mspacecraft_lat_lores\u001b[0m(nscan_lores), float32 \u001b[4mspacecraft_lon_lores\u001b[0m(nscan_lores), float32 \u001b[4mspacecraft_alt_lores\u001b[0m(nscan_lores), float32 \u001b[4mlat_lores\u001b[0m(nscan_lores,npixel_lores), float32 \u001b[4mlon_lores\u001b[0m(nscan_lores,npixel_lores), float32 \u001b[4mfcdr_tb19v\u001b[0m(nscan_lores,npixel_lores), float32 \u001b[4mfcdr_tb19h\u001b[0m(nscan_lores,npixel_lores), float32 \u001b[4mfcdr_tb22v\u001b[0m(nscan_lores,npixel_lores), float32 \u001b[4mfcdr_tb37v\u001b[0m(nscan_lores,npixel_lores), float32 \u001b[4mfcdr_tb37h\u001b[0m(nscan_lores,npixel_lores), float32 \u001b[4meia_lores\u001b[0m(nscan_lores,npixel_lores), int8 \u001b[4msun_glint_lores\u001b[0m(nscan_lores,npixel_lores), int8 \u001b[4mquality_lores\u001b[0m(nscan_lores,npixel_lores), float64 \u001b[4morbit_hires\u001b[0m(nscan_hires), float64 \u001b[4mscan_time_hires\u001b[0m(nscan_hires), |S1 \u001b[4mscan_datetime_hires\u001b[0m(nscan_hires,numchar), float32 \u001b[4mspacecraft_lat_hires\u001b[0m(nscan_hires), float32 \u001b[4mspacecraft_lon_hires\u001b[0m(nscan_hires), float32 \u001b[4mspacecraft_alt_hires\u001b[0m(nscan_hires), float32 \u001b[4mlat_hires\u001b[0m(nscan_hires,npixel_hires), float32 \u001b[4mlon_hires\u001b[0m(nscan_hires,npixel_hires), float32 \u001b[4mfcdr_tb85v\u001b[0m(nscan_hires,npixel_hires), float32 \u001b[4mfcdr_tb85h\u001b[0m(nscan_hires,npixel_hires), float32 \u001b[4meia_hires\u001b[0m(nscan_hires,npixel_hires), int8 \u001b[4msun_glint_hires\u001b[0m(nscan_hires,npixel_hires), int8 \u001b[4mquality_hires\u001b[0m(nscan_hires,npixel_hires), int32 \u001b[4mquality_tests\u001b[0m(ntest), float32 \u001b[4mnominal_elevation_angle\u001b[0m(), float32 \u001b[4mdelta_elevation_angle\u001b[0m(), float32 \u001b[4mspacecraft_roll\u001b[0m(), float32 \u001b[4mspacecraft_pitch\u001b[0m(), float32 \u001b[4mspacecraft_yaw\u001b[0m(), |S1 \u001b[4mcrs\u001b[0m()\n",
       "    groups: "
      ]
     },
     "execution_count": 6,
     "metadata": {},
     "output_type": "execute_result"
    }
   ],
   "source": [
    "fid = Dataset('CSU_SSMI_FCDR_V01R00_F13_D20000502_S0049_E0231_R26343.nc', 'r', format='NETCDF4')\n",
    "fid"
   ]
  },
  {
   "cell_type": "code",
   "execution_count": null,
   "metadata": {
    "collapsed": true
   },
   "outputs": [],
   "source": []
  }
 ],
 "metadata": {
  "kernelspec": {
   "display_name": "Python 2",
   "language": "python",
   "name": "python2"
  },
  "language_info": {
   "codemirror_mode": {
    "name": "ipython",
    "version": 2
   },
   "file_extension": ".py",
   "mimetype": "text/x-python",
   "name": "python",
   "nbconvert_exporter": "python",
   "pygments_lexer": "ipython2",
   "version": "2.7.12"
  }
 },
 "nbformat": 4,
 "nbformat_minor": 1
}
