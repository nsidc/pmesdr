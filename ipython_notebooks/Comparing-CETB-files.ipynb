{
 "cells": [
  {
   "cell_type": "code",
   "execution_count": null,
   "metadata": {},
   "outputs": [],
   "source": [
    "%pylab notebook\n",
    "import glob\n",
    "import matplotlib.pyplot as plt\n",
    "from netCDF4 import Dataset\n",
    "import os\n",
    "import numpy as np"
   ]
  },
  {
   "cell_type": "code",
   "execution_count": null,
   "metadata": {},
   "outputs": [],
   "source": [
    "%cd /projects/PMESDR/vagrant/NSIDCtest/vmwintryhummock"
   ]
  },
  {
   "cell_type": "code",
   "execution_count": null,
   "metadata": {},
   "outputs": [],
   "source": [
    "oldList = sorted(glob.glob(\"old_F16_splits/*nc\"))\n",
    "newList = sorted(glob.glob(\"new_F16_splits/*nc\"))\n",
    "print('\\n'.join(oldList))\n",
    "print(\"\")\n",
    "print('\\n'.join(newList))"
   ]
  },
  {
   "cell_type": "code",
   "execution_count": null,
   "metadata": {},
   "outputs": [],
   "source": [
    "def read_cetb(file):\n",
    "    fid = Dataset(file, 'r', format='NETCDF4')\n",
    "    data = np.squeeze(fid.variables['TB'][:])\n",
    "    fid.close()\n",
    "    print(file)\n",
    "    print(np.shape(data))\n",
    "    print(np.amin(data), np.amax(data))\n",
    "    return(data)   "
   ]
  },
  {
   "cell_type": "code",
   "execution_count": null,
   "metadata": {},
   "outputs": [],
   "source": [
    "def show_both(file1, file2):\n",
    "    img1 = read_cetb(file1)\n",
    "    img2 = read_cetb(file2)\n",
    "    \n",
    "    fig, ax = plt.subplots(1, 2, figsize=(10,6))\n",
    "    ax[0].imshow(img1, cmap=plt.cm.gray, interpolation='None', vmin=50., vmax=300.)\n",
    "    ax[0].set_title('old LTOD')\n",
    "    ax[0].axis('off')\n",
    "    ax[1].imshow(img2, cmap=plt.cm.gray, interpolation='None', vmin=50., vmax=300.)\n",
    "    ax[1].set_title('corrected LTOD')\n",
    "    ax[1].axis('off')\n",
    "    \n",
    "    fileName = os.path.basename(file1)\n",
    "    fig.suptitle(fileName)\n",
    "    fig.tight_layout()\n",
    "    fig.savefig(\"%s.both.png\" % fileName)\n",
    "    return(fig)"
   ]
  },
  {
   "cell_type": "code",
   "execution_count": null,
   "metadata": {},
   "outputs": [],
   "source": [
    "file_index = 25\n",
    "fig = show_both(oldList[file_index], newList[file_index])"
   ]
  },
  {
   "cell_type": "code",
   "execution_count": null,
   "metadata": {},
   "outputs": [],
   "source": [
    "def show_diff(file1, file2):\n",
    "    img1 = read_cetb(file1)\n",
    "    img2 = read_cetb(file2)\n",
    "    \n",
    "    diff = img2 - img1\n",
    "    \n",
    "    print(\"%s - %s\" % (file2, file2))\n",
    "    print(np.shape(diff))\n",
    "    print(np.amin(diff), np.amax(diff))\n",
    "    \n",
    "    diff[ diff==0 ] = np.nan\n",
    "    \n",
    "    fig, ax = plt.subplots(1, 1, figsize=(8,8))\n",
    "    im = ax.imshow(diff, cmap=plt.cm.BrBG, interpolation='None', vmin=-10., vmax=10.)\n",
    "    ax.set_title('difference from changed LTOD')\n",
    "    ax.axis('off')\n",
    "    fig.colorbar(im, ax=ax, fraction=0.046, pad=0.04)\n",
    "    \n",
    "    fileName = os.path.basename(file1)\n",
    "    fig.suptitle(fileName)\n",
    "    fig.tight_layout()\n",
    "    fig.savefig(\"%s.diff.png\" % fileName)\n",
    "    return(fig)"
   ]
  },
  {
   "cell_type": "code",
   "execution_count": null,
   "metadata": {},
   "outputs": [],
   "source": [
    "fig = show_diff(oldList[file_index], newList[file_index])"
   ]
  },
  {
   "cell_type": "code",
   "execution_count": null,
   "metadata": {},
   "outputs": [],
   "source": [
    "fig.savefig(\"%s.diff.png\" % os.path.basename(oldList[3]))"
   ]
  },
  {
   "cell_type": "code",
   "execution_count": null,
   "metadata": {},
   "outputs": [],
   "source": []
  }
 ],
 "metadata": {
  "kernelspec": {
   "display_name": "Python 3",
   "language": "python",
   "name": "python3"
  },
  "language_info": {
   "codemirror_mode": {
    "name": "ipython",
    "version": 3
   },
   "file_extension": ".py",
   "mimetype": "text/x-python",
   "name": "python",
   "nbconvert_exporter": "python",
   "pygments_lexer": "ipython3",
   "version": "3.6.4"
  }
 },
 "nbformat": 4,
 "nbformat_minor": 1
}
