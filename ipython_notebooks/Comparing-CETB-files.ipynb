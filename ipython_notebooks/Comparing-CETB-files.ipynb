{
 "cells": [
  {
   "cell_type": "markdown",
   "metadata": {},
   "source": [
    "# Make individual and diff images of 2 versions of CETB files"
   ]
  },
  {
   "cell_type": "code",
   "execution_count": null,
   "metadata": {},
   "outputs": [],
   "source": [
    "%matplotlib inline\n",
    "import glob\n",
    "import matplotlib.pyplot as plt\n",
    "import math\n",
    "from netCDF4 import Dataset\n",
    "import os\n",
    "import numpy as np\n",
    "import re"
   ]
  },
  {
   "cell_type": "code",
   "execution_count": null,
   "metadata": {},
   "outputs": [],
   "source": [
    "#%cd /projects/PMESDR/vagrant/NSIDCtest/vmwintryhummock\n",
    "%cd /projects/brodzik/v1.3images\n",
    "%ls"
   ]
  },
  {
   "cell_type": "code",
   "execution_count": null,
   "metadata": {},
   "outputs": [],
   "source": [
    "yyyyddd = 1979079 # SMMR\n",
    "#yyyyddd = 1988080 # F08\n",
    "#yyyyddd = 1991079 # F10\n",
    "#yyyyddd = 1992080 # F11\n",
    "#yyyyddd = 1996080 # F13\n",
    "#yyyyddd = 1998079 # F14\n",
    "#yyyyddd = 2006079 # F15\n",
    "#yyyyddd = 2016080 # F16 (late in sensor lifetime, to examine new ltods)\n",
    "#yyyyddd = 2009079 # F17\n",
    "#yyyyddd = 2010079 # F18\n",
    "#yyyyddd = 2015079 # F19\n",
    "#yyyyddd = 2003079 # AMSR-E\n",
    "#os.mkdir(\"%s\" % yyyyddd)\n",
    "#os.mkdir(\"%s/both\" % yyyyddd)\n",
    "#os.mkdir(\"%s/diff\" % yyyyddd)\n",
    "%ls"
   ]
  },
  {
   "cell_type": "code",
   "execution_count": null,
   "metadata": {
    "scrolled": false
   },
   "outputs": [],
   "source": [
    "imgtype = \"37H\"\n",
    "sensor = \"*\"\n",
    "oldList = sorted(glob.glob(\"/projects/brodzik/v1.2/%s/*%s*%s*%s*nc\" % (yyyyddd, sensor, yyyyddd, imgtype)))\n",
    "#oldList = sorted(glob.glob(\"/projects/brodzik/v1.2/%s/*%s*%s*nc\" % (yyyyddd + 1, yyyyddd + 1, imgtype)))\n",
    "newList = sorted(glob.glob(\"/projects/brodzik/v1.3/%s/*%s*%s*%s*nc\" % (yyyyddd+1, sensor, yyyyddd+1, imgtype)))\n",
    "#newList = sorted(glob.glob(\"/projects/brodzik/v1.3/%s/*%s*%s*nc\" % (yyyyddd + 1, yyyyddd + 1, imgtype)))\n",
    "print('\\n'.join(oldList))\n",
    "print(\"\")\n",
    "print('\\n'.join(newList))"
   ]
  },
  {
   "cell_type": "code",
   "execution_count": null,
   "metadata": {},
   "outputs": [],
   "source": [
    "def read_cetb(file, varname=\"TB\"):\n",
    "    fid = Dataset(file, 'r', format='NETCDF4')\n",
    "    data = np.squeeze(fid.variables[varname][:])\n",
    "    fid.close()\n",
    "    print(file)\n",
    "    print(np.shape(data))\n",
    "    print(np.amin(data), np.amax(data))\n",
    "    return(data)   "
   ]
  },
  {
   "cell_type": "code",
   "execution_count": null,
   "metadata": {},
   "outputs": [],
   "source": [
    "def show_both(file1, file2, yyyyddd, varname=\"TB\"):\n",
    "    img1 = read_cetb(file1,varname=varname)\n",
    "    img2 = read_cetb(file2,varname=varname)\n",
    "    \n",
    "    if re.search(r'EASE2_T', file1):\n",
    "        fig, ax = plt.subplots(2, 1, figsize=(9.5,9))\n",
    "        imgtype = 'T'\n",
    "    else:\n",
    "        fig, ax = plt.subplots(1, 2, figsize=(10,6))\n",
    "        imgtype = 'NS'\n",
    "    \n",
    "    if varname == \"TB\":\n",
    "        vmin = 50.\n",
    "        vmax = 300.\n",
    "    else: # assume TB_TIME\n",
    "        if 'T' == imgtype:\n",
    "            vmin = 0.\n",
    "            vmax = 1440.\n",
    "        else:\n",
    "            vmin = -720.\n",
    "            vmax = 1440.+720.\n",
    "\n",
    "    ax[0].imshow(img1, cmap=plt.cm.gray, interpolation='None', vmin=vmin, vmax=vmax)        \n",
    "    ax[0].set_title(\"%s: v1.2\" % varname)\n",
    "    ax[0].axis('off')\n",
    "    ax[1].imshow(img2, cmap=plt.cm.gray, interpolation='None', vmin=vmin, vmax=vmax)\n",
    "    ax[1].set_title(\"%s: v1.3\" % varname)\n",
    "    ax[1].axis('off')\n",
    "    \n",
    "    fileName = os.path.basename(file2)\n",
    "    fig.suptitle(fileName)\n",
    "    fig.tight_layout()\n",
    "    fig.savefig(\"%s/both/%s.%s.both.png\" % (yyyyddd, fileName, varname))\n",
    "    return(fig)"
   ]
  },
  {
   "cell_type": "code",
   "execution_count": null,
   "metadata": {
    "scrolled": true
   },
   "outputs": [],
   "source": [
    "varname = \"TB_time\"\n",
    "old_file_index = 2\n",
    "new_file_index = 2\n",
    "fig = show_both(oldList[old_file_index], newList[new_file_index], yyyyddd, varname=varname)"
   ]
  },
  {
   "cell_type": "code",
   "execution_count": null,
   "metadata": {
    "scrolled": false
   },
   "outputs": [],
   "source": [
    "varname = \"TB\"\n",
    "old_file_index = 5\n",
    "new_file_index = 4\n",
    "fig = show_both(oldList[old_file_index], newList[new_file_index], yyyyddd, varname=varname)"
   ]
  },
  {
   "cell_type": "code",
   "execution_count": null,
   "metadata": {},
   "outputs": [],
   "source": [
    "close('all')\n",
    "#fig.savefig(\"NSIDC-0630-EASE2_N3.125km-F16_SSMIS-2005333-91H-M-SIR-CSU-v1.3.TB.both.png\")"
   ]
  },
  {
   "cell_type": "code",
   "execution_count": null,
   "metadata": {},
   "outputs": [],
   "source": [
    "def show_diff(file1, file2, yyyyddd, varname=\"TB\", verbose=False):\n",
    "    img1 = read_cetb(file1,varname=varname)\n",
    "    img2 = read_cetb(file2,varname=varname)\n",
    "    \n",
    "    diff = img2 - img1\n",
    "\n",
    "    rows, cols = np.shape(diff)\n",
    "    print(\"%s - %s\" % (file2, file2))\n",
    "    print(np.shape(diff))\n",
    "    print(np.amin(diff), np.amax(diff))\n",
    "    \n",
    "    fig, ax = plt.subplots(1, 1, figsize=(8,8))\n",
    "    im = ax.imshow(diff, cmap=plt.cm.BrBG, interpolation='None', vmin=-1., vmax=1.)\n",
    "    ax.set_title('%s: v1.3 - v1.2' % varname)\n",
    "    ax.axis('off')\n",
    "    fig.colorbar(im, ax=ax, fraction=0.046, pad=0.04)\n",
    "    \n",
    "    fileName = os.path.basename(file2)\n",
    "    fig.suptitle(fileName)\n",
    "    fig.tight_layout()\n",
    "    fig.savefig(\"%s/diff/%s.%s.diff.png\" % (yyyyddd, fileName, varname))\n",
    "    \n",
    "    diff[ diff==0 ] = np.nan\n",
    "    \n",
    "    sigdiffs = diff[np.isnan(diff) == False]\n",
    "    num_diffs = np.shape(sigdiffs)[0]\n",
    "    print(\"The number of non-zero pixels is %s\" % num_diffs)\n",
    "    \n",
    "    print(\"This represents                  %.3f %% of the pixels in the image\" % (\n",
    "        100. * np.float(num_diffs) / np.float( rows * cols ) ))\n",
    "    if verbose:\n",
    "        print(\"The non-zero pixel values are:\")\n",
    "        print(sigdiffs)\n",
    "    \n",
    "    return(fig)"
   ]
  },
  {
   "cell_type": "code",
   "execution_count": null,
   "metadata": {
    "scrolled": false
   },
   "outputs": [],
   "source": [
    "fig = show_diff(oldList[old_file_index], newList[new_file_index], yyyyddd, varname=\"TB\")"
   ]
  },
  {
   "cell_type": "markdown",
   "metadata": {},
   "source": [
    "# use this to loop through all files for one day"
   ]
  },
  {
   "cell_type": "code",
   "execution_count": null,
   "metadata": {},
   "outputs": [],
   "source": [
    "print( len(newList), len(oldList))"
   ]
  },
  {
   "cell_type": "code",
   "execution_count": null,
   "metadata": {},
   "outputs": [],
   "source": [
    "#arange(len(oldList))[:2]"
   ]
  },
  {
   "cell_type": "code",
   "execution_count": null,
   "metadata": {
    "scrolled": true
   },
   "outputs": [],
   "source": [
    "for i in arange(len(oldList)):\n",
    "    for varname in ['TB', 'TB_time']:\n",
    "        fig = show_both(oldList[i], newList[i], yyyyddd, varname=varname)\n",
    "        \n",
    "    fig = show_diff(oldList[i], newList[i], yyyyddd)\n",
    "    #close('all')"
   ]
  },
  {
   "cell_type": "code",
   "execution_count": null,
   "metadata": {},
   "outputs": [],
   "source": []
  }
 ],
 "metadata": {
  "kernelspec": {
   "display_name": "cetb3",
   "language": "python",
   "name": "cetb3"
  },
  "language_info": {
   "codemirror_mode": {
    "name": "ipython",
    "version": 2
   },
   "file_extension": ".py",
   "mimetype": "text/x-python",
   "name": "python",
   "nbconvert_exporter": "python",
   "pygments_lexer": "ipython2",
   "version": "2.7.12"
  }
 },
 "nbformat": 4,
 "nbformat_minor": 1
}
