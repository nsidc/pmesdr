{
 "cells": [
  {
   "cell_type": "markdown",
   "metadata": {},
   "source": [
    "# This notebook converts the flat, binary double-precision EASE2 lat/lon files to .nc files\n",
    "\n",
    "## Currently the geolocation_version is set to \"v0.0\"\n",
    "\n",
    "## To-do for v0.1 geolocation files:\n",
    "\n",
    "Need to check back with Donna about whether the EASE2 geolocation data will be a data set in its own right.\n",
    "If so, the file attribute \"id\" will need to be set to the data set id"
   ]
  },
  {
   "cell_type": "code",
   "execution_count": 1,
   "metadata": {
    "collapsed": true
   },
   "outputs": [],
   "source": [
    "import datetime\n",
    "import glob\n",
    "import json\n",
    "from netCDF4 import Dataset\n",
    "import numpy as np\n",
    "import os\n",
    "import re"
   ]
  },
  {
   "cell_type": "code",
   "execution_count": 2,
   "metadata": {
    "collapsed": false
   },
   "outputs": [
    {
     "name": "stdout",
     "output_type": "stream",
     "text": [
      "/home/vagrant/measures-byu/ipython_notebooks\n"
     ]
    }
   ],
   "source": [
    "%cd /home/vagrant/measures-byu/ipython_notebooks"
   ]
  },
  {
   "cell_type": "markdown",
   "metadata": {},
   "source": [
    "# Set grid-specific variables"
   ]
  },
  {
   "cell_type": "code",
   "execution_count": 3,
   "metadata": {
    "collapsed": false
   },
   "outputs": [],
   "source": [
    "resolution_at_factor = [\"25\",\n",
    "                        \"12.5\",\n",
    "                        \"6.25\",\n",
    "                        \"3.125\"]"
   ]
  },
  {
   "cell_type": "code",
   "execution_count": 4,
   "metadata": {
    "collapsed": false
   },
   "outputs": [],
   "source": [
    "def ease2_grid_str(projection=\"N\", resolution=\"25\"):\n",
    "    return \"EASE2_%s%skm\" % (projection, resolution)"
   ]
  },
  {
   "cell_type": "code",
   "execution_count": 5,
   "metadata": {
    "collapsed": false
   },
   "outputs": [],
   "source": [
    "def ease2_grid_scale(projection=\"N\", factor=0):\n",
    "    base_scale = {\"N\": 25000.,\n",
    "                  \"S\": 25000.,\n",
    "                  \"T\": 25025.26000}\n",
    "    return base_scale[projection] / (2. ** factor)"
   ]
  },
  {
   "cell_type": "code",
   "execution_count": 6,
   "metadata": {
    "collapsed": false
   },
   "outputs": [
    {
     "name": "stdout",
     "output_type": "stream",
     "text": [
      "-9000000.0\n",
      "6756820.2\n"
     ]
    }
   ],
   "source": [
    "ease2_map_origin_x = {\"N\": -9000000.,\n",
    "                       \"S\": -9000000.,\n",
    "                       \"T\": -17367530.44}\n",
    "ease2_map_origin_y = {\"N\": 9000000.,\n",
    "                       \"S\": 9000000.,\n",
    "                       \"T\": 6756820.20000}\n",
    "print ease2_map_origin_x[\"N\"]\n",
    "print ease2_map_origin_y[\"T\"]"
   ]
  },
  {
   "cell_type": "code",
   "execution_count": 7,
   "metadata": {
    "collapsed": false
   },
   "outputs": [],
   "source": [
    "def ease2_geo_filename(grid_name, filetype=\"lats\"):\n",
    "    list = glob.glob(\"/share/data/Geolocation/\" + grid_name + \".\" + filetype + \".*double\")\n",
    "    if len(list) != 1:\n",
    "        print(\"Unexpected number of \" + filetype + \" files found.\\n\")\n",
    "        raise LookupError\n",
    "        \n",
    "    # Parse the filename for rows and columns\n",
    "    m = re.search(r'\\.([0-9]+)x([0-9]+)x1\\.double', list[0])\n",
    "    if m:\n",
    "        ncols = m.group(1)\n",
    "        nrows = m.group(2)\n",
    "    else:\n",
    "        print(\"Error parsing filename \" + list[0] + \" for dimensions.\\n\")\n",
    "        raise LookupError\n",
    "        \n",
    "    return (list[0], int(nrows), int(ncols))"
   ]
  },
  {
   "cell_type": "code",
   "execution_count": 8,
   "metadata": {
    "collapsed": false
   },
   "outputs": [
    {
     "name": "stdout",
     "output_type": "stream",
     "text": [
      "/share/data/Geolocation/EASE2_N25km.lats.720x720x1.double\n",
      "720\n",
      "720\n",
      "/share/data/Geolocation/EASE2_N12.5km.lons.1440x1440x1.double 1440 1440\n"
     ]
    }
   ],
   "source": [
    "file, rows, cols = ease2_geo_filename(\"EASE2_N25km\")\n",
    "print file\n",
    "print rows\n",
    "print cols\n",
    "file, rows, cols = ease2_geo_filename(\"EASE2_N12.5km\", filetype=\"lons\")\n",
    "print file, rows, cols\n",
    "\n"
   ]
  },
  {
   "cell_type": "code",
   "execution_count": 9,
   "metadata": {
    "collapsed": false
   },
   "outputs": [
    {
     "name": "stdout",
     "output_type": "stream",
     "text": [
      "/share/data/Geolocation/EASE2_N12.5km.lons.1440x1440x1.double\n",
      "EASE2_N12.5km.lons.1440x1440x1.double\n"
     ]
    }
   ],
   "source": [
    "print file\n",
    "print os.path.basename(file)\n"
   ]
  },
  {
   "cell_type": "markdown",
   "metadata": {},
   "source": [
    "## Define a function that converts the lat/lon files for a specified projection and grid to the .nc geolocation file\n"
   ]
  },
  {
   "cell_type": "code",
   "execution_count": 10,
   "metadata": {
    "collapsed": false
   },
   "outputs": [],
   "source": [
    "def ease2_make_geolocation_file(projection=\"N\", factor=0):\n",
    "    \n",
    "    geolocation_version = \"v0.0\"\n",
    "    grid_str = ease2_grid_str(projection, resolution_at_factor[factor])\n",
    "    lat_filename, lat_nrows, lat_ncols = ease2_geo_filename(grid_str, filetype=\"lats\")\n",
    "    lon_filename, lon_nrows, lon_ncols = ease2_geo_filename(grid_str, filetype=\"lons\")\n",
    "    if lat_nrows != lon_nrows or lat_ncols != lon_ncols:\n",
    "        print(\"Mismatched lat/lon dimensions\\n\")\n",
    "        raise LookupError\n",
    "        \n",
    "    out_filename = \"/projects/PMESDR/vagrant/Geolocation/%s.geolocation.%s.nc\" % (grid_str, geolocation_version)\n",
    "    \n",
    "    # Set global attributes\n",
    "    fid = Dataset(out_filename, 'w', format='NETCDF4')\n",
    "    fid.Conventions = \"CF-1.6\"\n",
    "    fid.title = \"EASE-Grid 2.0 Pixel Geolocations\"\n",
    "    fid.product_version = geolocation_version\n",
    "    fid.software_version_id = open(\"/vagrant/VERSION\", \"r\").read().rstrip()\n",
    "    fid.software_repository = \"git@bitbucket.org:nsidc/measures-byu.git\"\n",
    "    fid.source = json.dumps([os.path.basename(lat_filename), os.path.basename(lon_filename)])\n",
    "    fid.history = \"Creating_nc_geolocation_files.py\"\n",
    "    fid.comment = \"Latitude and longitude values at centers of EASE-Grid 2.0 grid cells\"\n",
    "    fid.references = json.dumps([\"EASE-Grid 2.0 documentation: http://nsidc.org/data/ease/ease_grid2.html\",\n",
    "                                 \"Brodzik, Mary J.; Billingsley, Brendan; Haran, Terry; Raup, Bruce; Savoie, Matthew H. 2012.\",\n",
    "                                 \"EASE-Grid 2.0: Incremental but Significant Improvements for Earth-Gridded Data Sets.\",\n",
    "                                 \"ISPRS Int. J. Geo-Inf. 1, no. 1: 32-45.\",\n",
    "                                 \"Brodzik, Mary J.; Billingsley, Brendan; Haran, Terry; Raup, Bruce; Savoie, Matthew H. 2014.\",\n",
    "                                 \"Correction: Brodzik, M. J., et al. EASE-Grid 2.0: Incremental but Significant Improvements for Earth-Gridded Data Sets.\",\n",
    "                                 \"ISPRS Int. J. Geo-Inf. 3, no. 3: 1154-1156.\"\n",
    "                                ])\n",
    "    fid.summary = \"Geolocation latitude and longitude for EASE-Grid 2.0\"\n",
    "    fid.institution = [\"National Snow and Ice Data Center\\n\",\n",
    "                       \"Cooperative Institute for Research in Environmental Sciences\\n\",\n",
    "                       \"University of Colorado at Boulder\\n\",\n",
    "                       \"Boulder, CO\"]\n",
    "    fid.publisher = [\"National Snow and Ice Data Center\\n\",\n",
    "                     \"Cooperative Institute for Research in Environmental Sciences\\n\",\n",
    "                     \"University of Colorado at Boulder\\n\",\n",
    "                     \"Boulder, CO\"]\n",
    "    fid.publisher_url = \"http://nsidc.org\"\n",
    "    fid.publisher_email = \"nsidc@nsidc.org\"\n",
    "    fid.project = \"NASA 2012 MEaSUREs (Making Earth System Data Records for Use in Research Environments)\"\n",
    "    fid.standard_name_vocabulary = \"CF Standard Name Table (v27, 28 September 2013)\"\n",
    "    fid.cdm_data_type = \"grid\"\n",
    "    fid.keywords = \"EARTH SCIENCE SERVICES > DATA ANALYSIS AND VISUALIZATION > GEOGRAPHIC INFORMATION SYSTEMS\"\n",
    "    fid.keywords_vocabulary = \"NASA Global Change Master Directory (GCMD) Earth Science Keywords, Version 8.1\"\n",
    "    fid.naming_authority = \"org.doi.dx\"\n",
    "    fid.id = \"TBD: 10.5067/MEASURES/CRYOSPHERE/nsidc-XXXX.000\"\n",
    "    fid.date_created = str(datetime.datetime.now())\n",
    "    fid.acknowledgement = [\"This data set was created with funding from NASA MEaSUREs Grant #NNX13AI23A.\\n\",\n",
    "                           \"Data archiving and distribution is supported by the NASA NSIDC Distributed Active Archive Center (DAAC).\"]\n",
    "    fid.license = \"No constraints on data access or use\"\n",
    "    fid.processing_level = \"Level 3\"\n",
    "    fid.creator_name = \"Mary J. Brodzik\"\n",
    "    fid.creator_email = \"brodzik@nsidc.org\"\n",
    "    fid.creator_url = \"http://nsidc.org/pmesdr\"\n",
    "    fid.contributor_name = \"Mary J. Brodzik\"\n",
    "    fid.contributor_role = \"Principal Investigator\"\n",
    "    fid.citation = [\"Brodzik, M. J..\\n\",\n",
    "                    \"EASE-Grid 2.0 Pixel Geolocations.\\n\",\n",
    "                    \"Version 0.01.\\n\",\n",
    "                    \"[Indicate subset used].\\n\",\n",
    "                    \"Boulder, Colorado USA: NASA DAAC at the National Snow and Ice Data Center.\" ]\n",
    "    \n",
    "    # Create dimension variables\n",
    "    # The following calcuations assume that the map origin is exactly centered\n",
    "    # in the grid, which allows me to just multiply the map origin by -1 to get the \n",
    "    # diagonal corner\n",
    "    scale = ease2_grid_scale(projection, factor)\n",
    "    nrows = lat_nrows\n",
    "    row_min = -1 * ease2_map_origin_y[projection]\n",
    "    row_max = ease2_map_origin_y[projection]\n",
    "    col_min = ease2_map_origin_x[projection]\n",
    "    col_max = -1 * ease2_map_origin_x[projection]\n",
    "    ncols = lat_ncols\n",
    "    rows = fid.createDimension(\"rows\", nrows)\n",
    "    cols = fid.createDimension(\"cols\", ncols)\n",
    "    rows_var = fid.createVariable(\"rows\", \"f8\", (\"rows\",))\n",
    "    cols_var = fid.createVariable(\"cols\", \"f8\", (\"cols\",))\n",
    "    rows_var.standard_name = \"projection_y_coordinate\"\n",
    "    rows_var.units = \"meters\"\n",
    "    rows_var.axis = \"Y\"\n",
    "    rows_var.valid_range = [row_min, row_max]\n",
    "    cols_var.standard_name = \"projection_x_coordinate\"\n",
    "    cols_var.units = \"meters\"\n",
    "    cols_var.axis = \"X\"\n",
    "    cols_var.valid_range = [col_min, col_max]\n",
    "    \n",
    "    # Copy appropriate crs metadata from template file\n",
    "    # For the string variables being copied, if we do not cast them with str() they will\n",
    "    # be written to the output file in a way that ncdump sees them as \"string crs:name\"\n",
    "    # and for some reason these are then ignored by gdal tools, which don't recognize the crs\n",
    "    # information and can't make a geotiff with PROJCS information.\n",
    "    # If they are copied with str(), then gdal tools see them as expected.\n",
    "    # I have no idea why.\n",
    "    template = Dataset(\"/home/vagrant/measures-byu/src/prod/cetb_file/templates/cetb_global_template.nc\", 'r', \"NETCDF4\")\n",
    "    src_crs = template.variables['crs_EASE2_%s' % projection]\n",
    "    crs = fid.createVariable( 'crs', 'S1', () )\n",
    "    crs.grid_mapping_name = str(src_crs.grid_mapping_name)\n",
    "    if projection == \"N\" or projection == \"S\":\n",
    "        crs.longitude_of_projection_origin = src_crs.longitude_of_projection_origin\n",
    "        crs.latitude_of_projection_origin = src_crs.latitude_of_projection_origin\n",
    "    else:\n",
    "        crs.longitude_of_central_meridian = src_crs.longitude_of_central_meridian\n",
    "        crs.standard_parallel = src_crs.standard_parallel\n",
    "    crs.false_easting = src_crs.false_easting\n",
    "    crs.false_northing = src_crs.false_northing\n",
    "    crs.proj4text = str(src_crs.proj4text)\n",
    "    crs.srid = str(src_crs.srid)\n",
    "    crs.crs_wkt = str(src_crs.crs_wkt)\n",
    "    crs.long_name = grid_str\n",
    "    crs.scale_factor_at_projection_origin = scale\n",
    "    \n",
    "    # populate dimension variable values\n",
    "    # Using linspace to ensure these values are exact distances\n",
    "    rows_var[:] = np.linspace(row_min + 0.5 * scale, row_max - 0.5 * scale, endpoint=True, num=nrows)[::-1]\n",
    "    cols_var[:] = np.linspace(col_min + 0.5 * scale, col_max - 0.5 * scale, endpoint=True, num=ncols)\n",
    "    \n",
    "    # Read lat/lon data arrays and store as variables\n",
    "    lats = np.fromfile(lat_filename, dtype='f8').reshape((nrows, ncols))\n",
    "    lons = np.fromfile(lon_filename, dtype='f8').reshape((nrows, ncols))\n",
    "    \n",
    "    latitude = fid.createVariable( 'latitude', 'f8', (\"rows\", \"cols\"), zlib=True, fill_value=-999.)\n",
    "    latitude[:] = lats\n",
    "    latitude.standard_name = \"latitude\"\n",
    "    latitude.long_name = \"Latitude\"\n",
    "    latitude.units = \"degrees_north\"\n",
    "    if projection == \"N\":\n",
    "        latitude.valid_range = [0., 90.]\n",
    "    elif projection == \"S\":\n",
    "        latitude.valid_range = [-90., 0.]\n",
    "    else:\n",
    "        latitude.valid_range = [-67.0575406, 67.0575406]\n",
    "        latitude.axis = \"Y\" # only for cylindrical grids\n",
    "    latitude.grid_mapping = \"crs\"\n",
    "    latitude.coverage_content_type = \"image\"\n",
    "    \n",
    "    longitude = fid.createVariable( 'longitude', 'f8', (\"rows\", \"cols\"), zlib=True, fill_value=-999.)\n",
    "    longitude[:] = lons\n",
    "    longitude.standard_name = \"longitude\"\n",
    "    longitude.long_name = \"Longitude\"\n",
    "    longitude.units = \"degrees_east\"\n",
    "    longitude.valid_range = [-180., 180.]\n",
    "    if projection != \"N\" and projection != \"S\":\n",
    "        longitude.axis = \"X\" # only for cylindrical grids\n",
    "    longitude.grid_mapping = \"crs\"\n",
    "    longitude.coverage_content_type = \"image\"\n",
    "\n",
    "    print \"Non-fill Range of latitude: %s - %s\" % (np.amin(latitude[:][latitude[:] > -999.]), np.amax(latitude))\n",
    "    print \"Non-fill Range of longitude: %s - %s\" % (np.amin(longitude[:][longitude[:] > -999.]), np.amax(longitude))\n",
    "    \n",
    "    template.close()\n",
    "    fid.close()\n",
    "    print \"Geolocation file written to: %s\" % out_filename"
   ]
  },
  {
   "cell_type": "code",
   "execution_count": null,
   "metadata": {
    "collapsed": false
   },
   "outputs": [],
   "source": [
    "# Just run one for testing\n",
    "# ease2_make_geolocation_file(\"N\",1)"
   ]
  },
  {
   "cell_type": "code",
   "execution_count": null,
   "metadata": {
    "collapsed": false
   },
   "outputs": [
    {
     "name": "stdout",
     "output_type": "stream",
     "text": [
      "Next: N, 0\n",
      "Non-fill Range of latitude: 0.00383015829101 - 89.8417311685\n",
      "Non-fill Range of longitude: -179.920311902 - 179.920311902\n",
      "Geolocation file written to: /projects/PMESDR/vagrant/Geolocation/EASE2_N25km.geolocation.v0.0.nc\n",
      "Next: N, 1\n",
      "Non-fill Range of latitude: 8.41793348529e-06 - 89.9208656047\n",
      "Non-fill Range of longitude: -179.96018362 - 179.96018362\n",
      "Geolocation file written to: /projects/PMESDR/vagrant/Geolocation/EASE2_N12.5km.geolocation.v0.0.nc\n",
      "Next: N, 2\n",
      "Non-fill Range of latitude: 4.9958589518e-05 - 90.0\n",
      "Non-fill Range of longitude: -179.980098723 - 179.980098723\n",
      "Geolocation file written to: /projects/PMESDR/vagrant/Geolocation/EASE2_N6.25km.geolocation.v0.0.nc\n",
      "Next: N, 3\n",
      "Non-fill Range of latitude: 1.8803097493e-05 - 90.0\n",
      "Non-fill Range of longitude: -179.990051089 - 179.990051089\n",
      "Geolocation file written to: /projects/PMESDR/vagrant/Geolocation/EASE2_N3.125km.geolocation.v0.0.nc\n",
      "Next: S, 0\n",
      "Non-fill Range of latitude: -89.8417311685 - -0.003830158291\n",
      "Non-fill Range of longitude: -179.920311902 - 179.920311902\n",
      "Geolocation file written to: /projects/PMESDR/vagrant/Geolocation/EASE2_S25km.geolocation.v0.0.nc\n",
      "Next: S, 1\n",
      "Non-fill Range of latitude: -89.9208656047 - -8.41793348795e-06\n",
      "Non-fill Range of longitude: -179.96018362 - 179.96018362\n",
      "Geolocation file written to: /projects/PMESDR/vagrant/Geolocation/EASE2_S12.5km.geolocation.v0.0.nc\n",
      "Next: S, 2\n",
      "Non-fill Range of latitude: -90.0 - -4.99585895259e-05\n",
      "Non-fill Range of longitude: -179.980098723 - 179.980098723\n",
      "Geolocation file written to: /projects/PMESDR/vagrant/Geolocation/EASE2_S6.25km.geolocation.v0.0.nc\n",
      "Next: S, 3\n",
      "Non-fill Range of latitude: -90.0 - -1.88030974858e-05"
     ]
    }
   ],
   "source": [
    "for projection in [\"N\", \"S\", \"T\"]:\n",
    "    for factor in np.arange(4):\n",
    "        print(\"Next: %s, %s\" % (projection, factor))\n",
    "        ease2_make_geolocation_file(projection, factor)"
   ]
  },
  {
   "cell_type": "code",
   "execution_count": null,
   "metadata": {
    "collapsed": true
   },
   "outputs": [],
   "source": []
  }
 ],
 "metadata": {
  "kernelspec": {
   "display_name": "Python 2",
   "language": "python",
   "name": "python2"
  },
  "language_info": {
   "codemirror_mode": {
    "name": "ipython",
    "version": 2
   },
   "file_extension": ".py",
   "mimetype": "text/x-python",
   "name": "python",
   "nbconvert_exporter": "python",
   "pygments_lexer": "ipython2",
   "version": "2.7.10"
  }
 },
 "nbformat": 4,
 "nbformat_minor": 0
}
