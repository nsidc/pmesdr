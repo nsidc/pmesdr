{
 "cells": [
  {
   "cell_type": "code",
   "execution_count": 1,
   "metadata": {
    "collapsed": true
   },
   "outputs": [],
   "source": [
    "import datetime\n",
    "from netCDF4 import Dataset\n",
    "import numpy as np\n",
    "import json"
   ]
  },
  {
   "cell_type": "code",
   "execution_count": 2,
   "metadata": {
    "collapsed": false
   },
   "outputs": [
    {
     "name": "stdout",
     "output_type": "stream",
     "text": [
      "/home/vagrant/measures-byu/ipython_notebooks\n"
     ]
    }
   ],
   "source": [
    "%cd /home/vagrant/measures-byu/ipython_notebooks"
   ]
  },
  {
   "cell_type": "markdown",
   "metadata": {},
   "source": [
    "# Set grid-specific variables"
   ]
  },
  {
   "cell_type": "code",
   "execution_count": 3,
   "metadata": {
    "collapsed": false
   },
   "outputs": [],
   "source": [
    "resolution_at_factor = [\"25\",\n",
    "                        \"12.5\",\n",
    "                        \"6.25\",\n",
    "                        \"3.125\"]\n",
    "#for factor in np.arange(4):\n",
    "#    print resolution_at_factor[factor]"
   ]
  },
  {
   "cell_type": "code",
   "execution_count": 4,
   "metadata": {
    "collapsed": false
   },
   "outputs": [],
   "source": [
    "def ease2_grid_str(projection=\"N\", resolution=\"25\"):\n",
    "    return \"EASE2_%s%skm\" % (projection, resolution)\n",
    "#for factor in np.arange(4):\n",
    "#    print ease2_grid_str(\"N\", resolution=resolution_at_factor[factor])\n"
   ]
  },
  {
   "cell_type": "code",
   "execution_count": 5,
   "metadata": {
    "collapsed": false
   },
   "outputs": [],
   "source": [
    "def ease2_grid_scale(projection=\"N\", factor=0):\n",
    "    base_scale = {\"N\": 25000.,\n",
    "                  \"S\": 25000.,\n",
    "                  \"T\": 25025.26000}\n",
    "    return base_scale[projection] / (2. ** factor)\n",
    "# for factor in np.arange(4):\n",
    "#     print ease2_grid_scale(\"N\",factor)\n",
    "#     print ease2_grid_scale(\"S\",factor)\n",
    "#     print ease2_grid_scale(\"T\",factor)\n",
    "    \n",
    "    "
   ]
  },
  {
   "cell_type": "markdown",
   "metadata": {},
   "source": [
    "## Define a function that converts the lat/lon files for a specified projection and grid to the .nc geolocation file\n"
   ]
  },
  {
   "cell_type": "code",
   "execution_count": 8,
   "metadata": {
    "collapsed": false
   },
   "outputs": [],
   "source": [
    "def ease2_make_geolocation_file(projection=\"N\", factor=0):\n",
    "    # lat_filename =\n",
    "    out_filename = \"/projects/PMESDR/vagrant/Geolocation/%s.geolocation.nc\" % ease2_grid_str(projection,\n",
    "                                                                                             resolution_at_factor[factor])\n",
    "    \n",
    "    # Set global attributes\n",
    "    fid = Dataset(out_filename, 'w', format='NETCDF4')\n",
    "    fid.Conventions = \"CF-1.6\"\n",
    "    fid.title = \"EASE-Grid 2.0 Pixel Geolocations\"\n",
    "    fid.product_version = \"v0.01\"\n",
    "    fid.software_version_id = open(\"/vagrant/VERSION\", \"r\").read().rstrip()\n",
    "    fid.software_repository = \"git@bitbucket.org:nsidc/measures-byu.git\"\n",
    "    fid.source = \"TBD(list of geolocation lat/lon files used)\"\n",
    "    fid.history = \"Jupyter notebook: Creating_nc_geolocation_files\"\n",
    "    fid.comment = \"Latitude and longitude values at centers of EASE-Grid 2.0 grid cells\"\n",
    "    fid.references = json.dumps([\"EASE-Grid 2.0 documentation: http://nsidc.org/data/ease/ease_grid2.html\",\n",
    "                                 \"Brodzik, Mary J.; Billingsley, Brendan; Haran, Terry; Raup, Bruce; Savoie, Matthew H. 2012.\",\n",
    "                                 \"EASE-Grid 2.0: Incremental but Significant Improvements for Earth-Gridded Data Sets.\",\n",
    "                                 \"ISPRS Int. J. Geo-Inf. 1, no. 1: 32-45.\",\n",
    "                                 \"Brodzik, Mary J.; Billingsley, Brendan; Haran, Terry; Raup, Bruce; Savoie, Matthew H. 2014.\",\n",
    "                                 \"Correction: Brodzik, M. J., et al. EASE-Grid 2.0: Incremental but Significant Improvements for Earth-Gridded Data Sets.\",\n",
    "                                 \"ISPRS Int. J. Geo-Inf. 3, no. 3: 1154-1156.\"\n",
    "                                ])\n",
    "    fid.summary = \"Geolocation latitude and longitude for EASE-Grid 2.0\"\n",
    "    fid.institution = [\"National Snow and Ice Data Center\\n\",\n",
    "                       \"Cooperative Institute for Research in Environmental Sciences\\n\",\n",
    "                       \"University of Colorado at Boulder\\n\",\n",
    "                       \"Boulder, CO\"]\n",
    "    fid.publisher = [\"National Snow and Ice Data Center\\n\",\n",
    "                     \"Cooperative Institute for Research in Environmental Sciences\\n\",\n",
    "                     \"University of Colorado at Boulder\\n\",\n",
    "                     \"Boulder, CO\"]\n",
    "    fid.publisher_url = \"http://nsidc.org\"\n",
    "    fid.publisher_email = \"nsidc@nsidc.org\"\n",
    "    fid.project = \"NASA 2012 MEaSUREs (Making Earth System Data Records for Use in Research Environments)\"\n",
    "    fid.standard_name_vocabulary = \"CF Standard Name Table (v27, 28 September 2013)\"\n",
    "    fid.cdm_data_type = \"grid\"\n",
    "    fid.keywords = \"TBD\"\n",
    "    fid.keywords_vocabulary = \"TBD\"\n",
    "    fid.naming_authority = \"org.doi.dx\"\n",
    "    fid.id = \"TBD: 10.5067/MEASURES/CRYOSPHERE/nsidc-XXXX.001\"\n",
    "    fid.date_created = str(datetime.datetime.now())\n",
    "    fid.acknowledgement = [\"This data set was created with funding from NASA MEaSUREs Grant #NNX13AI23A.\\n\",\n",
    "                           \"Data archiving and distribution is supported by the NASA NSIDC Distributed Active Archive Center (DAAC).\"]\n",
    "    fid.license = \"No constraints on data access or use\"\n",
    "    fid.processing_level = \"Level 3\"\n",
    "    fid.creator_name = \"Mary J. Brodzik\"\n",
    "    fid.creator_email = \"brodzik@nsidc.org\"\n",
    "    fid.creator_url = \"http://nsidc.org/pmesdr\"\n",
    "    fid.contributor_name = \"Mary J. Brodzik\"\n",
    "    fid.contributor_role = \"Principal Investigator\"\n",
    "    fid.citation = [\"Brodzik, M. J..\\n\",\n",
    "                    \"EASE-Grid 2.0 Pixel Geolocations.\\n\",\n",
    "                    \"Version 0.01.\\n\",\n",
    "                    \"[Indicate subset used].\\n\",\n",
    "                    \"Boulder, Colorado USA: NASA DAAC at the National Snow and Ice Data Center.\" ]\n",
    " \n",
    "    \n",
    "    fid.close()\n",
    "    print \"Geolocation file written to: %s\" % out_filename"
   ]
  },
  {
   "cell_type": "code",
   "execution_count": 10,
   "metadata": {
    "collapsed": false
   },
   "outputs": [
    {
     "name": "stdout",
     "output_type": "stream",
     "text": [
      "Geolocation file written to: /projects/PMESDR/vagrant/Geolocation/EASE2_N12.5km.geolocation.nc\n"
     ]
    }
   ],
   "source": [
    "ease2_make_geolocation_file(\"N\",1)"
   ]
  },
  {
   "cell_type": "code",
   "execution_count": null,
   "metadata": {
    "collapsed": false
   },
   "outputs": [],
   "source": [
    "fid = Dataset('/projects/PMESDR/vagrant/Geolocation/EASE2_N25km.geolocation.nc', 'w', format='NETCDF4')"
   ]
  },
  {
   "cell_type": "code",
   "execution_count": null,
   "metadata": {
    "collapsed": false
   },
   "outputs": [],
   "source": [
    "fid.Conventions = \"CF-1.6\"\n",
    "fid.title = \"EASE-Grid 2.0 Pixel Geolocations\"\n",
    "fid.product_version = \"v0.01\"\n",
    "fid.software_version_id = open(\"/vagrant/VERSION\", \"r\").read().rstrip()\n",
    "fid.software_repository = \"git@bitbucket.org:nsidc/measures-byu.git\"\n",
    "fid.source = \"TBD(list of geolocation lat/lon files used)\"\n",
    "fid.history = \"Jupyter notebook: Creating_nc_geolocation_files\"\n",
    "fid.comment = \"Latitude and longitude values at centers of EASE-Grid 2.0 grid cells\"\n",
    "fid.references = json.dumps([\"EASE-Grid 2.0 documentation: http://nsidc.org/data/ease/ease_grid2.html\",\n",
    "                             \"Brodzik, Mary J.; Billingsley, Brendan; Haran, Terry; Raup, Bruce; Savoie, Matthew H. 2012.\",\n",
    "                             \"EASE-Grid 2.0: Incremental but Significant Improvements for Earth-Gridded Data Sets.\",\n",
    "                             \"ISPRS Int. J. Geo-Inf. 1, no. 1: 32-45.\",\n",
    "                             \"Brodzik, Mary J.; Billingsley, Brendan; Haran, Terry; Raup, Bruce; Savoie, Matthew H. 2014.\",\n",
    "                             \"Correction: Brodzik, M. J., et al. EASE-Grid 2.0: Incremental but Significant Improvements for Earth-Gridded Data Sets.\",\n",
    "                             \"ISPRS Int. J. Geo-Inf. 3, no. 3: 1154-1156.\"\n",
    "                            ])\n",
    "fid.summary = \"Geolocation latitude and longitude for EASE-Grid 2.0\"\n",
    "fid.institution = [\"National Snow and Ice Data Center\\n\",\n",
    "                   \"Cooperative Institute for Research in Environmental Sciences\\n\",\n",
    "                   \"University of Colorado at Boulder\\n\",\n",
    "                   \"Boulder, CO\"]\n",
    "fid.publisher = [\"National Snow and Ice Data Center\\n\",\n",
    "                   \"Cooperative Institute for Research in Environmental Sciences\\n\",\n",
    "                   \"University of Colorado at Boulder\\n\",\n",
    "                   \"Boulder, CO\"]\n",
    "fid.publisher_url = \"http://nsidc.org\"\n",
    "fid.publisher_email = \"nsidc@nsidc.org\"\n",
    "fid.project = \"NASA 2012 MEaSUREs (Making Earth System Data Records for Use in Research Environments)\"\n",
    "fid.standard_name_vocabulary = \"CF Standard Name Table (v27, 28 September 2013)\"\n",
    "fid.cdm_data_type = \"grid\"\n",
    "fid.keywords = \"TBD\"\n",
    "fid.keywords_vocabulary = \"TBD\"\n",
    "fid.naming_authority = \"org.doi.dx\"\n",
    "fid.id = \"TBD: 10.5067/MEASURES/CRYOSPHERE/nsidc-XXXX.001\"\n",
    "fid.date_created = str(datetime.datetime.now())\n",
    "fid.acknowledgement = [\"This data set was created with funding from NASA MEaSUREs Grant #NNX13AI23A.\\n\",\n",
    "                       \"Data archiving and distribution is supported by the NASA NSIDC Distributed Active Archive Center (DAAC).\"]\n",
    "fid.license = \"No constraints on data access or use\"\n",
    "fid.processing_level = \"Level 3\"\n",
    "fid.creator_name = \"Mary J. Brodzik\"\n",
    "fid.creator_email = \"brodzik@nsidc.org\"\n",
    "fid.creator_url = \"http://nsidc.org/pmesdr\"\n",
    "fid.contributor_name = \"Mary J. Brodzik\"\n",
    "fid.contributor_role = \"Principal Investigator\"\n",
    "fid.citation = [\"Brodzik, M. J..\\n\",\n",
    "                \"EASE-Grid 2.0 Pixel Geolocations.\\n\",\n",
    "                \"Version 0.01.\\n\",\n",
    "                \"[Indicate subset used].\\n\",\n",
    "                \"Boulder, Colorado USA: NASA DAAC at the National Snow and Ice Data Center.\" ]\n"
   ]
  },
  {
   "cell_type": "markdown",
   "metadata": {},
   "source": [
    "# Create dimension variables\n"
   ]
  },
  {
   "cell_type": "code",
   "execution_count": null,
   "metadata": {
    "collapsed": false
   },
   "outputs": [],
   "source": [
    "scale = 25000.\n",
    "nrows = 720\n",
    "row_min = -9000000.\n",
    "row_max = 9000000.\n",
    "col_min = -9000000.\n",
    "col_max = 9000000.\n",
    "ncols = 720\n",
    "rows = fid.createDimension(\"rows\", nrows)\n",
    "cols = fid.createDimension(\"cols\", ncols)\n",
    "rows_var = fid.createVariable(\"rows\", \"f8\", (\"rows\",))\n",
    "cols_var = fid.createVariable(\"cols\", \"f8\", (\"cols\",))\n",
    "rows_var.standard_name = \"projection_y_coordinate\"\n",
    "rows_var.units = \"meters\"\n",
    "rows_var.axis = \"Y\"\n",
    "rows_var.valid_range = [row_min, row_max]\n",
    "cols_var.standard_name = \"projection_x_coordinate\"\n",
    "cols_var.units = \"meters\"\n",
    "cols_var.axis = \"X\"\n",
    "cols_var.valid_range = [col_min, col_max]"
   ]
  },
  {
   "cell_type": "markdown",
   "metadata": {},
   "source": [
    "# Copy appropriate crs metadata from template file"
   ]
  },
  {
   "cell_type": "code",
   "execution_count": null,
   "metadata": {
    "collapsed": false
   },
   "outputs": [],
   "source": [
    "template = Dataset(\"/home/vagrant/measures-byu/src/prod/cetb_file/templates/cetb_global_template.nc\", 'r', \"NETCDF4\")\n",
    "src_crs = template.variables['crs_EASE2_N']"
   ]
  },
  {
   "cell_type": "code",
   "execution_count": null,
   "metadata": {
    "collapsed": false
   },
   "outputs": [],
   "source": [
    "crs = fid.createVariable( 'crs', 'S1', () )\n",
    "crs.grid_mapping_name = src_crs.grid_mapping_name\n",
    "crs.longitude_of_projection_origin = src_crs.longitude_of_projection_origin\n",
    "crs.latitude_of_projection_origin = src_crs.latitude_of_projection_origin\n",
    "crs.false_easting = src_crs.false_easting\n",
    "crs.false_northing = src_crs.false_northing\n",
    "crs.proj4text = src_crs.proj4text\n",
    "crs.srid = src_crs.srid\n",
    "crs.crs_wkt = src_crs.crs_wkt\n",
    "crs.long_name = \"EASE2_N25km\"\n",
    "crs.scale_factor_at_projection_origin = scale\n"
   ]
  },
  {
   "cell_type": "code",
   "execution_count": null,
   "metadata": {
    "collapsed": false
   },
   "outputs": [],
   "source": [
    "template.close()"
   ]
  },
  {
   "cell_type": "markdown",
   "metadata": {},
   "source": [
    "# Populate dimension variable values\n",
    "\n",
    "Use linspace to ensure these values are exact distances"
   ]
  },
  {
   "cell_type": "code",
   "execution_count": null,
   "metadata": {
    "collapsed": false
   },
   "outputs": [],
   "source": [
    "rows_var[:] = np.linspace(row_min + 0.5 * scale, row_max - 0.5 * scale, endpoint=True, num=nrows)[::-1]\n",
    "cols_var[:] = np.linspace(col_min + 0.5 * scale, col_max - 0.5 * scale, endpoint=True, num=ncols)"
   ]
  },
  {
   "cell_type": "markdown",
   "metadata": {},
   "source": [
    "# Read lat/long data and store as variables"
   ]
  },
  {
   "cell_type": "code",
   "execution_count": null,
   "metadata": {
    "collapsed": false
   },
   "outputs": [],
   "source": [
    "lats = np.fromfile('/projects/PMESDR/tmp/geolocation/EASE2_N25km.lats.720x720x1.double', dtype='f8').reshape((nrows, ncols))\n",
    "lons = np.fromfile('/projects/PMESDR/tmp/geolocation/EASE2_N25km.lons.720x720x1.double', dtype='f8').reshape((nrows, ncols))"
   ]
  },
  {
   "cell_type": "code",
   "execution_count": null,
   "metadata": {
    "collapsed": false
   },
   "outputs": [],
   "source": [
    "latitude = fid.createVariable( 'latitude', 'f8', (\"rows\", \"cols\"), zlib=True, fill_value=-999.)\n",
    "latitude.standard_name = \"latitude\"\n",
    "latitude.long_name = \"Latitude\"\n",
    "latitude.units = \"degrees_north\"\n",
    "latitude.valid_range = [-90., 90.]\n",
    "# latitude.axis = \"Y\" # only for T grids\n",
    "latitude[:] = lats\n",
    "longitude = fid.createVariable( 'longitude', 'f8', (\"rows\", \"cols\"), zlib=True, fill_value=-999.)\n",
    "longitude.standard_name = \"latitude\"\n",
    "longitude.long_name = \"Latitude\"\n",
    "longitude.units = \"degrees_north\"\n",
    "longitude.valid_range = [-90., 90.]\n",
    "# longitude.axis = \"X\" # only for T grids\n",
    "longitude[:] = lons"
   ]
  },
  {
   "cell_type": "code",
   "execution_count": null,
   "metadata": {
    "collapsed": true
   },
   "outputs": [],
   "source": [
    "fid.close()"
   ]
  },
  {
   "cell_type": "code",
   "execution_count": null,
   "metadata": {
    "collapsed": false
   },
   "outputs": [],
   "source": [
    "np.amin(lats)"
   ]
  },
  {
   "cell_type": "code",
   "execution_count": null,
   "metadata": {
    "collapsed": false
   },
   "outputs": [],
   "source": [
    "np.amin(lons)"
   ]
  },
  {
   "cell_type": "code",
   "execution_count": null,
   "metadata": {
    "collapsed": true
   },
   "outputs": [],
   "source": []
  }
 ],
 "metadata": {
  "kernelspec": {
   "display_name": "Python 2",
   "language": "python",
   "name": "python2"
  },
  "language_info": {
   "codemirror_mode": {
    "name": "ipython",
    "version": 2
   },
   "file_extension": ".py",
   "mimetype": "text/x-python",
   "name": "python",
   "nbconvert_exporter": "python",
   "pygments_lexer": "ipython2",
   "version": "2.7.11"
  }
 },
 "nbformat": 4,
 "nbformat_minor": 0
}
