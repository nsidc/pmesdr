{
 "cells": [
  {
   "cell_type": "markdown",
   "metadata": {},
   "source": [
    "LTOD calculations\n",
    "\n",
    "Take 3 days worth of gsx input swath data for a sensor\n",
    "    for each swath locate all measurements that lie between 70 and 71 N (or S) latitude\n",
    "    save the longitude and UTC for each measurement\n",
    "    \n",
    "Plot a histogram of the times - but it's more complicated than that - \n",
    "    for each time, which is in UTC, take the longitude and calculate what the ltod is for that\n",
    "    UTC at that longitude.\n",
    "    \n",
    "    i.e. if the UTC is 02:48 and the longitude is -105, then the ltod is ((2*60)+48) + (-105*4)\n"
   ]
  },
  {
   "cell_type": "code",
   "execution_count": 1,
   "metadata": {},
   "outputs": [
    {
     "name": "stdout",
     "output_type": "stream",
     "text": [
      "Populating the interactive namespace from numpy and matplotlib\n"
     ]
    }
   ],
   "source": [
    "from __future__ import print_function\n",
    "%pylab inline\n",
    "from netCDF4 import Dataset\n",
    "import matplotlib.pyplot as plt\n",
    "import numpy as np\n",
    "import glob as glob\n",
    "import time\n",
    "import calendar\n",
    "import numpy.ma as ma"
   ]
  },
  {
   "cell_type": "code",
   "execution_count": 2,
   "metadata": {},
   "outputs": [],
   "source": [
    "def seconds_to_midnight(seconds):\n",
    "    \"\"\" This function calculates the number of seconds to midnight of the input\n",
    "        time.  This is used to convert the scan times in the file to local time\n",
    "        for that day \"\"\"\n",
    "    st = time.strptime(\"01.01.1987\", \"%d.%m.%Y\")\n",
    "    seconds_to_epoch = calendar.timegm(st)\n",
    "    # get file epoch date in seconds since 1970\n",
    "    str_date = time.gmtime(seconds + seconds_to_epoch)\n",
    "    # get file date from number of seconds since 1987\n",
    "    dmid = \"%02d.%02d.%d\" % (str_date.tm_mday, str_date.tm_mon, str_date.tm_year)\n",
    "    utc_midnight = time.strptime(dmid, \"%d.%m.%Y\")\n",
    "    utc_seconds_to_midnight = calendar.timegm(utc_midnight)\n",
    "    # get midnight of file date in seconds\n",
    "    return (utc_seconds_to_midnight - seconds_to_epoch)"
   ]
  },
  {
   "cell_type": "code",
   "execution_count": 3,
   "metadata": {},
   "outputs": [],
   "source": [
    "def create_ltod(files, lat_min=70., lat_max=71.):\n",
    "    \"\"\" This function takes a list of gsx swath files as an argument and\n",
    "        calculates the local time of each measurement in a specified latitude band\n",
    "        It returns a 1-D array of the local times (in hours wrt midnight), \n",
    "        suitable for creating a histogram \"\"\"\n",
    "    \n",
    "    fid = Dataset(files[0], 'r', 'NETCDF4')\n",
    "    lat = fid.variables['latitude_loc1'][:]\n",
    "    lon = fid.variables['longitude_loc1'][:]\n",
    "    scantime = fid.variables['scan_time_loc1'][:]\n",
    "    meas = len(fid.dimensions['measurements_loc1'])\n",
    "    scan_time = array([scantime,]*meas).transpose()\n",
    "    lat_all = lat.flatten()\n",
    "    lon_all = lon.flatten()\n",
    "    offset_seconds = seconds_to_midnight(scantime[0]) # get the offset to midnight for the first scanline\n",
    "    scantime_all = scan_time.flatten() - offset_seconds\n",
    "    fid.close()\n",
    "    for fil in files[1:-1]:\n",
    "        #print (fil)\n",
    "        fid = Dataset(fil, 'r', 'NETCDF4')\n",
    "        scantime = fid.variables['scan_time_loc1'][:]\n",
    "        if (len(scantime)):\n",
    "            meas = len(fid.dimensions['measurements_loc1'])\n",
    "            scan_time = array([scantime,]*meas).transpose()\n",
    "            offset_seconds = seconds_to_midnight(scantime[0])\n",
    "            scantime_all = np.concatenate((scantime_all, (scan_time.flatten() - offset_seconds)))\n",
    "        else:\n",
    "            fid.close()\n",
    "            continue         \n",
    "        lat = fid.variables['latitude_loc1'][:]\n",
    "        lon = fid.variables['longitude_loc1'][:]\n",
    "        lat_all = np.concatenate((lat_all, lat.flatten()))\n",
    "        lon_all = np.concatenate((lon_all, lon.flatten()))\n",
    "        fid.close()\n",
    "    latm = ma.masked_where((lat_all < lat_min), lat_all)\n",
    "    lat_band = ma.masked_where( latm > lat_max, latm)\n",
    "    lon_band = ma.masked_array(lon_all, lat_band.mask)\n",
    "    scantime_band = ma.masked_array(scantime_all, lat_band.mask)\n",
    "    final_times = scantime_band + (lon_band*4*60.0)\n",
    "    ftimes = final_times/3600.\n",
    "    ftimes[ftimes > 24.0] = ftimes[ftimes > 24.0] - 24.0\n",
    "    ftimes[ftimes < 0.] = ftimes[ftimes < 0.] + 24.0\n",
    "    return ftimes"
   ]
  },
  {
   "cell_type": "code",
   "execution_count": 4,
   "metadata": {},
   "outputs": [
    {
     "name": "stdout",
     "output_type": "stream",
     "text": [
      "/gpfs/summit/scratch/moha2290/AMSR2_GSX\n"
     ]
    }
   ],
   "source": [
    "%cd /scratch/summit/moha2290/AMSR2_GSX"
   ]
  },
  {
   "cell_type": "code",
   "execution_count": 14,
   "metadata": {},
   "outputs": [
    {
     "name": "stdout",
     "output_type": "stream",
     "text": [
      "31\n",
      "43\n",
      "31 43 44\n"
     ]
    }
   ],
   "source": [
    "A2_2012 = sort(glob.glob(\"/scratch/summit/moha2290/AMSR2_GSX/*V.2012070[234]*.nc\"))\n",
    "print (len(A2_2012))\n",
    "A2_2016 = sort(glob.glob(\"/scratch/summit/moha2290/AMSR2_GSX/*V.2016070[234]*.nc\"))\n",
    "print(len(A2_2016))\n",
    "A2_2021 = sort(glob.glob(\"/scratch/summit/moha2290/AMSR2_GSX/*V.2021070[456]*.nc\"))\n",
    "print (len(A2_2012), len(A2_2016), len(A2_2021))"
   ]
  },
  {
   "cell_type": "code",
   "execution_count": null,
   "metadata": {},
   "outputs": [],
   "source": [
    "%cd /projects/PMESDR/vagrant"
   ]
  },
  {
   "cell_type": "code",
   "execution_count": 8,
   "metadata": {},
   "outputs": [],
   "source": [
    "ftn_A2_2012 = create_ltod(A2_2012, lat_min = 70.0, lat_max = 71.0)\n",
    "fts_A2_2012 = create_ltod(A2_2012, lat_max = -70.0, lat_min = -71.0)"
   ]
  },
  {
   "cell_type": "code",
   "execution_count": null,
   "metadata": {},
   "outputs": [],
   "source": [
    "fil_F10 = sort(glob.glob(\"F10-1996/*F10_D1996010*.nc\"))\n",
    "fil_F11 = sort(glob.glob(\"F11-2000/*F11_D2000051*.nc\"))\n",
    "fil_F15 = sort(glob.glob(\"F15-2000/*F15_D2000022*.nc\"))\n",
    "fil_F17 = sort(glob.glob(\"F17-2008/*F17_D2008123*.nc\"))\n",
    "fil_smmr = sort(glob.glob(\"pmadden/smmr_1984/gsx_84.35*.nc\"))\n",
    "fil_F14 = sort(glob.glob(\"F14-2008/*F14_D2008022*.nc\"))\n",
    "fil_F08 = sort(glob.glob(\"F08-1989/*.nc\"))\n",
    "fil_F16 = sort(glob.glob(\"F16-2006/*F16_D2006010*.nc\"))\n",
    "fil_F13 = sort(glob.glob(\"F13-2003/*F13_D2003010*.nc\"))\n",
    "fil_F18 = sort(glob.glob(\"F18-2010/*F18_D201004*.nc\"))\n",
    "fil_amsre = sort(glob.glob(\"prototype-data/AMSRE/*.nc\"))"
   ]
  },
  {
   "cell_type": "code",
   "execution_count": null,
   "metadata": {},
   "outputs": [],
   "source": [
    "print (len(fil_F10), len(fil_F11), len(fil_F15), len(fil_F17), len(fil_smmr), len(fil_F08))"
   ]
  },
  {
   "cell_type": "code",
   "execution_count": null,
   "metadata": {},
   "outputs": [],
   "source": [
    "print (len(fil_amsre), len(fil_F16), len(fil_F13), len(fil_F14), len(fil_F18))"
   ]
  },
  {
   "cell_type": "code",
   "execution_count": null,
   "metadata": {},
   "outputs": [],
   "source": [
    "ftn_F08 = create_ltod(fil_F08, lat_min = 70.0, lat_max = 71.0)\n",
    "fts_F08 = create_ltod(fil_F08, lat_max = -70.0, lat_min = -71.0)\n",
    "ftn_smmr = create_ltod(fil_smmr[30:-1], lat_min = 70.0, lat_max = 71.0)\n",
    "fts_smmr = create_ltod(fil_smmr[30:-1], lat_max = -70.0, lat_min = -71.0)\n",
    "ftn_F17 = create_ltod(fil_F17, lat_min = 70.0, lat_max = 71.0)\n",
    "fts_F17 = create_ltod(fil_F17, lat_max = -70.0, lat_min = -71.0)\n",
    "ftn_F15 = create_ltod(fil_F15[70:-1], lat_min = 70.0, lat_max = 71.0)\n",
    "fts_F15 = create_ltod(fil_F15[70:-1], lat_max = -70.0, lat_min = -71.0)\n",
    "ftn_F10 = create_ltod(fil_F10[0:30], lat_min = 70.0, lat_max = 71.0)\n",
    "fts_F10 = create_ltod(fil_F10[0:30], lat_max = -70.0, lat_min = -71.0)\n",
    "ftn_F11 = create_ltod(fil_F11[50:-1], lat_min = 70.0, lat_max = 71.0)\n",
    "fts_F11 = create_ltod(fil_F11[50:-1], lat_max = -70.0, lat_min = -71.0)\n",
    "ftn_F16 = create_ltod(fil_F16[90:-1], lat_min = 70.0, lat_max = 71.0)\n",
    "fts_F16 = create_ltod(fil_F16[90:-1], lat_max = -70.0, lat_min = -71.0)\n",
    "ftn_F13 = create_ltod(fil_F13[0:40], lat_min = 70.0, lat_max = 71.0)\n",
    "fts_F13 = create_ltod(fil_F13[0:40], lat_max = -70.0, lat_min = -71.0)\n",
    "ftn_F14 = create_ltod(fil_F14, lat_min = 70.0, lat_max = 71.0)\n",
    "fts_F14 = create_ltod(fil_F14, lat_max = -70.0, lat_min = -71.0)\n",
    "ftn_F18 = create_ltod(fil_F18, lat_min = 70.0, lat_max = 71.0)\n",
    "fts_F18 = create_ltod(fil_F18, lat_max = -70.0, lat_min = -71.0)\n",
    "ftn_amsre = create_ltod(fil_amsre, lat_min = 70.0, lat_max = 71.0)\n",
    "fts_amsre = create_ltod(fil_amsre, lat_max = -70.0, lat_min = -71.0)"
   ]
  },
  {
   "cell_type": "code",
   "execution_count": null,
   "metadata": {},
   "outputs": [],
   "source": [
    "fig = plt.figure(figsize=(15,12))\n",
    "plt.suptitle('LTOD calculations based on observations between 70 and 71 N/S latitudes')\n",
    "a = fig.add_subplot(2,3,1)\n",
    "plt.hist(ftn_F16,bins=(np.arange(25)))\n",
    "plt.plot([15, 15], [0, 11000], color='r', linestyle='--')\n",
    "plt.plot([3, 3], [0, 11000], color='r', linestyle='--')\n",
    "a.set_title('F16 North - 0300/1500\\n2006 doy 010\\n37 files')\n",
    "a = fig.add_subplot(2,3,2)\n",
    "plt.hist(ftn_F17, bins = (np.arange(25)))\n",
    "plt.plot([12, 12], [0, 7500], color='r', linestyle='--')\n",
    "plt.plot([0, 0], [0, 7500], color='r', linestyle='--')\n",
    "a.set_title('F17 North - 0000/1200\\n2008 doy 123\\n28 files')\n",
    "a = fig.add_subplot(2,3,3)\n",
    "a.set_title('F18 North - 0200/1400\\n2010 doy 107\\n14 files')\n",
    "plt.hist(ftn_F18, bins = (np.arange(25)))\n",
    "plt.plot([14, 14], [0, 4000], color='r', linestyle='--')\n",
    "plt.plot([2, 2], [0, 4000], color='r', linestyle='--')\n",
    "a = fig.add_subplot(2,3,4)\n",
    "plt.hist(fts_F16, bins = (np.arange(25)))\n",
    "plt.plot([15, 15], [0, 11000], color='r', linestyle='--')\n",
    "plt.plot([3, 3], [0, 11000], color='r', linestyle='--')\n",
    "a.set_title('F16 South - 0300/1500\\n2006 doy 010')\n",
    "a = fig.add_subplot(2,3,5)\n",
    "plt.plot([12, 12], [0, 7500], color='r', linestyle='--')\n",
    "plt.plot([0, 0], [0, 7500], color='r', linestyle='--')\n",
    "plt.hist(fts_F17, bins = (np.arange(25)))\n",
    "a.set_title('F17 South - 0000/1200\\n2008 doy 123')\n",
    "a = fig.add_subplot(2,3,6)\n",
    "plt.hist(fts_F18, bins = (np.arange(25)))\n",
    "plt.plot([14, 14], [0, 4000], color='r', linestyle='--')\n",
    "plt.plot([2, 2], [0, 4000], color='r', linestyle='--')\n",
    "a.set_title('F18 South - 0200/1400\\n2010 doy 107')\n",
    "plt.show\n",
    "fig.savefig('/projects/PMESDR/vagrant/mhardman/SSMIS.png')"
   ]
  },
  {
   "cell_type": "code",
   "execution_count": null,
   "metadata": {},
   "outputs": [],
   "source": [
    "fig = plt.figure(figsize=(15,12))\n",
    "plt.suptitle('LTOD calculations based on observations between 70 and 71 N/S latitudes')\n",
    "a = fig.add_subplot(2,3,1)\n",
    "plt.hist(ftn_F08, bins=(np.arange(25)))\n",
    "a.set_title('F08 North - 0000/1200\\n1989 doy 364\\n28 files')\n",
    "plt.plot([12, 12], [0, 3000], color='r', linestyle='--')\n",
    "plt.plot([0, 0], [0, 3000], color='r', linestyle='--')\n",
    "a = fig.add_subplot(2,3,2)\n",
    "plt.hist(ftn_F10,bins=(np.arange(25)))\n",
    "a.set_title('F10 North - 0400/1600\\n1996 doy 010\\n30 files')\n",
    "plt.plot([16, 16], [0, 2500], color='r', linestyle='--')\n",
    "plt.plot([4, 4], [0, 2500], color='r', linestyle='--')\n",
    "a = fig.add_subplot(2,3,3)\n",
    "plt.hist(ftn_F11, bins = (np.arange(25)))\n",
    "a.set_title('F11 North - 0200/1400\\n2000 doy 051\\n48 files')\n",
    "plt.plot([14, 14], [0, 450], color='r', linestyle='--')\n",
    "plt.plot([2, 2], [0, 450], color='r', linestyle='--')\n",
    "a = fig.add_subplot(2,3,4)\n",
    "plt.hist(fts_F08, bins = (np.arange(25)))\n",
    "a.set_title('F08 South - 0000/1200\\n1989 doy 364')\n",
    "plt.plot([12, 12], [0, 3000], color='r', linestyle='--')\n",
    "plt.plot([0, 0], [0, 3000], color='r', linestyle='--')\n",
    "a = fig.add_subplot(2,3,5)\n",
    "plt.hist(fts_F10, bins = (np.arange(25)))\n",
    "a.set_title('F10 South - 0400/1600\\n1996 doy 010')\n",
    "plt.plot([16, 16], [0, 3500], color='r', linestyle='--')\n",
    "plt.plot([4, 4], [0, 3500], color='r', linestyle='--')\n",
    "a = fig.add_subplot(2,3,6)\n",
    "plt.hist(fts_F11, bins = (np.arange(25)))\n",
    "a.set_title('F11 South - 0200/1400\\n2000 - doy 051')\n",
    "plt.plot([14, 14], [0, 650], color='r', linestyle='--')\n",
    "plt.plot([2, 2], [0, 650], color='r', linestyle='--')\n",
    "plt.show\n",
    "fig.savefig('/projects/PMESDR/vagrant/mhardman/F081011.png')"
   ]
  },
  {
   "cell_type": "code",
   "execution_count": null,
   "metadata": {},
   "outputs": [],
   "source": [
    "fig = plt.figure(figsize=(15,12))\n",
    "plt.suptitle('LTOD calculations based on observations between 70 and 71 N/S latitudes')\n",
    "a = fig.add_subplot(2,3,1)\n",
    "plt.hist(ftn_F13, bins=(np.arange(25)))\n",
    "a.set_title('F13 North - 0000/1200\\n2003 doy 010\\n40 files')\n",
    "plt.plot([12, 12], [0, 4500], color='r', linestyle='--')\n",
    "plt.plot([0, 0], [0, 4500], color='r', linestyle='--')\n",
    "a = fig.add_subplot(2,3,2)\n",
    "plt.hist(ftn_F14,bins=(np.arange(25)))\n",
    "a.set_title('F14 North - 0400/1600\\n2008 doy 052\\n14 files')\n",
    "plt.plot([12, 12], [0, 1500], color='r', linestyle='--')\n",
    "plt.plot([0, 0], [0, 1500], color='r', linestyle='--')\n",
    "a = fig.add_subplot(2,3,3)\n",
    "plt.hist(ftn_F15, bins = (np.arange(25)))\n",
    "a.set_title('F15 North - 0200/1400\\n2000 doy 022\\n30 files')\n",
    "plt.plot([15, 15], [0, 3000], color='r', linestyle='--')\n",
    "plt.plot([3, 3], [0, 3000], color='r', linestyle='--')\n",
    "a = fig.add_subplot(2,3,4)\n",
    "plt.hist(fts_F13, bins = (np.arange(25)))\n",
    "a.set_title('F13 South - 0000/1200\\n2003 doy 010')\n",
    "plt.plot([12, 12], [0, 4500], color='r', linestyle='--')\n",
    "plt.plot([0, 0], [0, 4500], color='r', linestyle='--')\n",
    "a = fig.add_subplot(2,3,5)\n",
    "plt.hist(fts_F14, bins = (np.arange(25)))\n",
    "a.set_title('F14 South - 0400/1600\\n2008 doy 052')\n",
    "plt.plot([12, 12], [0, 1500], color='r', linestyle='--')\n",
    "plt.plot([0, 0], [0, 1500], color='r', linestyle='--')\n",
    "a = fig.add_subplot(2,3,6)\n",
    "plt.hist(fts_F15, bins = (np.arange(25)))\n",
    "a.set_title('F15 South - 0200/1400\\n2000 - doy 022')\n",
    "plt.plot([15, 15], [0, 3000], color='r', linestyle='--')\n",
    "plt.plot([3, 3], [0, 3000], color='r', linestyle='--')\n",
    "plt.show\n",
    "fig.savefig('/projects/PMESDR/vagrant/mhardman/F131415.png')"
   ]
  },
  {
   "cell_type": "code",
   "execution_count": null,
   "metadata": {},
   "outputs": [],
   "source": [
    "fig = plt.figure(figsize=(15,12))\n",
    "plt.suptitle('LTOD calculations based on observations between 70 and 71 N/S latitudes')\n",
    "a = fig.add_subplot(2,2,1)\n",
    "plt.hist(ftn_smmr, bins=(np.arange(25)))\n",
    "a.set_title('SMMR North - 0600/1800\\n1984 doy 035\\n40 files') \n",
    "plt.plot([6, 6], [0, 9000], color='r', linestyle='--')\n",
    "plt.plot([18, 18], [0, 9000], color='r', linestyle='--')\n",
    "a = fig.add_subplot(2,2,3)\n",
    "plt.hist(fts_smmr, bins=(np.arange(25)))\n",
    "a.set_title('SMMR South - 0600/1800\\n1984 doy 035')\n",
    "plt.plot([6, 6], [0, 9000], color='r', linestyle='--')\n",
    "plt.plot([18, 18], [0, 9000], color='r', linestyle='--')\n",
    "a = fig.add_subplot(2,2,2)\n",
    "plt.hist(ftn_amsre, bins=(np.arange(25)))\n",
    "a.set_title('AMSRE North - 0500/1700\\n2003 doy 035\\n12 files')\n",
    "plt.plot([5, 5], [0, 9000], color='r', linestyle='--')\n",
    "plt.plot([17, 17], [0, 9000], color='r', linestyle='--')\n",
    "a = fig.add_subplot(2,2,4)\n",
    "plt.hist(fts_amsre, bins=(np.arange(25)))\n",
    "a.set_title('AMSRE South - 0800/2000\\n2003 doy -35')\n",
    "plt.plot([8, 8], [0, 6500], color='r', linestyle='--')\n",
    "plt.plot([20, 20], [0, 6500], color='r', linestyle='--')\n",
    "plt.show()\n",
    "fig.savefig('/projects/PMESDR/vagrant/mhardman/Fsmmr-amsre.png')"
   ]
  },
  {
   "cell_type": "code",
   "execution_count": null,
   "metadata": {},
   "outputs": [],
   "source": []
  },
  {
   "cell_type": "code",
   "execution_count": null,
   "metadata": {},
   "outputs": [],
   "source": [
    "ftn_F16_2014 = create_ltod(F16_2014, lat_min = 70.0, lat_max = 71.0)\n",
    "fts_F16_2014 = create_ltod(F16_2014, lat_max = -70.0, lat_min = -71.0)\n",
    "ftn_F16_2015 = create_ltod(F16_2015, lat_min = 70.0, lat_max = 71.0)\n",
    "fts_F16_2015 = create_ltod(F16_2015, lat_max = -70.0, lat_min = -71.0)\n",
    "ftn_F16_2016 = create_ltod(F16_2016, lat_min = 70.0, lat_max = 71.0)\n",
    "fts_F16_2016 = create_ltod(F16_2016, lat_max = -70.0, lat_min = -71.0)\n",
    "ftn_F16_2017 = create_ltod(F16_2017, lat_min = 70.0, lat_max = 71.0)\n",
    "fts_F16_2017 = create_ltod(F16_2017, lat_max = -70.0, lat_min = -71.0)"
   ]
  },
  {
   "cell_type": "code",
   "execution_count": null,
   "metadata": {},
   "outputs": [],
   "source": [
    "fig = plt.figure(figsize=(15,12))\n",
    "plt.suptitle('LTOD calculations based on observations between 70 and 71 N/S latitudes')\n",
    "a = fig.add_subplot(2,4,1)\n",
    "plt.hist(ftn_F16_2014, bins=(np.arange(25)))\n",
    "a.set_title('F16 North - 2300/1100\\n2014 doy 182-190\\n127 files')\n",
    "plt.plot([11, 11], [0, 35000], color='r', linestyle='--')\n",
    "plt.plot([23, 23], [0, 35000], color='r', linestyle='--')\n",
    "a = fig.add_subplot(2,4,2)\n",
    "plt.hist(ftn_F16_2015,bins=(np.arange(25)))\n",
    "a.set_title('F16 North - 2200/1000\\n2015 doy 182-190\\n127 files')\n",
    "plt.plot([10, 10], [0, 35000], color='r', linestyle='--')\n",
    "plt.plot([22, 22], [0, 35000], color='r', linestyle='--')\n",
    "a = fig.add_subplot(2,4,3)\n",
    "plt.hist(ftn_F16_2016, bins = (np.arange(25)))\n",
    "a.set_title('F16 North - 2200/1000\\n2016 doy 182-190\\n127 files')\n",
    "plt.plot([10, 10], [0, 35000], color='r', linestyle='--')\n",
    "plt.plot([22, 22], [0, 35000], color='r', linestyle='--')\n",
    "a = fig.add_subplot(2,4,4)\n",
    "plt.hist(ftn_F16_2017, bins = (np.arange(25)))\n",
    "a.set_title('F16 North - 2200/1000\\n2017 doy 171-180\\n140 files')\n",
    "plt.plot([10, 10], [0, 40000], color='r', linestyle='--')\n",
    "plt.plot([22, 22], [0, 40000], color='r', linestyle='--')\n",
    "a = fig.add_subplot(2,4,5)\n",
    "plt.hist(fts_F16_2014, bins = (np.arange(25)))\n",
    "a.set_title('F16 South - 2300/1100\\n2014 doy 182-190')\n",
    "plt.plot([11, 11], [0, 35000], color='r', linestyle='--')\n",
    "plt.plot([23, 23], [0, 35000], color='r', linestyle='--')\n",
    "a = fig.add_subplot(2,4,6)\n",
    "plt.hist(fts_F16_2015, bins = (np.arange(25)))\n",
    "a.set_title('F16 South - 2200/1000\\n2015 doy 182-190')\n",
    "plt.plot([10, 10], [0, 35000], color='r', linestyle='--')\n",
    "plt.plot([22, 22], [0, 35000], color='r', linestyle='--')\n",
    "a = fig.add_subplot(2,4,7)\n",
    "plt.hist(fts_F16_2016, bins = (np.arange(25)))\n",
    "a.set_title('F16 South - 2200/1000\\n2016 - doy 182-190')\n",
    "plt.plot([10, 10], [0, 35000], color='r', linestyle='--')\n",
    "plt.plot([22, 22], [0, 35000], color='r', linestyle='--')\n",
    "a = fig.add_subplot(2,4,8)\n",
    "plt.hist(fts_F16_2017, bins = (np.arange(25)))\n",
    "a.set_title('F16 South - 2200/1000\\n2017 - doy 171-180')\n",
    "plt.plot([10, 10], [0, 40000], color='r', linestyle='--')\n",
    "plt.plot([22, 22], [0, 40000], color='r', linestyle='--')\n",
    "plt.show\n",
    "fig.savefig('/projects/moha2290/F16_2014_2017.png')"
   ]
  },
  {
   "cell_type": "code",
   "execution_count": 6,
   "metadata": {},
   "outputs": [],
   "source": [
    "fid = Dataset(A2_2012[0], 'r', 'NETCDF4')\n",
    "lat = fid.variables['latitude_loc1'][:]\n",
    "lon = fid.variables['longitude_loc1'][:]\n",
    "scantime = fid.variables['scan_time_loc1'][:]\n",
    "meas = len(fid.dimensions['measurements_loc1'])\n",
    "scan_time = array([scantime,]*meas).transpose()\n",
    "lat_all = lat.flatten()\n",
    "lon_all = lon.flatten()\n",
    "offset_seconds = seconds_to_midnight(scantime[0]) # get the offset to midnight for the first scanline\n",
    "scantime_all = scan_time.flatten() - offset_seconds\n",
    "fid.close()\n",
    " "
   ]
  },
  {
   "cell_type": "code",
   "execution_count": 15,
   "metadata": {},
   "outputs": [
    {
     "ename": "MaskError",
     "evalue": "Cannot convert masked element to a Python int.",
     "output_type": "error",
     "traceback": [
      "\u001b[0;31m---------------------------------------------------------------------------\u001b[0m",
      "\u001b[0;31mMaskError\u001b[0m                                 Traceback (most recent call last)",
      "\u001b[0;32m<ipython-input-15-9ff26e429f12>\u001b[0m in \u001b[0;36m<module>\u001b[0;34m()\u001b[0m\n\u001b[1;32m      1\u001b[0m \u001b[0;31m#ftn_A2_2016 = create_ltod(A2_2016, lat_min = 70.0, lat_max = 71.0)\u001b[0m\u001b[0;34m\u001b[0m\u001b[0;34m\u001b[0m\u001b[0m\n\u001b[1;32m      2\u001b[0m \u001b[0;31m#fts_A2_2016 = create_ltod(A2_2016, lat_max = -70.0, lat_min = -71.0)\u001b[0m\u001b[0;34m\u001b[0m\u001b[0;34m\u001b[0m\u001b[0m\n\u001b[0;32m----> 3\u001b[0;31m \u001b[0mftn_A2_2021\u001b[0m \u001b[0;34m=\u001b[0m \u001b[0mcreate_ltod\u001b[0m\u001b[0;34m(\u001b[0m\u001b[0mA2_2021\u001b[0m\u001b[0;34m,\u001b[0m \u001b[0mlat_min\u001b[0m \u001b[0;34m=\u001b[0m \u001b[0;36m70.0\u001b[0m\u001b[0;34m,\u001b[0m \u001b[0mlat_max\u001b[0m \u001b[0;34m=\u001b[0m \u001b[0;36m71.0\u001b[0m\u001b[0;34m)\u001b[0m\u001b[0;34m\u001b[0m\u001b[0m\n\u001b[0m\u001b[1;32m      4\u001b[0m \u001b[0mfts_A2_2021\u001b[0m \u001b[0;34m=\u001b[0m \u001b[0mcreate_ltod\u001b[0m\u001b[0;34m(\u001b[0m\u001b[0mA2_2021\u001b[0m\u001b[0;34m,\u001b[0m \u001b[0mlat_max\u001b[0m \u001b[0;34m=\u001b[0m \u001b[0;34m-\u001b[0m\u001b[0;36m70.0\u001b[0m\u001b[0;34m,\u001b[0m \u001b[0mlat_min\u001b[0m \u001b[0;34m=\u001b[0m \u001b[0;34m-\u001b[0m\u001b[0;36m71.0\u001b[0m\u001b[0;34m)\u001b[0m\u001b[0;34m\u001b[0m\u001b[0m\n",
      "\u001b[0;32m<ipython-input-3-68788bf78c6f>\u001b[0m in \u001b[0;36mcreate_ltod\u001b[0;34m(files, lat_min, lat_max)\u001b[0m\n\u001b[1;32m     13\u001b[0m     \u001b[0mlat_all\u001b[0m \u001b[0;34m=\u001b[0m \u001b[0mlat\u001b[0m\u001b[0;34m.\u001b[0m\u001b[0mflatten\u001b[0m\u001b[0;34m(\u001b[0m\u001b[0;34m)\u001b[0m\u001b[0;34m\u001b[0m\u001b[0m\n\u001b[1;32m     14\u001b[0m     \u001b[0mlon_all\u001b[0m \u001b[0;34m=\u001b[0m \u001b[0mlon\u001b[0m\u001b[0;34m.\u001b[0m\u001b[0mflatten\u001b[0m\u001b[0;34m(\u001b[0m\u001b[0;34m)\u001b[0m\u001b[0;34m\u001b[0m\u001b[0m\n\u001b[0;32m---> 15\u001b[0;31m     \u001b[0moffset_seconds\u001b[0m \u001b[0;34m=\u001b[0m \u001b[0mseconds_to_midnight\u001b[0m\u001b[0;34m(\u001b[0m\u001b[0mscantime\u001b[0m\u001b[0;34m[\u001b[0m\u001b[0;36m0\u001b[0m\u001b[0;34m]\u001b[0m\u001b[0;34m)\u001b[0m \u001b[0;31m# get the offset to midnight for the first scanline\u001b[0m\u001b[0;34m\u001b[0m\u001b[0m\n\u001b[0m\u001b[1;32m     16\u001b[0m     \u001b[0mscantime_all\u001b[0m \u001b[0;34m=\u001b[0m \u001b[0mscan_time\u001b[0m\u001b[0;34m.\u001b[0m\u001b[0mflatten\u001b[0m\u001b[0;34m(\u001b[0m\u001b[0;34m)\u001b[0m \u001b[0;34m-\u001b[0m \u001b[0moffset_seconds\u001b[0m\u001b[0;34m\u001b[0m\u001b[0m\n\u001b[1;32m     17\u001b[0m     \u001b[0mfid\u001b[0m\u001b[0;34m.\u001b[0m\u001b[0mclose\u001b[0m\u001b[0;34m(\u001b[0m\u001b[0;34m)\u001b[0m\u001b[0;34m\u001b[0m\u001b[0m\n",
      "\u001b[0;32m<ipython-input-2-772b5964d054>\u001b[0m in \u001b[0;36mseconds_to_midnight\u001b[0;34m(seconds)\u001b[0m\n\u001b[1;32m      6\u001b[0m     \u001b[0mseconds_to_epoch\u001b[0m \u001b[0;34m=\u001b[0m \u001b[0mcalendar\u001b[0m\u001b[0;34m.\u001b[0m\u001b[0mtimegm\u001b[0m\u001b[0;34m(\u001b[0m\u001b[0mst\u001b[0m\u001b[0;34m)\u001b[0m\u001b[0;34m\u001b[0m\u001b[0m\n\u001b[1;32m      7\u001b[0m     \u001b[0;31m# get file epoch date in seconds since 1970\u001b[0m\u001b[0;34m\u001b[0m\u001b[0;34m\u001b[0m\u001b[0m\n\u001b[0;32m----> 8\u001b[0;31m     \u001b[0mstr_date\u001b[0m \u001b[0;34m=\u001b[0m \u001b[0mtime\u001b[0m\u001b[0;34m.\u001b[0m\u001b[0mgmtime\u001b[0m\u001b[0;34m(\u001b[0m\u001b[0mseconds\u001b[0m \u001b[0;34m+\u001b[0m \u001b[0mseconds_to_epoch\u001b[0m\u001b[0;34m)\u001b[0m\u001b[0;34m\u001b[0m\u001b[0m\n\u001b[0m\u001b[1;32m      9\u001b[0m     \u001b[0;31m# get file date from number of seconds since 1987\u001b[0m\u001b[0;34m\u001b[0m\u001b[0;34m\u001b[0m\u001b[0m\n\u001b[1;32m     10\u001b[0m     \u001b[0mdmid\u001b[0m \u001b[0;34m=\u001b[0m \u001b[0;34m\"%02d.%02d.%d\"\u001b[0m \u001b[0;34m%\u001b[0m \u001b[0;34m(\u001b[0m\u001b[0mstr_date\u001b[0m\u001b[0;34m.\u001b[0m\u001b[0mtm_mday\u001b[0m\u001b[0;34m,\u001b[0m \u001b[0mstr_date\u001b[0m\u001b[0;34m.\u001b[0m\u001b[0mtm_mon\u001b[0m\u001b[0;34m,\u001b[0m \u001b[0mstr_date\u001b[0m\u001b[0;34m.\u001b[0m\u001b[0mtm_year\u001b[0m\u001b[0;34m)\u001b[0m\u001b[0;34m\u001b[0m\u001b[0m\n",
      "\u001b[0;32m/projects/moha2290/miniconda3/envs/cetb3/lib/python3.6/site-packages/numpy/ma/core.py\u001b[0m in \u001b[0;36m__int__\u001b[0;34m(self)\u001b[0m\n\u001b[1;32m   4304\u001b[0m                             \"to Python scalars\")\n\u001b[1;32m   4305\u001b[0m         \u001b[0;32melif\u001b[0m \u001b[0mself\u001b[0m\u001b[0;34m.\u001b[0m\u001b[0m_mask\u001b[0m\u001b[0;34m:\u001b[0m\u001b[0;34m\u001b[0m\u001b[0m\n\u001b[0;32m-> 4306\u001b[0;31m             \u001b[0;32mraise\u001b[0m \u001b[0mMaskError\u001b[0m\u001b[0;34m(\u001b[0m\u001b[0;34m'Cannot convert masked element to a Python int.'\u001b[0m\u001b[0;34m)\u001b[0m\u001b[0;34m\u001b[0m\u001b[0m\n\u001b[0m\u001b[1;32m   4307\u001b[0m         \u001b[0;32mreturn\u001b[0m \u001b[0mint\u001b[0m\u001b[0;34m(\u001b[0m\u001b[0mself\u001b[0m\u001b[0;34m.\u001b[0m\u001b[0mitem\u001b[0m\u001b[0;34m(\u001b[0m\u001b[0;34m)\u001b[0m\u001b[0;34m)\u001b[0m\u001b[0;34m\u001b[0m\u001b[0m\n\u001b[1;32m   4308\u001b[0m \u001b[0;34m\u001b[0m\u001b[0m\n",
      "\u001b[0;31mMaskError\u001b[0m: Cannot convert masked element to a Python int."
     ]
    }
   ],
   "source": [
    "#ftn_A2_2016 = create_ltod(A2_2016, lat_min = 70.0, lat_max = 71.0)\n",
    "#fts_A2_2016 = create_ltod(A2_2016, lat_max = -70.0, lat_min = -71.0)\n",
    "ftn_A2_2021 = create_ltod(A2_2021, lat_min = 70.0, lat_max = 71.0)\n",
    "fts_A2_2021 = create_ltod(A2_2021, lat_max = -70.0, lat_min = -71.0)"
   ]
  },
  {
   "cell_type": "code",
   "execution_count": 20,
   "metadata": {},
   "outputs": [
    {
     "data": {
      "image/png": "[encoded data removed]",
      "text/plain": [
       "<matplotlib.figure.Figure at 0x2ac2fb1ff518>"
      ]
     },
     "metadata": {},
     "output_type": "display_data"
    }
   ],
   "source": [
    "fig = plt.figure(figsize=(15,12))\n",
    "plt.suptitle('LTOD calculations based on observations between 70 and 71 N/S latitudes')\n",
    "a = fig.add_subplot(2,2,1)\n",
    "plt.hist(ftn_A2_2012, bins=(np.arange(25)))\n",
    "a.set_title('AMSR2 North - July 2012')\n",
    "plt.plot([8, 8], [0, 35000], color='r', linestyle='--')\n",
    "plt.plot([20, 20], [0, 35000], color='r', linestyle='--')\n",
    "a = fig.add_subplot(2, 2, 3)\n",
    "plt.hist(fts_A2_2012, bins=(np.arange(25)))\n",
    "a.set_title('AMSR2 South - July 2012')\n",
    "plt.plot([8, 8], [0, 35000], color='r', linestyle='--')\n",
    "plt.plot([20, 20], [0, 35000], color='r', linestyle='--')\n",
    "a = fig.add_subplot(2, 2, 2)\n",
    "plt.hist(ftn_A2_2016, bins=(np.arange(25)))\n",
    "a.set_title('AMSR2 North - July 2016')\n",
    "plt.plot([8, 8], [0, 45000], color='r', linestyle='--')\n",
    "plt.plot([20, 20], [0, 45000], color='r', linestyle='--')\n",
    "a = fig.add_subplot(2, 2, 4)\n",
    "plt.hist(fts_A2_2016, bins=(np.arange(25)))\n",
    "a.set_title('AMSR2 South - July 2016')\n",
    "plt.plot([8, 8], [0, 45000], color='r', linestyle='--')\n",
    "plt.plot([20, 20], [0, 45000], color='r', linestyle='--')\n",
    "plt.show\n",
    "fig.savefig('/projects/moha2290/AMSR2_2012_2016_ltod.png')"
   ]
  },
  {
   "cell_type": "code",
   "execution_count": null,
   "metadata": {},
   "outputs": [],
   "source": []
  }
 ],
 "metadata": {
  "kernelspec": {
   "display_name": "cetb3",
   "language": "python",
   "name": "cetb3"
  },
  "language_info": {
   "codemirror_mode": {
    "name": "ipython",
    "version": 3
   },
   "file_extension": ".py",
   "mimetype": "text/x-python",
   "name": "python",
   "nbconvert_exporter": "python",
   "pygments_lexer": "ipython3",
   "version": "3.6.5"
  }
 },
 "nbformat": 4,
 "nbformat_minor": 4
}
