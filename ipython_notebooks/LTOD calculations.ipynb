{
 "cells": [
  {
   "cell_type": "markdown",
   "metadata": {},
   "source": [
    "LTOD calculations\n",
    "\n",
    "Take 3 days worth of gsx input swath data for a sensor\n",
    "    for each swath locate all measurements that lie between 70 and 71 N (or S) latitude\n",
    "    save the longitude and UTC for each measurement\n",
    "    \n",
    "Plot a histogram of the times - but it's more complicated than that - \n",
    "    for each time, which is in UTC, take the longitude and calculate what the ltod is for that\n",
    "    UTC at that longitude.\n",
    "    \n",
    "    i.e. if the UTC is 02:48 and the longitude is -105, then the ltod is ((2*60)+48) + (-105*4)\n"
   ]
  },
  {
   "cell_type": "code",
   "execution_count": null,
   "metadata": {},
   "outputs": [],
   "source": [
    "#from __future__ import print_function\n",
    "%pylab inline\n",
    "from netCDF4 import Dataset\n",
    "import matplotlib.pyplot as plt\n",
    "import numpy as np\n",
    "import glob as glob\n",
    "import time\n",
    "import calendar\n",
    "import numpy.ma as ma"
   ]
  },
  {
   "cell_type": "code",
   "execution_count": null,
   "metadata": {},
   "outputs": [],
   "source": [
    "# Set the directory locations for your input GSX files\n",
    "amsr2_dir=\n",
    "f18_dir="
   ]
  },
  {
   "cell_type": "code",
   "execution_count": null,
   "metadata": {},
   "outputs": [],
   "source": [
    "def seconds_to_midnight(seconds):\n",
    "    \"\"\" This function calculates the number of seconds to midnight of the input\n",
    "        time.  This is used to convert the scan times in the file to local time\n",
    "        for that day \"\"\"\n",
    "    st = time.strptime(\"01.01.1987\", \"%d.%m.%Y\")\n",
    "    seconds_to_epoch = calendar.timegm(st)\n",
    "    # get file epoch date in seconds since 1970\n",
    "    str_date = time.gmtime(seconds + seconds_to_epoch)\n",
    "    # get file date from number of seconds since 1987\n",
    "    dmid = \"%02d.%02d.%d\" % (str_date.tm_mday, str_date.tm_mon, str_date.tm_year)\n",
    "    utc_midnight = time.strptime(dmid, \"%d.%m.%Y\")\n",
    "    utc_seconds_to_midnight = calendar.timegm(utc_midnight)\n",
    "    # get midnight of file date in seconds\n",
    "    return (utc_seconds_to_midnight - seconds_to_epoch)"
   ]
  },
  {
   "cell_type": "code",
   "execution_count": null,
   "metadata": {},
   "outputs": [],
   "source": [
    "def create_ltod(files, lat_min=70., lat_max=71.):\n",
    "    \"\"\" This function takes a list of gsx swath files as an argument and\n",
    "        calculates the local time of each measurement in a specified latitude band\n",
    "        It returns a 1-D array of the local times (in hours wrt midnight), \n",
    "        suitable for creating a histogram \"\"\"\n",
    "    \n",
    "    fid = Dataset(files[0], 'r', 'NETCDF4')\n",
    "    lat = np.array(fid.variables['latitude_loc1'])\n",
    "    lon = np.array(fid.variables['longitude_loc1'])\n",
    "    scantime = np.array(fid.variables['scan_time_loc1'])\n",
    "    meas = len(fid.dimensions['measurements_loc1'])\n",
    "    scan_time = np.array([scantime,]*meas).transpose()\n",
    "    lat_all = lat.flatten()\n",
    "    lon_all = lon.flatten()\n",
    "    offset_seconds = seconds_to_midnight(scantime[0]) # get the offset to midnight for the first scanline\n",
    "    scantime_all = scan_time.flatten() - offset_seconds \n",
    "    fid.close()\n",
    "    for fil in files[1:-1]:\n",
    "        #print (fil)\n",
    "        fid = Dataset(fil, 'r', 'NETCDF4')\n",
    "        scantime = np.array(fid.variables['scan_time_loc1'])\n",
    "        if (len(scantime)):\n",
    "            meas = len(fid.dimensions['measurements_loc1'])\n",
    "            scan_time = np.array([scantime,]*meas).transpose()\n",
    "            offset_seconds = seconds_to_midnight(scantime[0])\n",
    "            scantime_all = np.concatenate((scantime_all, (scan_time.flatten() - offset_seconds)))\n",
    "        else:\n",
    "            fid.close()\n",
    "            continue         \n",
    "        lat = np.array(fid.variables['latitude_loc1'])\n",
    "        lon = np.array(fid.variables['longitude_loc1'])\n",
    "        lat_all = np.concatenate((lat_all, lat.flatten()))\n",
    "        lon_all = np.concatenate((lon_all, lon.flatten()))\n",
    "        fid.close()\n",
    "    latm = ma.masked_where((lat_all < lat_min), lat_all)\n",
    "    lat_band = ma.masked_where( latm > lat_max, latm)\n",
    "    lon_band = ma.masked_array(lon_all, lat_band.mask)\n",
    "    scantime_band = ma.masked_array(scantime_all, lat_band.mask)\n",
    "    final_times = scantime_band + (lon_band*4*60.0)\n",
    "    ftimes = final_times/3600.\n",
    "    ftimes[ftimes > 24.0] = ftimes[ftimes > 24.0] - 24.0\n",
    "    ftimes[ftimes < 0.] = ftimes[ftimes < 0.] + 24.0\n",
    "    return ftimes"
   ]
  },
  {
   "cell_type": "code",
   "execution_count": null,
   "metadata": {},
   "outputs": [],
   "source": [
    "A2_2024 = sort(glob.glob('%s/*2024070*.nc' % amsr2_dir))\n",
    "len(A2_2024)"
   ]
  },
  {
   "cell_type": "code",
   "execution_count": null,
   "metadata": {},
   "outputs": [],
   "source": [
    "ftn_A2_2024 = create_ltod(A2_2024, lat_min = 70.0, lat_max = 71.0)\n",
    "fts_A2_2024 = create_ltod(A2_2024, lat_max = -70.0, lat_min = -71.0)\n",
    "\n"
   ]
  },
  {
   "cell_type": "code",
   "execution_count": null,
   "metadata": {},
   "outputs": [],
   "source": [
    "fig = plt.figure(figsize=(15,21))\n",
    "plt.suptitle('LTOD calculations based on observations between 70 and 71 N/S latitudes')\n",
    "a = fig.add_subplot(1,2,1)\n",
    "plt.hist(fts_A2_2024,bins=(np.arange(25)))\n",
    "plt.plot([24, 24], [0, 40000], color='r', linestyle='--')\n",
    "plt.plot([12, 12], [0, 40000], color='r', linestyle='--')\n",
    "a.set_title('AMSR2 North - 1200/2400\\n2024 doy 183-191\\n127 files')\n",
    "a = fig.add_subplot(1,2,2)\n",
    "plt.hist(fts_A2_2024,bins=(np.arange(25)))\n",
    "plt.plot([24, 24], [0, 40000], color='r', linestyle='--')\n",
    "plt.plot([12, 12], [0, 40000], color='r', linestyle='--')\n",
    "a.set_title('AMSR2 South - 1200/2400\\n2021 doy 183-191\\n127 files')\n"
   ]
  },
  {
   "cell_type": "code",
   "execution_count": null,
   "metadata": {},
   "outputs": [],
   "source": []
  },
  {
   "cell_type": "code",
   "execution_count": null,
   "metadata": {},
   "outputs": [],
   "source": [
    "F18_2022 = sort(glob.glob('%s/*2022070*.nc' % f18_dir))\n",
    "len(F18_2022)"
   ]
  },
  {
   "cell_type": "code",
   "execution_count": null,
   "metadata": {},
   "outputs": [],
   "source": [
    "F18_2021 = sort(glob.glob('%s/*202107*.nc' % f18_dir))\n",
    "F18_2023 = sort(glob.glob('%s/*2023*.nc' % f18_dir))\n",
    "print(len(F18_2021), len(F18_2023))"
   ]
  },
  {
   "cell_type": "code",
   "execution_count": null,
   "metadata": {},
   "outputs": [],
   "source": [
    "ftn_F18_2022 = create_ltod(F18_2022, lat_min = 70.0, lat_max = 71.0)\n",
    "fts_F18_2022 = create_ltod(F18_2022, lat_max = -70.0, lat_min = -71.0)\n",
    "ftn_F18_2021 = create_ltod(F18_2021, lat_min = 70.0, lat_max = 71.0)\n",
    "fts_F18_2021 = create_ltod(F18_2021, lat_max = -70.0, lat_min = -71.0)\n",
    "ftn_F18_2023 = create_ltod(F18_2023, lat_min = 70.0, lat_max = 71.0)\n",
    "fts_F18_2023 = create_ltod(F18_2023, lat_max = -70.0, lat_min = -71.0)\n"
   ]
  },
  {
   "cell_type": "code",
   "execution_count": null,
   "metadata": {},
   "outputs": [],
   "source": [
    "fig = plt.figure(figsize=(15,21))\n",
    "plt.suptitle('LTOD calculations based on observations between 70 and 71 N/S latitudes')\n",
    "a = fig.add_subplot(3,2,1)\n",
    "plt.hist(ftn_F18_2021,bins=(np.arange(25)))\n",
    "plt.plot([24, 24], [0, 40000], color='r', linestyle='--')\n",
    "plt.plot([12, 12], [0, 40000], color='r', linestyle='--')\n",
    "a.set_title('F18 North - 1200/2400\\n2021 doy 183-191\\n127 files')\n",
    "a = fig.add_subplot(3,2,2)\n",
    "plt.hist(fts_F18_2021,bins=(np.arange(25)))\n",
    "plt.plot([24, 24], [0, 40000], color='r', linestyle='--')\n",
    "plt.plot([12, 12], [0, 40000], color='r', linestyle='--')\n",
    "a.set_title('F18 South - 1200/2400\\n2021 doy 183-191\\n127 files')\n",
    "a = fig.add_subplot(3,2,3)\n",
    "plt.hist(ftn_F18_2022,bins=(np.arange(25)))\n",
    "plt.plot([24, 24], [0, 40000], color='r', linestyle='--')\n",
    "plt.plot([12, 12], [0, 40000], color='r', linestyle='--')\n",
    "a.set_title('F18 North - 1200/2400\\n2022 doy 183-191\\n127 files')\n",
    "a = fig.add_subplot(3,2,4)\n",
    "plt.hist(fts_F18_2022,bins=(np.arange(25)))\n",
    "plt.plot([24, 24], [0, 40000], color='r', linestyle='--')\n",
    "plt.plot([12, 12], [0, 40000], color='r', linestyle='--')\n",
    "a.set_title('F18 South - 1200/2400\\n2022 doy 183-191\\n127 files')\n",
    "a = fig.add_subplot(3,2,5)\n",
    "plt.hist(ftn_F18_2023,bins=(np.arange(25)))\n",
    "plt.plot([24, 24], [0, 40000], color='r', linestyle='--')\n",
    "plt.plot([12, 12], [0, 40000], color='r', linestyle='--')\n",
    "a.set_title('F18 North - 1200/2400\\n2023 doy 183-191\\n127 files')\n",
    "a = fig.add_subplot(3,2,6)\n",
    "plt.hist(fts_F18_2023,bins=(np.arange(25)))\n",
    "plt.plot([24, 24], [0, 40000], color='r', linestyle='--')\n",
    "plt.plot([12, 12], [0, 40000], color='r', linestyle='--')\n",
    "a.set_title('F18 South - 1200/2400\\n2023 doy 183-191\\n127 files')\n",
    "\n",
    "plt.show()"
   ]
  },
  {
   "cell_type": "code",
   "execution_count": null,
   "metadata": {},
   "outputs": [],
   "source": []
  }
 ],
 "metadata": {
  "kernelspec": {
   "display_name": "pmesdr",
   "language": "python",
   "name": "pmesdr"
  },
  "language_info": {
   "codemirror_mode": {
    "name": "ipython",
    "version": 3
   },
   "file_extension": ".py",
   "mimetype": "text/x-python",
   "name": "python",
   "nbconvert_exporter": "python",
   "pygments_lexer": "ipython3",
   "version": "3.8.6"
  }
 },
 "nbformat": 4,
 "nbformat_minor": 4
}
