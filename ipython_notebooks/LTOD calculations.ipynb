{
 "cells": [
  {
   "cell_type": "markdown",
   "metadata": {},
   "source": [
    "LTOD calculations\n",
    "\n",
    "Take 3 days worth of gsx input swath data for a sensor\n",
    "    for each swath locate all measurements that lie between 70 and 71 N (or S) latitude\n",
    "    save the longitude and UTC for each measurement\n",
    "    \n",
    "Plot a histogram of the times - but it's more complicated than that - \n",
    "    for each time, which is in UTC, take the longitude and calculate what the ltod is for that\n",
    "    UTC at that longitude.\n",
    "    \n",
    "    i.e. if the UTC is 02:48 and the longitude is -105, then the ltod is ((2*60)+48) + (-105*4)\n"
   ]
  },
  {
   "cell_type": "code",
   "execution_count": 22,
   "metadata": {
    "collapsed": false
   },
   "outputs": [
    {
     "name": "stdout",
     "output_type": "stream",
     "text": [
      "Populating the interactive namespace from numpy and matplotlib\n"
     ]
    }
   ],
   "source": [
    "from __future__ import print_function\n",
    "%pylab inline\n",
    "from netCDF4 import Dataset\n",
    "import matplotlib.pyplot as plt\n",
    "import numpy as np\n",
    "import glob as glob\n",
    "import time\n",
    "import calendar\n",
    "import numpy.ma as ma"
   ]
  },
  {
   "cell_type": "code",
   "execution_count": 23,
   "metadata": {
    "collapsed": true
   },
   "outputs": [],
   "source": [
    "def seconds_to_midnight(seconds):\n",
    "    \"\"\" This function calculates the number of seconds to midnight of the input\n",
    "        time.  This is used to convert the scan times in the file to local time\n",
    "        for that day \"\"\"\n",
    "    st = time.strptime(\"01.01.1987\", \"%d.%m.%Y\")\n",
    "    seconds_to_epoch = calendar.timegm(st)\n",
    "    # get file epoch date in seconds since 1970\n",
    "    str_date = time.gmtime(seconds + seconds_to_epoch)\n",
    "    # get file date from number of seconds since 1987\n",
    "    dmid = \"%02d.%02d.%d\" % (str_date.tm_mday, str_date.tm_mon, str_date.tm_year)\n",
    "    utc_midnight = time.strptime(dmid, \"%d.%m.%Y\")\n",
    "    utc_seconds_to_midnight = calendar.timegm(utc_midnight)\n",
    "    # get midnight of file date in seconds\n",
    "    return (utc_seconds_to_midnight - seconds_to_epoch)"
   ]
  },
  {
   "cell_type": "code",
   "execution_count": 24,
   "metadata": {
    "collapsed": false
   },
   "outputs": [],
   "source": [
    "def create_ltod(files, lat_min=70., lat_max=71.):\n",
    "    \"\"\" This function takes a list of gsx swath files as an argument and\n",
    "        calculates the local time of each measurement in a specified latitude band\n",
    "        It returns a 1-D array of the local times (in hours wrt midnight), \n",
    "        suitable for creating a histogram \"\"\"\n",
    "    \n",
    "    fid = Dataset(files[0], 'r', 'NETCDF4')\n",
    "    lat = fid.variables['latitude_loc1'][:]\n",
    "    lon = fid.variables['longitude_loc1'][:]\n",
    "    scantime = fid.variables['scan_time_loc1'][:]\n",
    "    meas = len(fid.dimensions['measurements_loc1'])\n",
    "    scan_time = array([scantime,]*meas).transpose()\n",
    "    lat_all = lat.flatten()\n",
    "    lon_all = lon.flatten()\n",
    "    offset_seconds = seconds_to_midnight(scantime[0]) # get the offset to midnight for the first scanline\n",
    "    scantime_all = scan_time.flatten() - offset_seconds\n",
    "    fid.close()\n",
    "    for fil in files[1:-1]:\n",
    "        #print (fil)\n",
    "        fid = Dataset(fil, 'r', 'NETCDF4')\n",
    "        scantime = fid.variables['scan_time_loc1'][:]\n",
    "        if (len(scantime)):\n",
    "            meas = len(fid.dimensions['measurements_loc1'])\n",
    "            scan_time = array([scantime,]*meas).transpose()\n",
    "            offset_seconds = seconds_to_midnight(scantime[0])\n",
    "            scantime_all = np.concatenate((scantime_all, (scan_time.flatten() - offset_seconds)))\n",
    "        else:\n",
    "            fid.close()\n",
    "            continue         \n",
    "        lat = fid.variables['latitude_loc1'][:]\n",
    "        lon = fid.variables['longitude_loc1'][:]\n",
    "        lat_all = np.concatenate((lat_all, lat.flatten()))\n",
    "        lon_all = np.concatenate((lon_all, lon.flatten()))\n",
    "        fid.close()\n",
    "    latm = ma.masked_where((lat_all < lat_min), lat_all)\n",
    "    lat_band = ma.masked_where( latm > lat_max, latm)\n",
    "    lon_band = ma.masked_array(lon_all, lat_band.mask)\n",
    "    scantime_band = ma.masked_array(scantime_all, lat_band.mask)\n",
    "    final_times = scantime_band + (lon_band*4*60.0)\n",
    "    ftimes = final_times/3600.\n",
    "    ftimes[ftimes > 24.0] = ftimes[ftimes > 24.0] - 24.0\n",
    "    ftimes[ftimes < 0.] = ftimes[ftimes < 0.] + 24.0\n",
    "    return ftimes"
   ]
  },
  {
   "cell_type": "code",
   "execution_count": 25,
   "metadata": {
    "collapsed": false
   },
   "outputs": [
    {
     "name": "stdout",
     "output_type": "stream",
     "text": [
      "/projects/PMESDR/vagrant\n"
     ]
    }
   ],
   "source": [
    "%cd /projects/PMESDR/vagrant"
   ]
  },
  {
   "cell_type": "code",
   "execution_count": 26,
   "metadata": {
    "collapsed": false
   },
   "outputs": [],
   "source": [
    "fil_F10 = sort(glob.glob(\"F10-1996/*F10_D1996010*.nc\"))\n",
    "fil_F11 = sort(glob.glob(\"F11-2000/*F11_D2000051*.nc\"))\n",
    "fil_F15 = sort(glob.glob(\"F15-2000/*F15_D2000022*.nc\"))\n",
    "fil_F17 = sort(glob.glob(\"F17-2008/*F17_D2008123*.nc\"))\n",
    "fil_smmr = sort(glob.glob(\"pmadden/smmr_1984/gsx_84.35*.nc\"))\n",
    "#fil_F14 = sort(glob.glob(\"F14-2008/*F14_D2008123*.nc\"))\n",
    "fil_F08 = sort(glob.glob(\"F08-1989/*.nc\"))\n",
    "fil_F16 = sort(glob.glob(\"F16-2006/*F16_D2006010*.nc\"))\n",
    "fil_F13 = sort(glob.glob(\"F13-2003/*F13_D2003010*.nc\"))"
   ]
  },
  {
   "cell_type": "code",
   "execution_count": 27,
   "metadata": {
    "collapsed": false
   },
   "outputs": [
    {
     "name": "stdout",
     "output_type": "stream",
     "text": [
      "129 98 99 28 71 28 127 127\n"
     ]
    }
   ],
   "source": [
    "print (len(fil_F10), len(fil_F11), len(fil_F15), len(fil_F17), len(fil_smmr), len(fil_F08), len(fil_F16), len(fil_F13))"
   ]
  },
  {
   "cell_type": "code",
   "execution_count": 28,
   "metadata": {
    "collapsed": false
   },
   "outputs": [],
   "source": [
    "ftn_F08 = create_ltod(fil_F08, lat_min = 70.0, lat_max = 71.0)\n",
    "fts_F08 = create_ltod(fil_F08, lat_max = -70.0, lat_min = -71.0)\n",
    "ftn_smmr = create_ltod(fil_smmr[30:-1], lat_min = 70.0, lat_max = 71.0)\n",
    "fts_smmr = create_ltod(fil_smmr[30:-1], lat_max = -70.0, lat_min = -71.0)\n",
    "ftn_F17 = create_ltod(fil_F17, lat_min = 70.0, lat_max = 71.0)\n",
    "fts_F17 = create_ltod(fil_F17, lat_max = -70.0, lat_min = -71.0)\n",
    "ftn_F15 = create_ltod(fil_F15[70:-1], lat_min = 70.0, lat_max = 71.0)\n",
    "fts_F15 = create_ltod(fil_F15[70:-1], lat_max = -70.0, lat_min = -71.0)\n"
   ]
  },
  {
   "cell_type": "code",
   "execution_count": 18,
   "metadata": {
    "collapsed": false
   },
   "outputs": [
    {
     "data": {
      "text/plain": [
       "<function matplotlib.pyplot.show>"
      ]
     },
     "execution_count": 18,
     "metadata": {},
     "output_type": "execute_result"
    },
    {
     "data": {
      "image/png": "[encoded data removed]",
      "text/plain": [
       "<matplotlib.figure.Figure at 0x7f21075c9c90>"
      ]
     },
     "metadata": {},
     "output_type": "display_data"
    }
   ],
   "source": [
    "fig = plt.figure(figsize=(15,12))\n",
    "a = fig.add_subplot(2,4,1)\n",
    "plt.hist(ftn_F15,bins=(np.arange(25)))\n",
    "a.set_title('F15 North - 0300/1500')\n",
    "a = fig.add_subplot(2,4,2)\n",
    "plt.hist(ftn_F17, bins = (np.arange(25)))\n",
    "a.set_title('F17 North - 0000/1200')\n",
    "a = fig.add_subplot(2,4,3)\n",
    "a.set_title('SMMR North - 0600/1800')\n",
    "plt.hist(ftn_smmr, bins = (np.arange(25)))\n",
    "a = fig.add_subplot(2,4,4)\n",
    "plt.hist(fts_F08, bins = (np.arange(25)))\n",
    "a.set_title('F08 North - 0000/1200')\n",
    "a = fig.add_subplot(2,4,5)\n",
    "plt.hist(fts_F15, bins = (np.arange(25)))\n",
    "a.set_title('F15 South')\n",
    "a = fig.add_subplot(2,4,6)\n",
    "plt.hist(fts_F17, bins = (np.arange(25)))\n",
    "a.set_title('F17 South')\n",
    "a = fig.add_subplot(2,4,7)\n",
    "plt.hist(fts_smmr, bins = (np.arange(25)))\n",
    "a.set_title('SMMR South')\n",
    "a = fig.add_subplot(2,4,8)\n",
    "plt.hist(fts_F08, bins = (np.arange(25)))\n",
    "a.set_title('F08 South')\n",
    "plt.show"
   ]
  },
  {
   "cell_type": "code",
   "execution_count": 19,
   "metadata": {
    "collapsed": true
   },
   "outputs": [],
   "source": [
    "ftn_F10 = create_ltod(fil_F10[0:30], lat_min = 70.0, lat_max = 71.0)\n",
    "fts_F10 = create_ltod(fil_F10[0:30], lat_max = -70.0, lat_min = -71.0)\n",
    "ftn_F11 = create_ltod(fil_F11[50:-1], lat_min = 70.0, lat_max = 71.0)\n",
    "fts_F11 = create_ltod(fil_F11[50:-1], lat_max = -70.0, lat_min = -71.0)\n",
    "ftn_F16 = create_ltod(fil_F16[90:-1], lat_min = 70.0, lat_max = 71.0)\n",
    "fts_F16 = create_ltod(fil_F16[90:-1], lat_max = -70.0, lat_min = -71.0)\n",
    "ftn_F13 = create_ltod(fil_F13[0:40], lat_min = 70.0, lat_max = 71.0)\n",
    "fts_F13 = create_ltod(fil_F13[0:40], lat_max = -70.0, lat_min = -71.0)"
   ]
  },
  {
   "cell_type": "code",
   "execution_count": 21,
   "metadata": {
    "collapsed": false
   },
   "outputs": [
    {
     "data": {
      "text/plain": [
       "<function matplotlib.pyplot.show>"
      ]
     },
     "execution_count": 21,
     "metadata": {},
     "output_type": "execute_result"
    },
    {
     "data": {
      "image/png": "[encoded data removed]",
      "text/plain": [
       "<matplotlib.figure.Figure at 0x7f2106a04490>"
      ]
     },
     "metadata": {},
     "output_type": "display_data"
    }
   ],
   "source": [
    "fig = plt.figure(figsize=(15,12))\n",
    "a = fig.add_subplot(2,4,1)\n",
    "plt.hist(ftn_F10,bins=(np.arange(25)))\n",
    "a.set_title('F10 North - 0400/1600')\n",
    "a = fig.add_subplot(2,4,2)\n",
    "plt.hist(ftn_F11, bins = (np.arange(25)))\n",
    "a.set_title('F11 North - 0200/1400')\n",
    "a = fig.add_subplot(2,4,3)\n",
    "plt.hist(ftn_F16, bins = (np.arange(25)))\n",
    "a.set_title('F16 North - 0300/1500')\n",
    "a = fig.add_subplot(2,4,4)\n",
    "plt.hist(ftn_F13, bins = (np.arange(25)))\n",
    "a.set_title('F13 North - 0000/1200')\n",
    "a = fig.add_subplot(2,4,5)\n",
    "plt.hist(fts_F10, bins = (np.arange(25)))\n",
    "a.set_title('F10 South')\n",
    "a = fig.add_subplot(2,4,6)\n",
    "plt.hist(fts_F11, bins = (np.arange(25)))\n",
    "a.set_title('F11 South')\n",
    "a = fig.add_subplot(2,4,7)\n",
    "plt.hist(fts_F16, bins = (np.arange(25)))\n",
    "a.set_title('F16 South')\n",
    "a = fig.add_subplot(2,4,8)\n",
    "plt.hist(fts_F13, bins = (np.arange(25)))\n",
    "a.set_title('F13 South')\n",
    "\n",
    "plt.show"
   ]
  },
  {
   "cell_type": "code",
   "execution_count": null,
   "metadata": {
    "collapsed": false
   },
   "outputs": [],
   "source": [
    "hst,bins = np.histogram(ftn_F08,bins=(np.arange(30)-9))\n",
    "plt.hist(ftn_F08,bins=(np.arange(30)-9))"
   ]
  },
  {
   "cell_type": "code",
   "execution_count": null,
   "metadata": {
    "collapsed": false
   },
   "outputs": [],
   "source": [
    "hst,bins = np.histogram(fts_F08,bins=(np.arange(30)-9))\n",
    "plt.hist(fts_F08,bins=(np.arange(30)-9))"
   ]
  },
  {
   "cell_type": "code",
   "execution_count": null,
   "metadata": {
    "collapsed": false
   },
   "outputs": [],
   "source": [
    "ftn_F15 = create_ltod(fil_F15[70:-1], lat_min = 70.0, lat_max = 71.0)\n",
    "fts_F15 = create_ltod(fil_F15[70:-1], lat_max = -70.0, lat_min = -71.0)\n",
    "#\n",
    "fig = plt.figure()\n",
    "a = fig.add_subplot(1,2,1)\n",
    "plt.hist(ftn_F15,bins=(np.arange(30)-9))\n",
    "a.set_title('F15 North')\n",
    "a = fig.add_subplot(1,2,2)\n",
    "plt.hist(fts_F15, bins = (np.arange(30)-9))\n",
    "a.set_title('F15 South')\n",
    "plt.show"
   ]
  },
  {
   "cell_type": "code",
   "execution_count": null,
   "metadata": {
    "collapsed": false
   },
   "outputs": [],
   "source": [
    "ftn_F17 = create_ltod(fil_F17, lat_min = 70.0, lat_max = 71.0)\n",
    "fts_F17 = create_ltod(fil_F17, lat_max = -70.0, lat_min = -71.0)\n",
    "#\n",
    "fig = plt.figure()\n",
    "a = fig.add_subplot(1,2,1)\n",
    "plt.hist(ftn_F17,bins=(np.arange(30)-9))\n",
    "a.set_title('F17 North')\n",
    "a = fig.add_subplot(1,2,2)\n",
    "plt.hist(fts_F17, bins = (np.arange(30)-9))\n",
    "a.set_title('F17 South')\n",
    "plt.show"
   ]
  },
  {
   "cell_type": "code",
   "execution_count": null,
   "metadata": {
    "collapsed": false
   },
   "outputs": [],
   "source": [
    "ftn_smmr = create_ltod(fil_smmr, lat_min = 70.0, lat_max = 71.0)\n",
    "fts_smmr = create_ltod(fil_smmr, lat_max = -70.0, lat_min = -71.0)\n",
    "#\n",
    "fig = plt.figure()\n",
    "a = fig.add_subplot(1,2,1)\n",
    "plt.hist(ftn_smmr,bins=(np.arange(30)-9))\n",
    "a.set_title('SMMR North')\n",
    "a = fig.add_subplot(1,2,2)\n",
    "plt.hist(fts_smmr, bins = (np.arange(30)-9))\n",
    "a.set_title('SMMR South')\n",
    "plt.show"
   ]
  },
  {
   "cell_type": "code",
   "execution_count": null,
   "metadata": {
    "collapsed": false
   },
   "outputs": [],
   "source": [
    "fil_F10 = sort(glob.glob(\"F10-1996/*F10_D199601*.nc\"))\n",
    "print (len(fil_F10))"
   ]
  },
  {
   "cell_type": "code",
   "execution_count": null,
   "metadata": {
    "collapsed": false
   },
   "outputs": [],
   "source": [
    "ftn_F10 = create_ltod(fil_F10[0:30], lat_min = 70.0, lat_max = 71.0)\n",
    "fts_F10 = create_ltod(fil_F10[0:30], lat_max = -70.0, lat_min = -71.0)\n",
    "#\n",
    "fig = plt.figure()\n",
    "a = fig.add_subplot(1,2,1)\n",
    "plt.hist(ftn_F10,bins=(np.arange(30)-9))\n",
    "a.set_title('F10 North')\n",
    "a = fig.add_subplot(1,2,2)\n",
    "plt.hist(fts_F10, bins = (np.arange(30)-9))\n",
    "a.set_title('F10 South')\n",
    "plt.show"
   ]
  },
  {
   "cell_type": "code",
   "execution_count": null,
   "metadata": {
    "collapsed": false
   },
   "outputs": [],
   "source": [
    "import numpy.ma as ma"
   ]
  },
  {
   "cell_type": "code",
   "execution_count": null,
   "metadata": {
    "collapsed": false
   },
   "outputs": [],
   "source": [
    "latm = ma.masked_where((lat < 70.), lat)"
   ]
  },
  {
   "cell_type": "code",
   "execution_count": null,
   "metadata": {
    "collapsed": false
   },
   "outputs": [],
   "source": [
    "print (np.min(latm), np.max(latm))"
   ]
  },
  {
   "cell_type": "code",
   "execution_count": null,
   "metadata": {
    "collapsed": true
   },
   "outputs": [],
   "source": [
    "lat_band = ma.masked_where( latm > 71., latm)"
   ]
  },
  {
   "cell_type": "code",
   "execution_count": null,
   "metadata": {
    "collapsed": false
   },
   "outputs": [],
   "source": [
    "print (np.min(lat_band), np.max(lat_band))\n"
   ]
  },
  {
   "cell_type": "code",
   "execution_count": null,
   "metadata": {
    "collapsed": true
   },
   "outputs": [],
   "source": [
    "lon_band = ma.masked_array(lon, lat_band.mask)"
   ]
  },
  {
   "cell_type": "code",
   "execution_count": null,
   "metadata": {
    "collapsed": true
   },
   "outputs": [],
   "source": [
    "fid.close()\n"
   ]
  },
  {
   "cell_type": "code",
   "execution_count": null,
   "metadata": {
    "collapsed": false
   },
   "outputs": [],
   "source": [
    "np.shape(scantime)"
   ]
  },
  {
   "cell_type": "code",
   "execution_count": null,
   "metadata": {
    "collapsed": false
   },
   "outputs": [],
   "source": [
    "np.shape(lat_band)"
   ]
  },
  {
   "cell_type": "code",
   "execution_count": null,
   "metadata": {
    "collapsed": true
   },
   "outputs": [],
   "source": [
    "scan_time = array([scantime,]*90).transpose()"
   ]
  },
  {
   "cell_type": "code",
   "execution_count": null,
   "metadata": {
    "collapsed": false
   },
   "outputs": [],
   "source": [
    "np.shape(scan_time)"
   ]
  },
  {
   "cell_type": "code",
   "execution_count": null,
   "metadata": {
    "collapsed": false
   },
   "outputs": [],
   "source": [
    "print (scan_time[1,0:5], scan_time[2,0:5])"
   ]
  },
  {
   "cell_type": "code",
   "execution_count": null,
   "metadata": {
    "collapsed": true
   },
   "outputs": [],
   "source": [
    "scantime_band = ma.masked_array(scan_time, lat_band.mask)"
   ]
  },
  {
   "cell_type": "code",
   "execution_count": null,
   "metadata": {
    "collapsed": true
   },
   "outputs": [],
   "source": [
    "import time"
   ]
  },
  {
   "cell_type": "code",
   "execution_count": null,
   "metadata": {
    "collapsed": false
   },
   "outputs": [],
   "source": [
    "print (time.gmtime())"
   ]
  },
  {
   "cell_type": "code",
   "execution_count": null,
   "metadata": {
    "collapsed": false
   },
   "outputs": [],
   "source": [
    "print (time.gmtime(scantime[0]))"
   ]
  },
  {
   "cell_type": "code",
   "execution_count": null,
   "metadata": {
    "collapsed": true
   },
   "outputs": [],
   "source": [
    "st = time.strptime(\"01.01.1987\", \"%d.%m.%Y\")"
   ]
  },
  {
   "cell_type": "code",
   "execution_count": null,
   "metadata": {
    "collapsed": false
   },
   "outputs": [],
   "source": [
    "print (st)\n"
   ]
  },
  {
   "cell_type": "code",
   "execution_count": null,
   "metadata": {
    "collapsed": true
   },
   "outputs": [],
   "source": [
    "import calendar"
   ]
  },
  {
   "cell_type": "code",
   "execution_count": null,
   "metadata": {
    "collapsed": true
   },
   "outputs": [],
   "source": [
    "seconds_to_epoch = calendar.timegm(st)"
   ]
  },
  {
   "cell_type": "code",
   "execution_count": null,
   "metadata": {
    "collapsed": false
   },
   "outputs": [],
   "source": [
    "print (time.gmtime(scantime[0]), time.gmtime(scantime[0]+seconds_to_epoch))"
   ]
  },
  {
   "cell_type": "code",
   "execution_count": null,
   "metadata": {
    "collapsed": false
   },
   "outputs": [],
   "source": [
    "print (time.gmtime(scantime[3219]+seconds_to_epoch))"
   ]
  },
  {
   "cell_type": "code",
   "execution_count": null,
   "metadata": {
    "collapsed": false
   },
   "outputs": [],
   "source": [
    "str_time_midnight = time.gmtime(scantime[3219]+seconds_to_epoch)\n",
    "print (str_time_midnight.tm_mon)"
   ]
  },
  {
   "cell_type": "code",
   "execution_count": null,
   "metadata": {
    "collapsed": false
   },
   "outputs": [],
   "source": [
    "dmid = \"%02d.%02d.%d\" % (str_time_midnight.tm_mday, str_time_midnight.tm_mon, str_time_midnight.tm_year)\n",
    "print (dmid)"
   ]
  },
  {
   "cell_type": "code",
   "execution_count": null,
   "metadata": {
    "collapsed": true
   },
   "outputs": [],
   "source": [
    "utc_midnight = time.strptime(dmid, \"%d.%m.%Y\")"
   ]
  },
  {
   "cell_type": "code",
   "execution_count": null,
   "metadata": {
    "collapsed": false
   },
   "outputs": [],
   "source": [
    "print ( utc_midnight)"
   ]
  },
  {
   "cell_type": "code",
   "execution_count": null,
   "metadata": {
    "collapsed": false
   },
   "outputs": [],
   "source": [
    "utc_seconds = calendar.timegm(utc_midnight)\n",
    "print (utc_seconds)"
   ]
  },
  {
   "cell_type": "markdown",
   "metadata": {},
   "source": [
    "So we now have a UTC time and a longitude for each measurement in the latitude band\n",
    "We need to convert each UTC time to LTOD  \n",
    "    - the UTC is in seconds since Epoch, so first convert UTC into seconds since midnight \n",
    "    - then add the longitude offset in seconds\n",
    "    - save to a new array\n",
    "Get the next file and append the result to the new array\n",
    "Run a historgram"
   ]
  },
  {
   "cell_type": "code",
   "execution_count": null,
   "metadata": {
    "collapsed": false
   },
   "outputs": [],
   "source": [
    "print (utc_seconds-seconds_to_epoch, scantime[0],  (scantime[0] - (utc_seconds-seconds_to_epoch))/60.)"
   ]
  },
  {
   "cell_type": "code",
   "execution_count": null,
   "metadata": {
    "collapsed": false
   },
   "outputs": [],
   "source": [
    "offset = utc_seconds-seconds_to_epoch\n",
    "print (offset)"
   ]
  },
  {
   "cell_type": "code",
   "execution_count": null,
   "metadata": {
    "collapsed": false
   },
   "outputs": [],
   "source": [
    "new_times = scantime_band - offset"
   ]
  },
  {
   "cell_type": "code",
   "execution_count": null,
   "metadata": {
    "collapsed": false
   },
   "outputs": [],
   "source": [
    "print (np.min(new_times), np.max(new_times), np.min(scantime_band), np.max(scantime_band))"
   ]
  },
  {
   "cell_type": "code",
   "execution_count": null,
   "metadata": {
    "collapsed": false
   },
   "outputs": [],
   "source": [
    "print ((np.min(new_times) - np.max(new_times))/60)"
   ]
  },
  {
   "cell_type": "code",
   "execution_count": null,
   "metadata": {
    "collapsed": false
   },
   "outputs": [],
   "source": [
    "final_times = new_times + (lon_band*4*60.0)\n",
    "print ( np.min(final_times), np.max(final_times), ((np.min(final_times)-np.max(final_times))/60))"
   ]
  },
  {
   "cell_type": "code",
   "execution_count": null,
   "metadata": {
    "collapsed": false
   },
   "outputs": [],
   "source": [
    "print (np.min(lon_band), np.max(lon_band))"
   ]
  },
  {
   "cell_type": "code",
   "execution_count": null,
   "metadata": {
    "collapsed": true
   },
   "outputs": [],
   "source": [
    "all_times = final_times"
   ]
  },
  {
   "cell_type": "code",
   "execution_count": null,
   "metadata": {
    "collapsed": false
   },
   "outputs": [],
   "source": [
    "np.shape(lat.flatten())\n",
    "b = np.arange(53)\n",
    "c=np.concatenate((lat.flatten(),b))"
   ]
  },
  {
   "cell_type": "code",
   "execution_count": null,
   "metadata": {
    "collapsed": false
   },
   "outputs": [],
   "source": [
    "print (np.shape(c),np.shape(lat.flatten()))\n",
    "b = np.concatenate((b,lat.flatten()))\n",
    "print (np.shape(b))"
   ]
  },
  {
   "cell_type": "code",
   "execution_count": null,
   "metadata": {
    "collapsed": false
   },
   "outputs": [],
   "source": [
    "fid.close()\n",
    "lat_all = lat.flatten()\n",
    "lon_all = lon.flatten()\n",
    "scantime_all = scan_time.flatten()\n",
    "for files in fil[1:-1]:\n",
    "    print (files)\n",
    "    fid = Dataset(files, 'r', 'NETCDF4')\n",
    "    lat = fid.variables['latitude_loc1'][:]\n",
    "    lon = fid.variables['longitude_loc1'][:]\n",
    "    scantime = fid.variables['scan_time_loc1'][:]\n",
    "    scan_time = array([scantime,]*90).transpose()\n",
    "    lat_all = np.concatenate((lat_all, lat.flatten()))\n",
    "    lon_all = np.concatenate((lon_all, lon.flatten()))\n",
    "    scantime_all = np.concatenate((scantime_all, scan_time.flatten()))\n",
    "    fid.close()\n",
    "np.shape(lat_all)\n",
    "np.shape(lon_all)\n",
    "np.shape(scantime_all)\n",
    "    #latm = ma.masked_where((lat < 70.), lat)\n",
    "    #lat_band = ma.masked_where( latm > 71., latm)\n",
    "    #lon_band = ma.masked_array(lon, lat_band.mask)\n",
    "    #scan_time = array([scantime,]*90).transpose()\n",
    "    #scantime_band = ma.masked_array(scan_time, lat_band.mask)\n",
    "    #fid.close()"
   ]
  },
  {
   "cell_type": "code",
   "execution_count": null,
   "metadata": {
    "collapsed": false
   },
   "outputs": [],
   "source": [
    "print (files)"
   ]
  },
  {
   "cell_type": "code",
   "execution_count": null,
   "metadata": {
    "collapsed": false
   },
   "outputs": [],
   "source": [
    "print (np.shape(lat_all),np.shape(lon_all), np.shape(scantime_all))"
   ]
  },
  {
   "cell_type": "code",
   "execution_count": null,
   "metadata": {
    "collapsed": true
   },
   "outputs": [],
   "source": [
    "latm = ma.masked_where((lat_all < 70.), lat_all)\n",
    "lat_band = ma.masked_where( latm > 71., latm)\n",
    "lon_band = ma.masked_array(lon_all, lat_band.mask)\n",
    "scantime_band = ma.masked_array(scantime_all, lat_band.mask)"
   ]
  },
  {
   "cell_type": "code",
   "execution_count": null,
   "metadata": {
    "collapsed": false
   },
   "outputs": [],
   "source": [
    "print (np.min(lat_band), np.max(lat_band), np.min(lon_band), np.max(lon_band), np.min(scantime_band), np.max(scantime_band))"
   ]
  },
  {
   "cell_type": "code",
   "execution_count": null,
   "metadata": {
    "collapsed": false
   },
   "outputs": [],
   "source": [
    "print (utc_seconds, seconds_to_epoch)"
   ]
  },
  {
   "cell_type": "code",
   "execution_count": null,
   "metadata": {
    "collapsed": false
   },
   "outputs": [],
   "source": [
    "print (offset)"
   ]
  },
  {
   "cell_type": "code",
   "execution_count": null,
   "metadata": {
    "collapsed": true
   },
   "outputs": [],
   "source": [
    "final_times = (scantime_band-offset) + (lon_band*4*60.0)"
   ]
  },
  {
   "cell_type": "code",
   "execution_count": null,
   "metadata": {
    "collapsed": false
   },
   "outputs": [],
   "source": [
    "plt.hist(final_times)"
   ]
  },
  {
   "cell_type": "code",
   "execution_count": null,
   "metadata": {
    "collapsed": false
   },
   "outputs": [],
   "source": [
    "print( np.min(final_times/3600.), np.max(final_times/3600.))"
   ]
  },
  {
   "cell_type": "code",
   "execution_count": null,
   "metadata": {
    "collapsed": true
   },
   "outputs": [],
   "source": [
    "ftimes = final_times/3600.\n",
    "ftimes[ftimes > 24.0] = ftimes[ftimes > 24.0]-24.0"
   ]
  },
  {
   "cell_type": "code",
   "execution_count": null,
   "metadata": {
    "collapsed": false
   },
   "outputs": [],
   "source": [
    "print (np.min(ftimes), np.max(ftimes))"
   ]
  },
  {
   "cell_type": "code",
   "execution_count": null,
   "metadata": {
    "collapsed": false
   },
   "outputs": [],
   "source": [
    "plt.hist(ftimes,bins=30)"
   ]
  },
  {
   "cell_type": "code",
   "execution_count": null,
   "metadata": {
    "collapsed": false
   },
   "outputs": [],
   "source": [
    "plt.hist(final_times, bins=30)"
   ]
  },
  {
   "cell_type": "code",
   "execution_count": null,
   "metadata": {
    "collapsed": false
   },
   "outputs": [],
   "source": [
    "hst,bins = np.histogram(ftimes,bins=(np.arange(30)-9))\n",
    "plt.hist(ftimes,bins=(np.arange(48)-24))"
   ]
  },
  {
   "cell_type": "code",
   "execution_count": null,
   "metadata": {
    "collapsed": false
   },
   "outputs": [],
   "source": [
    "print (hst, bins)"
   ]
  },
  {
   "cell_type": "code",
   "execution_count": null,
   "metadata": {
    "collapsed": false
   },
   "outputs": [],
   "source": [
    "print (np.max(ftimes))"
   ]
  },
  {
   "cell_type": "code",
   "execution_count": null,
   "metadata": {
    "collapsed": true
   },
   "outputs": [],
   "source": [
    "def create_ltod(files, lat_min=70., lat_max=71.):\n",
    "    \"\"\" This function takes a list of gsx swath files as an argument and\n",
    "        calculates the local time of each measurement in a specified latitude band\n",
    "        It returns a 1-D array of the local times (in hours wrt midnight), \n",
    "        suitable for creating a histogram \"\"\"\n",
    "    \n",
    "    fid = Dataset(files[0], 'r', 'NETCDF4')\n",
    "    lat = fid.variables['latitude_loc1'][:]\n",
    "    lon = fid.variables['longitude_loc1'][:]\n",
    "    scantime = fid.variables['scan_time_loc1'][:]\n",
    "    meas = len(fid.dimensions['measurements_loc1'])\n",
    "    scan_time = array([scantime,]*meas).transpose()\n",
    "    lat_all = lat.flatten()\n",
    "    lon_all = lon.flatten()\n",
    "    offset_seconds = seconds_to_midnight(scantime[0]) # get the offset to midnight for the first scanline\n",
    "    scantime_all = scan_time.flatten() - offset_seconds\n",
    "    fid.close()\n",
    "    for fil in files[1:-1]:\n",
    "        #print (fil)\n",
    "        fid = Dataset(fil, 'r', 'NETCDF4')\n",
    "        lat = fid.variables['latitude_loc1'][:]\n",
    "        lon = fid.variables['longitude_loc1'][:]\n",
    "        scantime = fid.variables['scan_time_loc1'][:]\n",
    "        meas = len(fid.dimensions['measurements_loc1'])\n",
    "        scan_time = array([scantime,]*meas).transpose()\n",
    "        lat_all = np.concatenate((lat_all, lat.flatten()))\n",
    "        lon_all = np.concatenate((lon_all, lon.flatten()))\n",
    "        offset_seconds = seconds_to_midnight(scantime[0])\n",
    "        scantime_all = np.concatenate((scantime_all, (scan_time.flatten() - offset_seconds)))\n",
    "        fid.close()\n",
    "    latm = ma.masked_where((lat_all < lat_min), lat_all)\n",
    "    lat_band = ma.masked_where( latm > lat_max, latm)\n",
    "    lon_band = ma.masked_array(lon_all, lat_band.mask)\n",
    "    scantime_band = ma.masked_array(scantime_all, lat_band.mask)\n",
    "    final_times = scantime_band + (lon_band*4*60.0)\n",
    "    ftimes = final_times/3600.\n",
    "    ftimes[ftimes > 24.0] = ftimes[ftimes > 24.0]-24.0\n",
    "    return ftimes\n",
    "                                      \n"
   ]
  },
  {
   "cell_type": "code",
   "execution_count": null,
   "metadata": {
    "collapsed": true
   },
   "outputs": [],
   "source": [
    "def seconds_to_midnight(seconds):\n",
    "    \"\"\" This function calculates the number of seconds to midnight of the input\n",
    "        time.  This is used to convert the scan times in the file to local time\n",
    "        for that day \"\"\"\n",
    "    st = time.strptime(\"01.01.1987\", \"%d.%m.%Y\")\n",
    "    seconds_to_epoch = calendar.timegm(st)\n",
    "    # get file epoch date in seconds since 1970\n",
    "    str_date = time.gmtime(seconds + seconds_to_epoch)\n",
    "    # get file date from number of seconds since 1987\n",
    "    dmid = \"%02d.%02d.%d\" % (str_date.tm_mday, str_date.tm_mon, str_date.tm_year)\n",
    "    utc_midnight = time.strptime(dmid, \"%d.%m.%Y\")\n",
    "    utc_seconds_to_midnight = calendar.timegm(utc_midnight)\n",
    "    # get midnight of file date in seconds\n",
    "    return (utc_seconds_to_midnight - seconds_to_epoch)\n",
    "    "
   ]
  },
  {
   "cell_type": "code",
   "execution_count": null,
   "metadata": {
    "collapsed": false
   },
   "outputs": [],
   "source": [
    "print (seconds_to_midnight(6.06530381e+08 ))"
   ]
  },
  {
   "cell_type": "code",
   "execution_count": null,
   "metadata": {
    "collapsed": false
   },
   "outputs": [],
   "source": [
    "ft = create_ltod(fil)"
   ]
  },
  {
   "cell_type": "code",
   "execution_count": null,
   "metadata": {
    "collapsed": false
   },
   "outputs": [],
   "source": [
    "np.shape(ft)"
   ]
  },
  {
   "cell_type": "code",
   "execution_count": null,
   "metadata": {
    "collapsed": true
   },
   "outputs": [],
   "source": [
    "ftimes = ft/3600.\n",
    "ftimes[ftimes > 24.0] = ftimes[ftimes > 24.0]-24.0"
   ]
  },
  {
   "cell_type": "code",
   "execution_count": null,
   "metadata": {
    "collapsed": false
   },
   "outputs": [],
   "source": [
    "print (np.min(ftimes), np.max(ftimes))"
   ]
  },
  {
   "cell_type": "code",
   "execution_count": null,
   "metadata": {
    "collapsed": true
   },
   "outputs": [],
   "source": []
  },
  {
   "cell_type": "code",
   "execution_count": null,
   "metadata": {
    "collapsed": false
   },
   "outputs": [],
   "source": [
    "hst,bins = np.histogram(ftimes,bins=(np.arange(30)-9))\n",
    "plt.hist(ftimes,bins=(np.arange(30)-9))"
   ]
  },
  {
   "cell_type": "code",
   "execution_count": null,
   "metadata": {
    "collapsed": false
   },
   "outputs": [],
   "source": [
    "%cd /projects/PMESDR/vagrant/pmadden/csu_ssmis_2006"
   ]
  },
  {
   "cell_type": "code",
   "execution_count": null,
   "metadata": {
    "collapsed": true
   },
   "outputs": [],
   "source": [
    "filF16 = np.concatenate((sort(glob.glob(\"gsx_*20061226*.nc\")),sort(glob.glob(\"gsx_*20061227*.nc\"))))"
   ]
  },
  {
   "cell_type": "code",
   "execution_count": null,
   "metadata": {
    "collapsed": false
   },
   "outputs": [],
   "source": [
    "print (fillist)"
   ]
  },
  {
   "cell_type": "code",
   "execution_count": null,
   "metadata": {
    "collapsed": true
   },
   "outputs": [],
   "source": [
    "filesF16 = np.concatenate((filF16, sort(glob.glob(\"gsx_*20061218*.nc\"))))"
   ]
  },
  {
   "cell_type": "code",
   "execution_count": null,
   "metadata": {
    "collapsed": false
   },
   "outputs": [],
   "source": [
    "print (len(filesF16))"
   ]
  },
  {
   "cell_type": "code",
   "execution_count": null,
   "metadata": {
    "collapsed": false
   },
   "outputs": [],
   "source": [
    "ft_F16s = create_ltod(filesF16, lat_min=-71.0, lat_max=-70.0)"
   ]
  },
  {
   "cell_type": "code",
   "execution_count": null,
   "metadata": {
    "collapsed": true
   },
   "outputs": [],
   "source": [
    "?ft"
   ]
  },
  {
   "cell_type": "code",
   "execution_count": null,
   "metadata": {
    "collapsed": true
   },
   "outputs": [],
   "source": [
    "ftimes = ft/3600.\n",
    "ftimes[ftimes > 24.0] = ftimes[ftimes > 24.0]-24.0"
   ]
  },
  {
   "cell_type": "code",
   "execution_count": null,
   "metadata": {
    "collapsed": false
   },
   "outputs": [],
   "source": [
    "print (np.min(ftimes), np.max(ftimes))"
   ]
  },
  {
   "cell_type": "code",
   "execution_count": null,
   "metadata": {
    "collapsed": false
   },
   "outputs": [],
   "source": [
    "hst,bins = np.histogram(ft_F16,bins=(np.arange(30)-9))\n",
    "plt.hist(ft_F16,bins=(np.arange(30)-9))"
   ]
  },
  {
   "cell_type": "code",
   "execution_count": null,
   "metadata": {
    "collapsed": false
   },
   "outputs": [],
   "source": [
    "hst,bins = np.histogram(ft_F16s,bins=(np.arange(30)-9))\n",
    "plt.hist(ft_F16s,bins=(np.arange(30)-9))"
   ]
  },
  {
   "cell_type": "code",
   "execution_count": null,
   "metadata": {
    "collapsed": false
   },
   "outputs": [],
   "source": [
    "ftimes = fts/3600.\n",
    "ftimes[ftimes > 24.0] = ftimes[ftimes > 24.0]-24.0\n",
    "print (np.min(ftimes), np.max(ftimes))"
   ]
  },
  {
   "cell_type": "code",
   "execution_count": null,
   "metadata": {
    "collapsed": false
   },
   "outputs": [],
   "source": [
    "ft = create_ltod(files, lat_min=70., lat_max=71.)"
   ]
  },
  {
   "cell_type": "code",
   "execution_count": null,
   "metadata": {
    "collapsed": false
   },
   "outputs": [],
   "source": [
    "ftimes = ft/3600.\n",
    "ftimes[ftimes > 24.0] = ftimes[ftimes > 24.0]-24.0\n",
    "print (np.min(ftimes), np.max(ftimes))"
   ]
  },
  {
   "cell_type": "code",
   "execution_count": null,
   "metadata": {
    "collapsed": false
   },
   "outputs": [],
   "source": [
    "ftsouth = create_ltod(files, lat_min=-71., lat_max=-70.)"
   ]
  },
  {
   "cell_type": "code",
   "execution_count": null,
   "metadata": {
    "collapsed": false
   },
   "outputs": [],
   "source": [
    "stimes = ftsouth/3600.\n",
    "stimes[stimes > 24.0] = stimes[stimes > 24.0] - 24.0\n",
    "print (np.min(stimes), np.max(stimes))"
   ]
  },
  {
   "cell_type": "code",
   "execution_count": null,
   "metadata": {
    "collapsed": false
   },
   "outputs": [],
   "source": [
    "hst,bins = np.histogram(ftimes,bins=(np.arange(48)-24))\n",
    "plt.hist(ftimes,bins=(np.arange(48)-24))"
   ]
  },
  {
   "cell_type": "code",
   "execution_count": null,
   "metadata": {
    "collapsed": false
   },
   "outputs": [],
   "source": [
    "hst,bins = np.histogram(stimes,bins=(np.arange(30)-9))\n",
    "plt.hist(stimes,bins=(np.arange(30)-9))"
   ]
  },
  {
   "cell_type": "code",
   "execution_count": null,
   "metadata": {
    "collapsed": false
   },
   "outputs": [],
   "source": [
    "import numpy as np\n",
    "a = np.arange(10)\n",
    "print (a)"
   ]
  },
  {
   "cell_type": "code",
   "execution_count": null,
   "metadata": {
    "collapsed": false
   },
   "outputs": [],
   "source": [
    "print (np.shape(np.repeat(a,2)), np.repeat(a, 2))"
   ]
  },
  {
   "cell_type": "code",
   "execution_count": null,
   "metadata": {
    "collapsed": true
   },
   "outputs": [],
   "source": [
    "b = np.repeat(a,5)\n",
    "c = np.reshape(b, (10,5))"
   ]
  },
  {
   "cell_type": "code",
   "execution_count": null,
   "metadata": {
    "collapsed": false
   },
   "outputs": [],
   "source": [
    "print (np.shape(b), np.shape(c), c)"
   ]
  },
  {
   "cell_type": "code",
   "execution_count": null,
   "metadata": {
    "collapsed": false
   },
   "outputs": [],
   "source": [
    "d = np.reshape(b,((len(b)/5), 5))\n",
    "print(d)"
   ]
  },
  {
   "cell_type": "code",
   "execution_count": null,
   "metadata": {
    "collapsed": true
   },
   "outputs": [],
   "source": []
  }
 ],
 "metadata": {
  "kernelspec": {
   "display_name": "Python 2",
   "language": "python",
   "name": "python2"
  },
  "language_info": {
   "codemirror_mode": {
    "name": "ipython",
    "version": 2
   },
   "file_extension": ".py",
   "mimetype": "text/x-python",
   "name": "python",
   "nbconvert_exporter": "python",
   "pygments_lexer": "ipython2",
   "version": "2.7.12"
  }
 },
 "nbformat": 4,
 "nbformat_minor": 2
}
