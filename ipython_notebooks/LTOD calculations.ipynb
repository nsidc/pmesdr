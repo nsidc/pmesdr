{
 "cells": [
  {
   "cell_type": "markdown",
   "metadata": {},
   "source": [
    "LTOD calculations\n",
    "\n",
    "Take 3 days worth of gsx input swath data for a sensor\n",
    "    for each swath locate all measurements that lie between 70 and 71 N (or S) latitude\n",
    "    save the longitude and UTC for each measurement\n",
    "    \n",
    "Plot a histogram of the times - but it's more complicated than that - \n",
    "    for each time, which is in UTC, take the longitude and calculate what the ltod is for that\n",
    "    UTC at that longitude.\n",
    "    \n",
    "    i.e. if the UTC is 02:48 and the longitude is -105, then the ltod is ((2*60)+48) + (-105*4)\n"
   ]
  },
  {
   "cell_type": "code",
   "execution_count": 1,
   "metadata": {},
   "outputs": [
    {
     "name": "stdout",
     "output_type": "stream",
     "text": [
      "Populating the interactive namespace from numpy and matplotlib\n"
     ]
    }
   ],
   "source": [
    "#from __future__ import print_function\n",
    "%pylab inline\n",
    "from netCDF4 import Dataset\n",
    "import matplotlib.pyplot as plt\n",
    "import numpy as np\n",
    "import glob as glob\n",
    "import time\n",
    "import calendar\n",
    "import numpy.ma as ma"
   ]
  },
  {
   "cell_type": "code",
   "execution_count": 2,
   "metadata": {},
   "outputs": [],
   "source": [
    "def seconds_to_midnight(seconds):\n",
    "    \"\"\" This function calculates the number of seconds to midnight of the input\n",
    "        time.  This is used to convert the scan times in the file to local time\n",
    "        for that day \"\"\"\n",
    "    st = time.strptime(\"01.01.1987\", \"%d.%m.%Y\")\n",
    "    seconds_to_epoch = calendar.timegm(st)\n",
    "    # get file epoch date in seconds since 1970\n",
    "    str_date = time.gmtime(seconds + seconds_to_epoch)\n",
    "    # get file date from number of seconds since 1987\n",
    "    dmid = \"%02d.%02d.%d\" % (str_date.tm_mday, str_date.tm_mon, str_date.tm_year)\n",
    "    utc_midnight = time.strptime(dmid, \"%d.%m.%Y\")\n",
    "    utc_seconds_to_midnight = calendar.timegm(utc_midnight)\n",
    "    # get midnight of file date in seconds\n",
    "    return (utc_seconds_to_midnight - seconds_to_epoch)"
   ]
  },
  {
   "cell_type": "code",
   "execution_count": 3,
   "metadata": {},
   "outputs": [],
   "source": [
    "def create_ltod(files, lat_min=70., lat_max=71.):\n",
    "    \"\"\" This function takes a list of gsx swath files as an argument and\n",
    "        calculates the local time of each measurement in a specified latitude band\n",
    "        It returns a 1-D array of the local times (in hours wrt midnight), \n",
    "        suitable for creating a histogram \"\"\"\n",
    "    \n",
    "    fid = Dataset(files[0], 'r', 'NETCDF4')\n",
    "    lat = np.array(fid.variables['latitude_loc1'])\n",
    "    lon = np.array(fid.variables['longitude_loc1'])\n",
    "    scantime = np.array(fid.variables['scan_time_loc1'])\n",
    "    meas = len(fid.dimensions['measurements_loc1'])\n",
    "    scan_time = np.array([scantime,]*meas).transpose()\n",
    "    lat_all = lat.flatten()\n",
    "    lon_all = lon.flatten()\n",
    "    offset_seconds = seconds_to_midnight(scantime[0]) # get the offset to midnight for the first scanline\n",
    "    scantime_all = scan_time.flatten() - offset_seconds \n",
    "    fid.close()\n",
    "    for fil in files[1:-1]:\n",
    "        #print (fil)\n",
    "        fid = Dataset(fil, 'r', 'NETCDF4')\n",
    "        scantime = np.array(fid.variables['scan_time_loc1'])\n",
    "        if (len(scantime)):\n",
    "            meas = len(fid.dimensions['measurements_loc1'])\n",
    "            scan_time = np.array([scantime,]*meas).transpose()\n",
    "            offset_seconds = seconds_to_midnight(scantime[0])\n",
    "            scantime_all = np.concatenate((scantime_all, (scan_time.flatten() - offset_seconds)))\n",
    "        else:\n",
    "            fid.close()\n",
    "            continue         \n",
    "        lat = np.array(fid.variables['latitude_loc1'])\n",
    "        lon = np.array(fid.variables['longitude_loc1'])\n",
    "        lat_all = np.concatenate((lat_all, lat.flatten()))\n",
    "        lon_all = np.concatenate((lon_all, lon.flatten()))\n",
    "        fid.close()\n",
    "    latm = ma.masked_where((lat_all < lat_min), lat_all)\n",
    "    lat_band = ma.masked_where( latm > lat_max, latm)\n",
    "    lon_band = ma.masked_array(lon_all, lat_band.mask)\n",
    "    scantime_band = ma.masked_array(scantime_all, lat_band.mask)\n",
    "    final_times = scantime_band + (lon_band*4*60.0)\n",
    "    ftimes = final_times/3600.\n",
    "    ftimes[ftimes > 24.0] = ftimes[ftimes > 24.0] - 24.0\n",
    "    ftimes[ftimes < 0.] = ftimes[ftimes < 0.] + 24.0\n",
    "    return ftimes"
   ]
  },
  {
   "cell_type": "code",
   "execution_count": 4,
   "metadata": {},
   "outputs": [
    {
     "name": "stdout",
     "output_type": "stream",
     "text": [
      "127\n",
      "126\n",
      "126\n",
      "126\n",
      "126\n",
      "96\n"
     ]
    }
   ],
   "source": [
    "F16_2018 = sort(glob.glob(\"/projects/PMESDR/vagrant/F16_GSX/*D2018070*.nc\"))\n",
    "print(len(F16_2018))\n",
    "F16_2019 = sort(glob.glob(\"/projects/PMESDR/vagrant/F16_GSX/*FCDR*D2019070*.nc\"))\n",
    "print(len(F16_2019))\n",
    "F16_2020 = sort(glob.glob(\"/projects/PMESDR/vagrant/F16_GSX/*D2020070*.nc\"))\n",
    "print(len(F16_2020))\n",
    "F16_2021 = sort(glob.glob(\"/projects/PMESDR/vagrant/F16_GSX/*D2021070*.nc\"))\n",
    "print(len(F16_2021))\n",
    "F16_2022 = sort(glob.glob(\"/projects/PMESDR/vagrant/F16_GSX/*D2022070*.nc\"))\n",
    "print(len(F16_2022))\n",
    "F16_2023 = sort(glob.glob(\"/projects/PMESDR/vagrant/F16_GSX/*2023051*.nc\"))\n",
    "print(len(F16_2023))"
   ]
  },
  {
   "cell_type": "code",
   "execution_count": null,
   "metadata": {},
   "outputs": [],
   "source": [
    "ftn_F16_2018 = create_ltod(F16_2018, lat_min = 70.0, lat_max = 71.0)\n",
    "fts_F16_2018 = create_ltod(F16_2018, lat_max = -70.0, lat_min = -71.0)"
   ]
  },
  {
   "cell_type": "code",
   "execution_count": null,
   "metadata": {},
   "outputs": [],
   "source": [
    "ftn_F16_2019 = create_ltod(F16_2019, lat_min = 70.0, lat_max = 71.0)\n",
    "fts_F16_2019 = create_ltod(F16_2019, lat_max = -70.0, lat_min = -71.0)\n",
    "ftn_F16_2020 = create_ltod(F16_2020, lat_min = 70.0, lat_max = 71.0)\n",
    "fts_F16_2020 = create_ltod(F16_2020, lat_max = -70.0, lat_min = -71.0)"
   ]
  },
  {
   "cell_type": "code",
   "execution_count": null,
   "metadata": {},
   "outputs": [],
   "source": [
    "ftn_F16_2023 = create_ltod(F16_2023, lat_min = 70.0, lat_max = 71.0)"
   ]
  },
  {
   "cell_type": "code",
   "execution_count": 5,
   "metadata": {},
   "outputs": [],
   "source": [
    "ftn_F16_2023 = create_ltod(F16_2023, lat_min = 70.0, lat_max = 71.0)\n",
    "fts_F16_2023 = create_ltod(F16_2023, lat_max = -70.0, lat_min = -71.0)"
   ]
  },
  {
   "cell_type": "code",
   "execution_count": 6,
   "metadata": {},
   "outputs": [],
   "source": [
    "ftn_F16_2021 = create_ltod(F16_2021, lat_min = 70.0, lat_max = 71.0)\n",
    "fts_F16_2021 = create_ltod(F16_2021, lat_max = -70.0, lat_min = -71.0)\n",
    "ftn_F16_2022 = create_ltod(F16_2022, lat_min = 70.0, lat_max = 71.0)\n",
    "fts_F16_2022 = create_ltod(F16_2022, lat_max = -70.0, lat_min = -71.0)\n"
   ]
  },
  {
   "cell_type": "code",
   "execution_count": null,
   "metadata": {},
   "outputs": [],
   "source": [
    "fig = plt.figure(figsize=(15,21))\n",
    "plt.suptitle('LTOD calculations based on observations between 70 and 71 N/S latitudes')\n",
    "a = fig.add_subplot(3,2,1)\n",
    "plt.hist(ftn_F16_2018,bins=(np.arange(25)))\n",
    "plt.plot([22, 22], [0, 35000], color='r', linestyle='--')\n",
    "plt.plot([10, 10], [0, 35000], color='r', linestyle='--')\n",
    "a.set_title('F16 North - 1000/2200\\n2018 doy 182-190\\n127 files')\n",
    "a = fig.add_subplot(3,2,2)\n",
    "plt.hist(fts_F16_2018,bins=(np.arange(25)))\n",
    "plt.plot([22, 22], [0, 35000], color='r', linestyle='--')\n",
    "plt.plot([10, 10], [0, 35000], color='r', linestyle='--')\n",
    "a.set_title('F16 South - 1000/2200\\n2018 doy 182-190\\n127 files')\n",
    "a = fig.add_subplot(3,2,3)\n",
    "plt.hist(ftn_F16_2019,bins=(np.arange(25)))\n",
    "plt.plot([22, 22], [0, 35000], color='r', linestyle='--')\n",
    "plt.plot([10, 10], [0, 35000], color='r', linestyle='--')\n",
    "a.set_title('F16 North - 1000/2200\\n2019 doy 182-190\\n126 files')\n",
    "a = fig.add_subplot(3,2,4)\n",
    "plt.hist(fts_F16_2019,bins=(np.arange(25)))\n",
    "plt.plot([22, 22], [0, 35000], color='r', linestyle='--')\n",
    "plt.plot([10, 10], [0, 35000], color='r', linestyle='--')\n",
    "a.set_title('F16 South - 1000/2200\\n2019 doy 182-190\\n126 files')\n",
    "a = fig.add_subplot(3,2,5)\n",
    "plt.hist(ftn_F16_2020,bins=(np.arange(25)))\n",
    "plt.plot([22, 22], [0, 35000], color='r', linestyle='--')\n",
    "plt.plot([10, 10], [0, 35000], color='r', linestyle='--')\n",
    "a.set_title('F16 North - 1000/2200\\n2020 doy 182-190\\n126 files')\n",
    "a = fig.add_subplot(3,2,6)\n",
    "plt.hist(fts_F16_2020,bins=(np.arange(25)))\n",
    "plt.plot([23, 23], [0, 35000], color='r', linestyle='--')\n",
    "plt.plot([11, 11], [0, 35000], color='r', linestyle='--')\n",
    "a.set_title('F16 South - 1000/2200\\n2020 doy 182-190\\n126 files')\n",
    "plt.show"
   ]
  },
  {
   "cell_type": "code",
   "execution_count": null,
   "metadata": {},
   "outputs": [],
   "source": [
    "fig.savefig('/projects/PMESDR/vagrant/LTOD/F16-2018-2020.png')"
   ]
  },
  {
   "cell_type": "code",
   "execution_count": 9,
   "metadata": {},
   "outputs": [
    {
     "data": {
      "text/plain": [
       "<function matplotlib.pyplot.show>"
      ]
     },
     "execution_count": 9,
     "metadata": {},
     "output_type": "execute_result"
    },
    {
     "data": {
      "image/png": "[encoded data removed]",
      "text/plain": [
       "<Figure size 1080x1512 with 6 Axes>"
      ]
     },
     "metadata": {
      "needs_background": "light"
     },
     "output_type": "display_data"
    }
   ],
   "source": [
    "fig = plt.figure(figsize=(15,21))\n",
    "plt.suptitle('LTOD calculations based on observations between 70 and 71 N/S latitudes')\n",
    "a = fig.add_subplot(3,2,1)\n",
    "plt.hist(ftn_F16_2021,bins=(np.arange(25)))\n",
    "plt.plot([22, 22], [0, 35000], color='r', linestyle='--')\n",
    "plt.plot([10, 10], [0, 35000], color='r', linestyle='--')\n",
    "a.set_title('F16 North - 1000/2200\\n2021 doy 182-190\\n126 files')\n",
    "a = fig.add_subplot(3,2,2)\n",
    "plt.hist(fts_F16_2021,bins=(np.arange(25)))\n",
    "plt.plot([22, 22], [0, 35000], color='r', linestyle='--')\n",
    "plt.plot([10, 10], [0, 35000], color='r', linestyle='--')\n",
    "a.set_title('F16 South - 1000/2200\\n2021 doy 182-190\\n126 files')\n",
    "a = fig.add_subplot(3,2,3)\n",
    "plt.hist(ftn_F16_2022,bins=(np.arange(25)))\n",
    "plt.plot([22, 22], [0, 35000], color='r', linestyle='--')\n",
    "plt.plot([10, 10], [0, 35000], color='r', linestyle='--')\n",
    "a.set_title('F16 North - 1000/2200\\n2022 doy 182-190\\n126 files')\n",
    "a = fig.add_subplot(3,2,4)\n",
    "plt.hist(fts_F16_2022,bins=(np.arange(25)))\n",
    "plt.plot([22, 22], [0, 35000], color='r', linestyle='--')\n",
    "plt.plot([10, 10], [0, 35000], color='r', linestyle='--')\n",
    "a.set_title('F16 South - 1000/2200\\n2022 doy 182-190\\n126 files')\n",
    "a = fig.add_subplot(3,2,5)\n",
    "plt.hist(ftn_F16_2023,bins=(np.arange(25)))\n",
    "plt.plot([23, 23], [0, 30000], color='r', linestyle='--')\n",
    "plt.plot([11, 11], [0, 30000], color='r', linestyle='--')\n",
    "a.set_title('F16 North - 1100/2300\\n2023 doy 130-136\\n96 files')\n",
    "a = fig.add_subplot(3,2,6)\n",
    "plt.hist(fts_F16_2023,bins=(np.arange(25)))\n",
    "plt.plot([23, 23], [0, 30000], color='r', linestyle='--')\n",
    "plt.plot([11, 11], [0, 30000], color='r', linestyle='--')\n",
    "a.set_title('F16 South - 1100/2300\\n2023 doy 182-190\\n96 files')\n",
    "plt.show"
   ]
  },
  {
   "cell_type": "code",
   "execution_count": 10,
   "metadata": {},
   "outputs": [],
   "source": [
    "fig.savefig('/projects/PMESDR/vagrant/LTOD/F16-2021-2023.png')"
   ]
  },
  {
   "cell_type": "code",
   "execution_count": null,
   "metadata": {},
   "outputs": [],
   "source": [
    "ftn_F16_2023 = fts_F16_2023 = 0\n",
    "ftn_F16_2022 = fts_F16_2022 = 0\n",
    "ftn_F16_2021 = fts_F16_2021 = 0"
   ]
  },
  {
   "cell_type": "code",
   "execution_count": null,
   "metadata": {},
   "outputs": [],
   "source": [
    "ftn_F16_2020 = create_ltod(F16_2020, lat_min = 70.0, lat_max = 71.0)\n",
    "fts_F16_2020 = create_ltod(F16_2020, lat_max = -70.0, lat_min = -71.0)\n"
   ]
  },
  {
   "cell_type": "code",
   "execution_count": null,
   "metadata": {},
   "outputs": [],
   "source": [
    "ftn_F16_2019 = create_ltod(F16_2019, lat_min = 70.0, lat_max = 71.0)\n",
    "fts_F16_2019 = create_ltod(F16_2019, lat_max = -70.0, lat_min = -71.0)\n",
    "ftn_F16_2020 = create_ltod(F16_2020, lat_min = 70.0, lat_max = 71.0)\n",
    "fts_F16_2020 = create_ltod(F16_2020, lat_max = -70.0, lat_min = -71.0)\n",
    "ftn_F16_2021 = create_ltod(F16_2021, lat_min = 70.0, lat_max = 71.0)\n",
    "fts_F16_2021 = create_ltod(F16_2021, lat_max = -70.0, lat_min = -71.0)\n",
    "ftn_F16_2022 = create_ltod(F16_2022, lat_min = 70.0, lat_max = 71.0)\n",
    "fts_F16_2022 = create_ltod(F16_2022, lat_max = -70.0, lat_min = -71.0)\n",
    "ftn_F16_2023 = create_ltod(F16_2023, lat_min = 70.0, lat_max = 71.0)\n",
    "fts_F16_2023 = create_ltod(F16_2023, lat_max = -70.0, lat_min = -71.0)"
   ]
  },
  {
   "cell_type": "code",
   "execution_count": null,
   "metadata": {},
   "outputs": [],
   "source": [
    "print(len(F16_2017))"
   ]
  },
  {
   "cell_type": "code",
   "execution_count": null,
   "metadata": {},
   "outputs": [],
   "source": [
    "%cd /scratch/summit/moha2290/AMSR2_GSX"
   ]
  },
  {
   "cell_type": "code",
   "execution_count": null,
   "metadata": {},
   "outputs": [],
   "source": [
    "#A2_2012 = sort(glob.glob(\"/projects/PMESDR/vagrant/AMSR2_GSX/*V.2012070[234]*.nc\"))\n",
    "#print (len(A2_2012))\n",
    "A2_2016 = sort(glob.glob(\"/projects/PMESDR/vagrant/AMSR2_GSX/*V.2016070[234]*.nc\"))\n",
    "print(len(A2_2016))\n",
    "#A2_2021 = sort(glob.glob(\"/scratch/summit/moha2290/AMSR2_GSX/*V.2021070[456]*.nc\"))\n",
    "#print (len(A2_2012), len(A2_2016), len(A2_2021))"
   ]
  },
  {
   "cell_type": "code",
   "execution_count": null,
   "metadata": {},
   "outputs": [],
   "source": [
    "%cd /projects/PMESDR/vagrant"
   ]
  },
  {
   "cell_type": "code",
   "execution_count": null,
   "metadata": {},
   "outputs": [],
   "source": [
    "ftn_A2_2016 = create_ltod(A2_2016, lat_min = 70.0, lat_max = 71.0)\n",
    "fts_A2_2016 = create_ltod(A2_2016, lat_max = -70.0, lat_min = -71.0)"
   ]
  },
  {
   "cell_type": "code",
   "execution_count": null,
   "metadata": {},
   "outputs": [],
   "source": [
    "fig = plt.figure(figsize=(15,12))\n",
    "plt.suptitle('LTOD calculations based on observations between 70 and 71 N/S latitudes')\n",
    "a = fig.add_subplot(1,2,1)\n",
    "plt.hist(ftn_A2_2016, bins=(np.arange(25)))\n",
    "a.set_title('AMSR2 North - July 2016')\n",
    "plt.plot([8, 8], [0, 35000], color='r', linestyle='--')\n",
    "plt.plot([20, 20], [0, 35000], color='r', linestyle='--')\n",
    "a = fig.add_subplot(1, 2, 2)\n",
    "plt.hist(fts_A2_2012, bins=(np.arange(25)))\n",
    "a.set_title('AMSR2 South - July 2016')\n",
    "plt.plot([8, 8], [0, 35000], color='r', linestyle='--')\n",
    "plt.plot([20, 20], [0, 35000], color='r', linestyle='--')\n",
    "plt.show\n",
    "fig.savefig('/projects/PMESDR/vagrant/LTOD/AMSR2_2016_ltod.png')"
   ]
  },
  {
   "cell_type": "code",
   "execution_count": null,
   "metadata": {},
   "outputs": [],
   "source": []
  }
 ],
 "metadata": {
  "kernelspec": {
   "display_name": "Python 3",
   "language": "python",
   "name": "python3"
  },
  "language_info": {
   "codemirror_mode": {
    "name": "ipython",
    "version": 3
   },
   "file_extension": ".py",
   "mimetype": "text/x-python",
   "name": "python",
   "nbconvert_exporter": "python",
   "pygments_lexer": "ipython3",
   "version": "3.5.6"
  }
 },
 "nbformat": 4,
 "nbformat_minor": 4
}
